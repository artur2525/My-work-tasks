{
 "cells": [
  {
   "cell_type": "markdown",
   "id": "cfbe01be",
   "metadata": {},
   "source": [
    "Всевозможные пользователи во всевозможные моменты в будущем – это наша генеральная совокупность.  В идеале, мы бы взяли и сгенерировали из неё 10,000 выборок аналогичного размера, что и наша, на каждой посчитали бы ROC-AUC, и выбрали бы квантили, соответствующие LCB и UCB. Ничего ещё не напоминает?\n",
    "\n",
    "К сожалению, доступа к генеральной совокупности у нас нет, в будущее пока смотреть не научились (а значит, нет и аналитической функции распределения, из которой произошли наши данные) – а есть лишь одна такая выборка (по которой мы можем построить лишь эмпирическую функцию распределения).\n",
    "\n",
    "Не страшно – эмпирическая функция распределения неплохо аппроксимирует аналитическую, по крайней мере, это лучшее, что у нас есть. Давайте возьмём и сгенерируем 10,000 псевдо-выборок на основе данной."
   ]
  },
  {
   "cell_type": "code",
   "execution_count": 68,
   "id": "b85785cf",
   "metadata": {
    "ExecuteTime": {
     "end_time": "2023-07-31T14:57:41.281884Z",
     "start_time": "2023-07-31T14:57:41.277051Z"
    }
   },
   "outputs": [],
   "source": [
    "from typing import Tuple\n",
    "\n",
    "import numpy as np\n",
    "from sklearn.base import ClassifierMixin\n",
    "from sklearn.metrics import roc_auc_score\n",
    "import random\n",
    "\n",
    "\n",
    "def roc_auc_ci(\n",
    "    classifier: ClassifierMixin,\n",
    "    X: np.ndarray,\n",
    "    y: np.ndarray,\n",
    "    conf: float = 0.95,\n",
    "    n_bootstraps: int = 10_000,\n",
    ") -> Tuple[float, float]:\n",
    "    \"\"\"Returns confidence bounds of the ROC-AUC\"\"\"\n",
    "\n",
    "    # operation with sampling\n",
    "    y_res = y\n",
    "    size = len(y)\n",
    "    y_pred = classifier.predict_proba(X)[:, 1]\n",
    "\n",
    "    def bootstrap(y_res: np.ndarray, y_pred: np.ndarray) -> float:\n",
    "        while True:\n",
    "            mask = np.random.choice(range(0, size), size=size, replace = True)\n",
    "            if len(np.unique(y_res[mask])) > 1: break\n",
    "        return roc_auc_score(y_res[mask], y_pred[mask])\n",
    "    scores = []\n",
    "    for _ in range(n_bootstraps):\n",
    "        score = bootstrap(y_res, y_pred)\n",
    "        scores.append(score)\n",
    "\n",
    "    alpha = conf\n",
    "    lcb, ucb = np.quantile(scores, q=[(1 - alpha)/2, alpha + (1 - alpha)/2])\n",
    "\n",
    "    return (lcb, ucb)"
   ]
  },
  {
   "cell_type": "code",
   "execution_count": 28,
   "id": "103696fa",
   "metadata": {
    "ExecuteTime": {
     "end_time": "2023-07-31T13:00:07.915610Z",
     "start_time": "2023-07-31T13:00:07.743261Z"
    }
   },
   "outputs": [
    {
     "data": {
      "text/html": [
       "<style>#sk-container-id-2 {color: black;background-color: white;}#sk-container-id-2 pre{padding: 0;}#sk-container-id-2 div.sk-toggleable {background-color: white;}#sk-container-id-2 label.sk-toggleable__label {cursor: pointer;display: block;width: 100%;margin-bottom: 0;padding: 0.3em;box-sizing: border-box;text-align: center;}#sk-container-id-2 label.sk-toggleable__label-arrow:before {content: \"▸\";float: left;margin-right: 0.25em;color: #696969;}#sk-container-id-2 label.sk-toggleable__label-arrow:hover:before {color: black;}#sk-container-id-2 div.sk-estimator:hover label.sk-toggleable__label-arrow:before {color: black;}#sk-container-id-2 div.sk-toggleable__content {max-height: 0;max-width: 0;overflow: hidden;text-align: left;background-color: #f0f8ff;}#sk-container-id-2 div.sk-toggleable__content pre {margin: 0.2em;color: black;border-radius: 0.25em;background-color: #f0f8ff;}#sk-container-id-2 input.sk-toggleable__control:checked~div.sk-toggleable__content {max-height: 200px;max-width: 100%;overflow: auto;}#sk-container-id-2 input.sk-toggleable__control:checked~label.sk-toggleable__label-arrow:before {content: \"▾\";}#sk-container-id-2 div.sk-estimator input.sk-toggleable__control:checked~label.sk-toggleable__label {background-color: #d4ebff;}#sk-container-id-2 div.sk-label input.sk-toggleable__control:checked~label.sk-toggleable__label {background-color: #d4ebff;}#sk-container-id-2 input.sk-hidden--visually {border: 0;clip: rect(1px 1px 1px 1px);clip: rect(1px, 1px, 1px, 1px);height: 1px;margin: -1px;overflow: hidden;padding: 0;position: absolute;width: 1px;}#sk-container-id-2 div.sk-estimator {font-family: monospace;background-color: #f0f8ff;border: 1px dotted black;border-radius: 0.25em;box-sizing: border-box;margin-bottom: 0.5em;}#sk-container-id-2 div.sk-estimator:hover {background-color: #d4ebff;}#sk-container-id-2 div.sk-parallel-item::after {content: \"\";width: 100%;border-bottom: 1px solid gray;flex-grow: 1;}#sk-container-id-2 div.sk-label:hover label.sk-toggleable__label {background-color: #d4ebff;}#sk-container-id-2 div.sk-serial::before {content: \"\";position: absolute;border-left: 1px solid gray;box-sizing: border-box;top: 0;bottom: 0;left: 50%;z-index: 0;}#sk-container-id-2 div.sk-serial {display: flex;flex-direction: column;align-items: center;background-color: white;padding-right: 0.2em;padding-left: 0.2em;position: relative;}#sk-container-id-2 div.sk-item {position: relative;z-index: 1;}#sk-container-id-2 div.sk-parallel {display: flex;align-items: stretch;justify-content: center;background-color: white;position: relative;}#sk-container-id-2 div.sk-item::before, #sk-container-id-2 div.sk-parallel-item::before {content: \"\";position: absolute;border-left: 1px solid gray;box-sizing: border-box;top: 0;bottom: 0;left: 50%;z-index: -1;}#sk-container-id-2 div.sk-parallel-item {display: flex;flex-direction: column;z-index: 1;position: relative;background-color: white;}#sk-container-id-2 div.sk-parallel-item:first-child::after {align-self: flex-end;width: 50%;}#sk-container-id-2 div.sk-parallel-item:last-child::after {align-self: flex-start;width: 50%;}#sk-container-id-2 div.sk-parallel-item:only-child::after {width: 0;}#sk-container-id-2 div.sk-dashed-wrapped {border: 1px dashed gray;margin: 0 0.4em 0.5em 0.4em;box-sizing: border-box;padding-bottom: 0.4em;background-color: white;}#sk-container-id-2 div.sk-label label {font-family: monospace;font-weight: bold;display: inline-block;line-height: 1.2em;}#sk-container-id-2 div.sk-label-container {text-align: center;}#sk-container-id-2 div.sk-container {/* jupyter's `normalize.less` sets `[hidden] { display: none; }` but bootstrap.min.css set `[hidden] { display: none !important; }` so we also need the `!important` here to be able to override the default hidden behavior on the sphinx rendered scikit-learn.org. See: https://github.com/scikit-learn/scikit-learn/issues/21755 */display: inline-block !important;position: relative;}#sk-container-id-2 div.sk-text-repr-fallback {display: none;}</style><div id=\"sk-container-id-2\" class=\"sk-top-container\"><div class=\"sk-text-repr-fallback\"><pre>RandomForestClassifier()</pre><b>In a Jupyter environment, please rerun this cell to show the HTML representation or trust the notebook. <br />On GitHub, the HTML representation is unable to render, please try loading this page with nbviewer.org.</b></div><div class=\"sk-container\" hidden><div class=\"sk-item\"><div class=\"sk-estimator sk-toggleable\"><input class=\"sk-toggleable__control sk-hidden--visually\" id=\"sk-estimator-id-2\" type=\"checkbox\" checked><label for=\"sk-estimator-id-2\" class=\"sk-toggleable__label sk-toggleable__label-arrow\">RandomForestClassifier</label><div class=\"sk-toggleable__content\"><pre>RandomForestClassifier()</pre></div></div></div></div></div>"
      ],
      "text/plain": [
       "RandomForestClassifier()"
      ]
     },
     "execution_count": 28,
     "metadata": {},
     "output_type": "execute_result"
    }
   ],
   "source": [
    "from sklearn.ensemble import RandomForestClassifier\n",
    "from sklearn.datasets import make_classification\n",
    "X, y = make_classification(n_samples=200, random_state = 10)\n",
    "clf = RandomForestClassifier()\n",
    "clf.fit(X, y)"
   ]
  },
  {
   "cell_type": "code",
   "execution_count": 69,
   "id": "0a7932ef",
   "metadata": {
    "ExecuteTime": {
     "end_time": "2023-07-31T14:57:47.170102Z",
     "start_time": "2023-07-31T14:57:47.133325Z"
    }
   },
   "outputs": [
    {
     "ename": "TypeError",
     "evalue": "only integer scalar arrays can be converted to a scalar index",
     "output_type": "error",
     "traceback": [
      "\u001b[0;31m---------------------------------------------------------------------------\u001b[0m",
      "\u001b[0;31mTypeError\u001b[0m                                 Traceback (most recent call last)",
      "File \u001b[0;32m<timed eval>:1\u001b[0m\n",
      "Cell \u001b[0;32mIn[68], line 30\u001b[0m, in \u001b[0;36mroc_auc_ci\u001b[0;34m(classifier, X, y, conf, n_bootstraps)\u001b[0m\n\u001b[1;32m     28\u001b[0m scores \u001b[38;5;241m=\u001b[39m []\n\u001b[1;32m     29\u001b[0m \u001b[38;5;28;01mfor\u001b[39;00m _ \u001b[38;5;129;01min\u001b[39;00m \u001b[38;5;28mrange\u001b[39m(n_bootstraps):\n\u001b[0;32m---> 30\u001b[0m     score \u001b[38;5;241m=\u001b[39m \u001b[43mbootstrap\u001b[49m\u001b[43m(\u001b[49m\u001b[43my_res\u001b[49m\u001b[43m,\u001b[49m\u001b[43m \u001b[49m\u001b[43my_pred\u001b[49m\u001b[43m)\u001b[49m\n\u001b[1;32m     31\u001b[0m     scores\u001b[38;5;241m.\u001b[39mappend(score)\n\u001b[1;32m     33\u001b[0m alpha \u001b[38;5;241m=\u001b[39m conf\n",
      "Cell \u001b[0;32mIn[68], line 26\u001b[0m, in \u001b[0;36mroc_auc_ci.<locals>.bootstrap\u001b[0;34m(y_res, y_pred)\u001b[0m\n\u001b[1;32m     24\u001b[0m \u001b[38;5;28;01mwhile\u001b[39;00m \u001b[38;5;28;01mTrue\u001b[39;00m:\n\u001b[1;32m     25\u001b[0m     mask \u001b[38;5;241m=\u001b[39m np\u001b[38;5;241m.\u001b[39mrandom\u001b[38;5;241m.\u001b[39mchoice(\u001b[38;5;28mrange\u001b[39m(\u001b[38;5;241m0\u001b[39m, size), size\u001b[38;5;241m=\u001b[39msize, replace \u001b[38;5;241m=\u001b[39m \u001b[38;5;28;01mTrue\u001b[39;00m)\n\u001b[0;32m---> 26\u001b[0m     \u001b[38;5;28;01mif\u001b[39;00m \u001b[38;5;28mlen\u001b[39m(np\u001b[38;5;241m.\u001b[39munique( \u001b[43my_res\u001b[49m\u001b[43m[\u001b[49m\u001b[43mmask\u001b[49m\u001b[43m]\u001b[49m )) \u001b[38;5;241m==\u001b[39m \u001b[38;5;241m2\u001b[39m: \u001b[38;5;28;01mbreak\u001b[39;00m \n\u001b[1;32m     27\u001b[0m \u001b[38;5;28;01mreturn\u001b[39;00m roc_auc_score(y_res[mask], y_pred[mask])\n",
      "\u001b[0;31mTypeError\u001b[0m: only integer scalar arrays can be converted to a scalar index"
     ]
    }
   ],
   "source": [
    "%%time\n",
    "\n",
    "roc_auc_ci(classifier = clf, X= X, y=[0]*len(X), n_bootstraps = 1000)"
   ]
  },
  {
   "cell_type": "code",
   "execution_count": 63,
   "id": "ecb51d89",
   "metadata": {
    "ExecuteTime": {
     "end_time": "2023-08-16T17:05:01.792632Z",
     "start_time": "2023-08-16T17:05:01.781581Z"
    }
   },
   "outputs": [
    {
     "data": {
      "text/plain": [
       "array([1, 1, 1, 1, 1, 1, 1, 1, 1, 1, 1, 1])"
      ]
     },
     "execution_count": 63,
     "metadata": {},
     "output_type": "execute_result"
    }
   ],
   "source": [
    "np.flip(np.cumsum(y_prob == y_prob[0]))"
   ]
  },
  {
   "cell_type": "code",
   "execution_count": 17,
   "id": "200da022",
   "metadata": {
    "ExecuteTime": {
     "end_time": "2023-08-19T09:43:29.374785Z",
     "start_time": "2023-08-19T09:43:29.368000Z"
    }
   },
   "outputs": [
    {
     "ename": "SyntaxError",
     "evalue": "invalid character '→' (U+2192) (4059813099.py, line 2)",
     "output_type": "error",
     "traceback": [
      "\u001b[0;36m  Cell \u001b[0;32mIn[17], line 2\u001b[0;36m\u001b[0m\n\u001b[0;31m    def limit_gmv(df: pd.DataFrame) → pd.DataFrame:\u001b[0m\n\u001b[0m                                    ^\u001b[0m\n\u001b[0;31mSyntaxError\u001b[0m\u001b[0;31m:\u001b[0m invalid character '→' (U+2192)\n"
     ]
    }
   ],
   "source": [
    "import numpy as np\n",
    "import pandas as pd\n",
    "\n",
    "def limit_gmv(df: pd.DataFrame) -> pd.DataFrame:\n",
    "    '''\n",
    "    Наша модель динамического ценообразования на маркетплейсе KarpovExpress \n",
    "    '''\n",
    "\n",
    "    df_ = df.copy()\n",
    "    df_['gmv'] = np.where(np.floor(df_['gmv'] / df_['price']) > df_['stock'],\n",
    "                         df_['price'] * df_['stock'], df_['gmv'])\n",
    "\n",
    "    df_['gmv'] = np.where(np.floor(df_['gmv'] / df_['price']) != (df_['gmv'] / df_['price']),\n",
    "                         np.floor(df_['gmv'] / df_['price']) * df_['price'], df_['gmv'])\n",
    "    return df_"
   ]
  },
  {
   "cell_type": "code",
   "execution_count": 1,
   "id": "5d5fd8c8",
   "metadata": {
    "ExecuteTime": {
     "end_time": "2023-08-18T11:04:56.156215Z",
     "start_time": "2023-08-18T11:04:56.151070Z"
    }
   },
   "outputs": [],
   "source": [
    "check_1 = np.abs(np.array([1,1,0,0]))"
   ]
  },
  {
   "cell_type": "code",
   "execution_count": 2,
   "id": "3bdd74a8",
   "metadata": {
    "ExecuteTime": {
     "end_time": "2023-08-18T11:04:57.498149Z",
     "start_time": "2023-08-18T11:04:57.492967Z"
    }
   },
   "outputs": [],
   "source": [
    "check_2 = np.abs(np.array([1,1,0,0]))"
   ]
  },
  {
   "cell_type": "code",
   "execution_count": 3,
   "id": "2c65a92a",
   "metadata": {
    "ExecuteTime": {
     "end_time": "2023-08-18T11:04:58.542933Z",
     "start_time": "2023-08-18T11:04:58.538318Z"
    }
   },
   "outputs": [
    {
     "data": {
      "text/plain": [
       "array([False, False,  True,  True])"
      ]
     },
     "execution_count": 3,
     "metadata": {},
     "output_type": "execute_result"
    }
   ],
   "source": [
    "check_1 == 0"
   ]
  },
  {
   "cell_type": "code",
   "execution_count": 4,
   "id": "cbf6a6f8",
   "metadata": {
    "ExecuteTime": {
     "end_time": "2023-08-18T11:04:59.617217Z",
     "start_time": "2023-08-18T11:04:59.605152Z"
    }
   },
   "outputs": [
    {
     "data": {
      "text/plain": [
       "array([False, False,  True,  True])"
      ]
     },
     "execution_count": 4,
     "metadata": {},
     "output_type": "execute_result"
    }
   ],
   "source": [
    "check_2 == 0"
   ]
  },
  {
   "cell_type": "code",
   "execution_count": 5,
   "id": "021dc472",
   "metadata": {
    "ExecuteTime": {
     "end_time": "2023-08-18T11:05:00.469964Z",
     "start_time": "2023-08-18T11:05:00.459476Z"
    }
   },
   "outputs": [
    {
     "data": {
      "text/plain": [
       "(array([2, 3]),)"
      ]
     },
     "execution_count": 5,
     "metadata": {},
     "output_type": "execute_result"
    }
   ],
   "source": [
    "np.where(check_2 == 0) "
   ]
  },
  {
   "cell_type": "code",
   "execution_count": 15,
   "id": "390a58b9",
   "metadata": {
    "ExecuteTime": {
     "end_time": "2023-08-18T11:08:07.734288Z",
     "start_time": "2023-08-18T11:08:07.730295Z"
    }
   },
   "outputs": [
    {
     "data": {
      "text/plain": [
       "array([2, 2, 1, 1])"
      ]
     },
     "execution_count": 15,
     "metadata": {},
     "output_type": "execute_result"
    }
   ],
   "source": [
    "np.where(np.abs(check_1) + np.abs(check_2) == 0, 1, np.abs(check_1) + np.abs(check_2))"
   ]
  },
  {
   "cell_type": "code",
   "execution_count": 16,
   "id": "00e296ca",
   "metadata": {
    "ExecuteTime": {
     "end_time": "2023-08-18T11:32:39.719490Z",
     "start_time": "2023-08-18T11:32:39.702229Z"
    }
   },
   "outputs": [
    {
     "data": {
      "text/plain": [
       "1.0"
      ]
     },
     "execution_count": 16,
     "metadata": {},
     "output_type": "execute_result"
    }
   ],
   "source": [
    "np.floor(1.8)"
   ]
  },
  {
   "cell_type": "code",
   "execution_count": 8,
   "id": "0d8af138",
   "metadata": {
    "ExecuteTime": {
     "end_time": "2023-08-18T11:05:36.035679Z",
     "start_time": "2023-08-18T11:05:36.028588Z"
    }
   },
   "outputs": [
    {
     "data": {
      "text/plain": [
       "array([[1, 1]])"
      ]
     },
     "execution_count": 8,
     "metadata": {},
     "output_type": "execute_result"
    }
   ],
   "source": [
    "asd"
   ]
  },
  {
   "cell_type": "code",
   "execution_count": 15,
   "id": "29dac74e",
   "metadata": {
    "ExecuteTime": {
     "end_time": "2023-08-18T10:47:17.738271Z",
     "start_time": "2023-08-18T10:47:17.725145Z"
    }
   },
   "outputs": [
    {
     "ename": "ValueError",
     "evalue": "The truth value of an array with more than one element is ambiguous. Use a.any() or a.all()",
     "output_type": "error",
     "traceback": [
      "\u001b[0;31m---------------------------------------------------------------------------\u001b[0m",
      "\u001b[0;31mValueError\u001b[0m                                Traceback (most recent call last)",
      "Cell \u001b[0;32mIn[15], line 1\u001b[0m\n\u001b[0;32m----> 1\u001b[0m np\u001b[38;5;241m.\u001b[39mwhere(check_1 \u001b[38;5;241m==\u001b[39m check_2 \u001b[38;5;241m&\u001b[39m check_1 \u001b[38;5;241m==\u001b[39m \u001b[38;5;241m0\u001b[39m \u001b[38;5;241m&\u001b[39m check_2 \u001b[38;5;241m==\u001b[39m \u001b[38;5;241m0\u001b[39m, \u001b[38;5;241m1\u001b[39m, check_1)\n",
      "\u001b[0;31mValueError\u001b[0m: The truth value of an array with more than one element is ambiguous. Use a.any() or a.all()"
     ]
    }
   ],
   "source": [
    "np.where(check_1 == check_2 & check_1 == 0 & check_2 == 0, 1, check_1)"
   ]
  },
  {
   "cell_type": "code",
   "execution_count": 7,
   "id": "643752d3",
   "metadata": {
    "ExecuteTime": {
     "end_time": "2023-08-18T10:34:34.129742Z",
     "start_time": "2023-08-18T10:34:34.125875Z"
    }
   },
   "outputs": [
    {
     "ename": "SyntaxError",
     "evalue": "incomplete input (1891094280.py, line 1)",
     "output_type": "error",
     "traceback": [
      "\u001b[0;36m  Cell \u001b[0;32mIn[7], line 1\u001b[0;36m\u001b[0m\n\u001b[0;31m    np.abs(np.array([1,1,1])) +  np.abs(np.array([1,1,1])) == np.ones(len(np.array([1,1,1]))\u001b[0m\n\u001b[0m                                                                                            ^\u001b[0m\n\u001b[0;31mSyntaxError\u001b[0m\u001b[0;31m:\u001b[0m incomplete input\n"
     ]
    }
   ],
   "source": [
    " +  np.abs(np.array([1,1,1])) == np.ones(len(np.array([1,1,1]))"
   ]
  },
  {
   "cell_type": "markdown",
   "id": "e6ed5901",
   "metadata": {},
   "source": [
    "Second task\n"
   ]
  },
  {
   "cell_type": "code",
   "execution_count": 1,
   "id": "f822e357",
   "metadata": {
    "ExecuteTime": {
     "end_time": "2023-08-18T10:29:50.041762Z",
     "start_time": "2023-08-18T10:29:50.028020Z"
    }
   },
   "outputs": [],
   "source": [
    "from typing import Tuple, Dict, List\n",
    "import numpy as np\n",
    "\n",
    "\n",
    "def bootstrap(y_true: np.ndarray, y_prob: np.ndarray):\n",
    "    size = len(y_prob) + 1\n",
    "    while True:\n",
    "        mask = np.random.choice(range(0, size),\n",
    "                                size=size, replace=True)\n",
    "        if len(np.unique(mask)) > 1:\n",
    "            break\n",
    "    threes = []\n",
    "    indec = np.insert(y_prob, 0, 1)\n",
    "    for i in mask:\n",
    "        y_proba = np.flip(np.cumsum(y_prob == indec[-i]))\n",
    "        recall, precision, specificity = metrics(y_true, y_proba)\n",
    "        threes.append([indec[i], recall, precision, specificity])\n",
    "\n",
    "    threes = np.nan_to_num(threes)\n",
    "    return threes\n",
    "\n",
    "\n",
    "def metrics(y_true_, y_proba_):\n",
    "\n",
    "    tp = np.sum((y_true_ == 1) & (y_proba_ == 1))\n",
    "    fp = np.sum((y_true_ == 0) & (y_proba_ == 1))\n",
    "    tn = np.sum((y_true_ == 0) & (y_proba_ == 0))\n",
    "    fn = np.sum((y_true_ == 1) & (y_proba_ == 0))\n",
    "    specificity = tn / (tn + fp)\n",
    "    recall = tp / (tp + fn)\n",
    "    precision = tp / (tp + fp)\n",
    "    return recall, precision, specificity\n",
    "\n",
    "\n",
    "def create_curve(y_true, y_prob):\n",
    "\n",
    "    threes = []\n",
    "    indec = np.insert(y_prob, 0, 1)\n",
    "    size = len(y_prob) + 1\n",
    "    for i in range(0, size):\n",
    "        y_proba = np.flip(np.cumsum(y_prob == indec[-i]))\n",
    "        recall, precision, specificity = metrics(y_true, y_proba)\n",
    "        threes.append([indec[i], recall, precision, specificity])\n",
    "\n",
    "    threes = np.nan_to_num(threes)\n",
    "    \n",
    "    return threes\n",
    "\n",
    "\n",
    "def pr_threshold(\n",
    "    y_true: np.ndarray,\n",
    "    y_prob: np.ndarray,\n",
    "    min_precision: float,\n",
    ") -> Tuple[float, float]:\n",
    "    \"\"\"Returns threshold and recall (from Precision-Recall Curve)\"\"\"\n",
    "\n",
    "    curve = create_curve(y_true, y_prob)\n",
    "\n",
    "    curve = curve[curve[:, 2] >= min_precision]\n",
    "    curve = curve[np.where(curve[:, 1] == max(curve[:, 1]))]\n",
    "    curve = curve[np.where(curve[:, 0] == max(curve[:, 0]))]\n",
    "\n",
    "    threshold_proba, max_recall = curve[0][0], curve[0][1]\n",
    "\n",
    "    return threshold_proba, max_recall\n",
    "\n",
    "# x = threshold, y = recall, h = precision, z = specificity\n",
    "\n",
    "\n",
    "def sr_threshold(\n",
    "    y_true: np.ndarray,\n",
    "    y_prob: np.ndarray,\n",
    "    min_specificity: float,\n",
    ") -> Tuple[float, float]:\n",
    "    \"\"\"Returns threshold and recall (from Specificity-Recall Curve)\"\"\"\n",
    "\n",
    "    curve = create_curve(y_true, y_prob)\n",
    "\n",
    "    curve = curve[curve[:, 3] >= min_specificity]\n",
    "    curve = curve[np.where(curve[:, 1] == max(curve[:, 1]))]\n",
    "    curve = curve[np.where(curve[:, 0] == max(curve[:, 0]))]\n",
    "\n",
    "    threshold_proba, max_recall = curve[0][0], curve[0][1]\n",
    "\n",
    "    return threshold_proba, max_recall\n",
    "\n",
    "\n",
    "def pr_curve(\n",
    "    y_true: np.ndarray,\n",
    "    y_prob: np.ndarray,\n",
    "    conf: float = 0.95,\n",
    "    n_bootstrap: int = 10_000,\n",
    ") -> Tuple[np.ndarray, np.ndarray, np.ndarray, np.ndarray]:\n",
    "    \"\"\"Returns Precision-Recall curve and it's (LCB, UCB)\"\"\"\n",
    "\n",
    "    prec = []\n",
    "    alpha = conf\n",
    "    size = len(y_prob) + 1\n",
    "    curve = create_curve(y_true, y_prob)\n",
    "    scores_pr = curve[:, 2]\n",
    "    scores_rec = curve[:, 1]\n",
    "    \n",
    "    for _ in range(n_bootstrap):\n",
    "        curve = bootstrap(y_true, y_prob)\n",
    "        prec.append(curve[:, 2])\n",
    "\n",
    "    precision_lcb = []\n",
    "    precision_ucb = []\n",
    "\n",
    "    for i in range(size):\n",
    "\n",
    "        precision_lcb.append(np.quantile(np.array(prec)[:, i],\n",
    "                                         q=(1 - alpha/2)))\n",
    "        precision_ucb.append(np.quantile(np.array(prec)[:, i],\n",
    "                                         q=(alpha + (1 - alpha)/2)))\n",
    "\n",
    "    return scores_rec, scores_pr, np.array(precision_lcb), np.array(precision_ucb)\n",
    "\n",
    "# x = threshold, y = recall, h = precision, z = specificity\n",
    "\n",
    "\n",
    "def sr_curve(\n",
    "    y_true: np.ndarray,\n",
    "    y_prob: np.ndarray,\n",
    "    conf: float = 0.95,\n",
    "    n_bootstrap: int = 10_000,\n",
    ") -> Tuple[np.ndarray, np.ndarray, np.ndarray, np.ndarray]:\n",
    "    \"\"\"Returns Specificity-Recall curve and it's (LCB, UCB)\"\"\"\n",
    "\n",
    "    prec = []\n",
    "    alpha = conf\n",
    "    size = len(y_prob) + 1\n",
    "    curve = create_curve(y_true, y_prob)\n",
    "    scores_spec = curve[:, 3]\n",
    "    scores_rec = curve[:, 1]\n",
    "\n",
    "    for _ in range(n_bootstrap):\n",
    "        curve = bootstrap(y_true, y_prob)\n",
    "        prec.append(curve[:, 3])\n",
    "\n",
    "    specificity_lcb = []\n",
    "    specificity_ucb = []\n",
    "\n",
    "    for i in range(size):\n",
    "\n",
    "        specificity_lcb.append(np.quantile(np.array(prec)[:, i],\n",
    "                                           q=(1 - alpha/2)))\n",
    "\n",
    "        specificity_ucb.append(np.quantile(np.array(prec)[:, i],\n",
    "                                           q=(alpha + (1 - alpha)/2)))\n",
    "\n",
    "    return scores_rec, scores_spec, np.array(specificity_lcb), np.array(specificity_ucb)"
   ]
  },
  {
   "cell_type": "code",
   "execution_count": 33,
   "id": "3abc8e41",
   "metadata": {
    "ExecuteTime": {
     "end_time": "2023-08-17T07:59:31.625336Z",
     "start_time": "2023-08-17T07:59:31.610104Z"
    }
   },
   "outputs": [
    {
     "name": "stdout",
     "output_type": "stream",
     "text": [
      "[0 0 0 0 1 1 0]\n",
      "[0.85714286 0.71428571 0.57142857 0.42857143 0.28571429 0.14285714\n",
      " 0.        ]\n",
      "[1 1 1 1 1 1 1]\n"
     ]
    }
   ],
   "source": [
    "import matplotlib.pyplot as plt\n",
    "N = 7\n",
    "y_true = np.random.randint(0, 2, N)\n",
    "y_prob = np.array(sorted(np.arange(0,1, 1/N), reverse=True))\n",
    "weights = np.array([1 for _ in range(N)])\n",
    "\n",
    "print(y_true[:10])\n",
    "print(y_prob[:10])\n",
    "print(weights[:10])"
   ]
  },
  {
   "cell_type": "code",
   "execution_count": 14,
   "id": "b395d8bc",
   "metadata": {
    "ExecuteTime": {
     "end_time": "2023-08-17T07:32:05.582030Z",
     "start_time": "2023-08-17T07:32:03.416888Z"
    }
   },
   "outputs": [
    {
     "name": "stderr",
     "output_type": "stream",
     "text": [
      "/tmp/ipykernel_208252/1130350206.py:31: RuntimeWarning: invalid value encountered in scalar divide\n",
      "  precision = tp / (tp + fp)\n"
     ]
    },
    {
     "data": {
      "text/plain": [
       "array([[0.45776   , 0.45521907, 0.49379696, 0.53957406],\n",
       "       [0.6072    , 0.61001933, 0.49888025, 0.39542276],\n",
       "       [0.10408   , 0.10550902, 0.5030722 , 0.89717101],\n",
       "       ...,\n",
       "       [0.8172    , 0.8189433 , 0.49765074, 0.18436109],\n",
       "       [0.65984   , 0.66317655, 0.4990908 , 0.34329307],\n",
       "       [0.67072   , 0.67445232, 0.49934407, 0.33280356]])"
      ]
     },
     "execution_count": 14,
     "metadata": {},
     "output_type": "execute_result"
    }
   ],
   "source": [
    "bootstrap(y_true, y_prob)"
   ]
  },
  {
   "cell_type": "code",
   "execution_count": 147,
   "id": "8fba0fa6",
   "metadata": {
    "ExecuteTime": {
     "end_time": "2023-08-16T16:41:12.104669Z",
     "start_time": "2023-08-16T16:41:12.096972Z"
    }
   },
   "outputs": [],
   "source": [
    "mask = range(0, len(y_prob) + 1)"
   ]
  },
  {
   "cell_type": "code",
   "execution_count": 148,
   "id": "fbfd7295",
   "metadata": {
    "ExecuteTime": {
     "end_time": "2023-08-16T16:41:13.092276Z",
     "start_time": "2023-08-16T16:41:13.089375Z"
    }
   },
   "outputs": [
    {
     "data": {
      "text/plain": [
       "range(0, 13)"
      ]
     },
     "execution_count": 148,
     "metadata": {},
     "output_type": "execute_result"
    }
   ],
   "source": [
    "mask"
   ]
  },
  {
   "cell_type": "code",
   "execution_count": 51,
   "id": "a3c4058c",
   "metadata": {
    "ExecuteTime": {
     "end_time": "2023-08-17T08:43:34.421718Z",
     "start_time": "2023-08-17T08:43:34.404967Z"
    }
   },
   "outputs": [
    {
     "name": "stderr",
     "output_type": "stream",
     "text": [
      "/tmp/ipykernel_208252/1535944227.py:31: RuntimeWarning: invalid value encountered in scalar divide\n",
      "  precision = tp / (tp + fp)\n"
     ]
    },
    {
     "data": {
      "text/plain": [
       "array([[1.        , 0.        , 0.        , 1.        ],\n",
       "       [0.85714286, 0.        , 0.        , 0.8       ],\n",
       "       [0.71428571, 0.        , 0.        , 0.6       ],\n",
       "       [0.57142857, 0.        , 0.        , 0.4       ],\n",
       "       [0.42857143, 0.        , 0.        , 0.2       ],\n",
       "       [0.28571429, 0.5       , 0.2       , 0.2       ],\n",
       "       [0.14285714, 1.        , 0.33333333, 0.2       ],\n",
       "       [0.        , 1.        , 0.28571429, 0.        ]])"
      ]
     },
     "execution_count": 51,
     "metadata": {},
     "output_type": "execute_result"
    }
   ],
   "source": [
    "create_curve(y_true, y_prob)"
   ]
  },
  {
   "cell_type": "code",
   "execution_count": 94,
   "id": "d73241bd",
   "metadata": {
    "ExecuteTime": {
     "end_time": "2023-08-16T16:20:24.627624Z",
     "start_time": "2023-08-16T16:20:24.624450Z"
    }
   },
   "outputs": [],
   "source": [
    "asd =  np.array([0.8,0.6,0.5, 0.1, 0])"
   ]
  },
  {
   "cell_type": "code",
   "execution_count": 157,
   "id": "b7cfbf57",
   "metadata": {
    "ExecuteTime": {
     "end_time": "2023-08-16T16:43:53.899408Z",
     "start_time": "2023-08-16T16:43:53.896243Z"
    }
   },
   "outputs": [
    {
     "data": {
      "text/plain": [
       "array([0, 0, 0, 0, 0])"
      ]
     },
     "execution_count": 157,
     "metadata": {},
     "output_type": "execute_result"
    }
   ],
   "source": [
    "np.cumsum(asd == 1)"
   ]
  },
  {
   "cell_type": "code",
   "execution_count": 161,
   "id": "83ffb69f",
   "metadata": {
    "ExecuteTime": {
     "end_time": "2023-08-16T08:56:55.389828Z",
     "start_time": "2023-08-16T08:56:55.380521Z"
    }
   },
   "outputs": [
    {
     "name": "stdout",
     "output_type": "stream",
     "text": [
      "0.8\n",
      "0.6\n",
      "0.5\n",
      "0.1\n",
      "0.0\n"
     ]
    }
   ],
   "source": [
    "for i in np.array([0.8, 0.6, 0.5, 0.1, 0]):\n",
    "    print(i)"
   ]
  },
  {
   "cell_type": "code",
   "execution_count": 76,
   "id": "356f1d76",
   "metadata": {
    "ExecuteTime": {
     "end_time": "2023-08-14T10:36:36.424361Z",
     "start_time": "2023-08-14T10:36:36.412559Z"
    }
   },
   "outputs": [
    {
     "data": {
      "text/plain": [
       "(array([0, 2]),)"
      ]
     },
     "execution_count": 76,
     "metadata": {},
     "output_type": "execute_result"
    }
   ],
   "source": [
    "np.where(curve[:, 1] == max(curve[:, 1]))"
   ]
  },
  {
   "cell_type": "code",
   "execution_count": 90,
   "id": "a339f3c2",
   "metadata": {
    "ExecuteTime": {
     "end_time": "2023-08-17T08:56:43.897724Z",
     "start_time": "2023-08-17T08:56:43.886034Z"
    }
   },
   "outputs": [
    {
     "name": "stdout",
     "output_type": "stream",
     "text": [
      "CPU times: user 2.55 ms, sys: 9 µs, total: 2.56 ms\n",
      "Wall time: 2.33 ms\n"
     ]
    },
    {
     "name": "stderr",
     "output_type": "stream",
     "text": [
      "/tmp/ipykernel_208252/1201223993.py:31: RuntimeWarning: invalid value encountered in scalar divide\n",
      "  precision = tp / (tp + fp)\n"
     ]
    },
    {
     "data": {
      "text/plain": [
       "(0.14285714285714285, 1.0)"
      ]
     },
     "execution_count": 90,
     "metadata": {},
     "output_type": "execute_result"
    }
   ],
   "source": [
    "%%time\n",
    "pr_threshold(y_true, y_prob, 0.3)"
   ]
  },
  {
   "cell_type": "code",
   "execution_count": null,
   "id": "9e29c035",
   "metadata": {},
   "outputs": [],
   "source": []
  },
  {
   "cell_type": "code",
   "execution_count": 87,
   "id": "d05bc980",
   "metadata": {
    "ExecuteTime": {
     "end_time": "2023-08-17T08:56:34.736306Z",
     "start_time": "2023-08-17T08:56:34.720800Z"
    }
   },
   "outputs": [
    {
     "name": "stdout",
     "output_type": "stream",
     "text": [
      "CPU times: user 2.44 ms, sys: 0 ns, total: 2.44 ms\n",
      "Wall time: 2.09 ms\n"
     ]
    },
    {
     "name": "stderr",
     "output_type": "stream",
     "text": [
      "/tmp/ipykernel_208252/1201223993.py:31: RuntimeWarning: invalid value encountered in scalar divide\n",
      "  precision = tp / (tp + fp)\n"
     ]
    },
    {
     "data": {
      "text/plain": [
       "(1.0, 0.0)"
      ]
     },
     "execution_count": 87,
     "metadata": {},
     "output_type": "execute_result"
    }
   ],
   "source": [
    "%%time\n",
    "sr_threshold(y_true, y_prob, 0.5)"
   ]
  },
  {
   "cell_type": "code",
   "execution_count": 100,
   "id": "965e7429",
   "metadata": {
    "ExecuteTime": {
     "end_time": "2023-08-17T08:57:57.745647Z",
     "start_time": "2023-08-17T08:57:57.691930Z"
    },
    "scrolled": true
   },
   "outputs": [
    {
     "name": "stdout",
     "output_type": "stream",
     "text": [
      "CPU times: user 48.5 ms, sys: 3.96 ms, total: 52.4 ms\n",
      "Wall time: 50.2 ms\n"
     ]
    },
    {
     "name": "stderr",
     "output_type": "stream",
     "text": [
      "/tmp/ipykernel_208252/2385986914.py:31: RuntimeWarning: invalid value encountered in scalar divide\n",
      "  precision = tp / (tp + fp)\n"
     ]
    }
   ],
   "source": [
    "%%time\n",
    "scores_rec, scores_pr, precision_lcb, precision_ucb = pr_curve(y_true, y_prob, n_bootstrap = 100)"
   ]
  },
  {
   "cell_type": "code",
   "execution_count": 92,
   "id": "6f25519b",
   "metadata": {
    "ExecuteTime": {
     "end_time": "2023-08-17T08:57:08.902918Z",
     "start_time": "2023-08-17T08:57:08.837725Z"
    }
   },
   "outputs": [
    {
     "name": "stdout",
     "output_type": "stream",
     "text": [
      "CPU times: user 63.5 ms, sys: 28 µs, total: 63.5 ms\n",
      "Wall time: 59.7 ms\n"
     ]
    },
    {
     "name": "stderr",
     "output_type": "stream",
     "text": [
      "/tmp/ipykernel_208252/1201223993.py:31: RuntimeWarning: invalid value encountered in scalar divide\n",
      "  precision = tp / (tp + fp)\n"
     ]
    }
   ],
   "source": [
    "%%time\n",
    "scores_rec, scores_spec, spec_lcb, spec_ucb = sr_curve(y_true, y_prob, n_bootstrap = 100)"
   ]
  },
  {
   "cell_type": "code",
   "execution_count": 74,
   "id": "85444978",
   "metadata": {
    "ExecuteTime": {
     "end_time": "2023-08-17T08:53:53.358798Z",
     "start_time": "2023-08-17T08:53:53.353587Z"
    }
   },
   "outputs": [],
   "source": []
  },
  {
   "cell_type": "code",
   "execution_count": 101,
   "id": "50ffec5b",
   "metadata": {
    "ExecuteTime": {
     "end_time": "2023-08-17T08:57:59.668238Z",
     "start_time": "2023-08-17T08:57:59.656969Z"
    }
   },
   "outputs": [
    {
     "data": {
      "text/plain": [
       "array([0.28571429, 0.33333333, 0.2       , 0.        , 0.        ,\n",
       "       0.        , 0.        , 0.        ])"
      ]
     },
     "execution_count": 101,
     "metadata": {},
     "output_type": "execute_result"
    }
   ],
   "source": [
    "scores_pr"
   ]
  },
  {
   "cell_type": "code",
   "execution_count": 97,
   "id": "5f9785bf",
   "metadata": {
    "ExecuteTime": {
     "end_time": "2023-08-17T08:57:48.705033Z",
     "start_time": "2023-08-17T08:57:48.701310Z"
    }
   },
   "outputs": [
    {
     "data": {
      "text/plain": [
       "array([1. , 0.8, 0.6, 0.4, 0.2, 0.2, 0.2, 0. ])"
      ]
     },
     "execution_count": 97,
     "metadata": {},
     "output_type": "execute_result"
    }
   ],
   "source": [
    "scores_spec"
   ]
  },
  {
   "cell_type": "code",
   "execution_count": 98,
   "id": "79f7ad60",
   "metadata": {
    "ExecuteTime": {
     "end_time": "2023-08-17T08:57:49.389465Z",
     "start_time": "2023-08-17T08:57:49.385860Z"
    }
   },
   "outputs": [
    {
     "data": {
      "text/plain": [
       "array([0. , 0. , 0. , 0. , 0. , 0.5, 1. , 1. ])"
      ]
     },
     "execution_count": 98,
     "metadata": {},
     "output_type": "execute_result"
    }
   ],
   "source": [
    "scores_rec"
   ]
  },
  {
   "cell_type": "code",
   "execution_count": 102,
   "id": "c99b467f",
   "metadata": {
    "ExecuteTime": {
     "end_time": "2023-08-17T08:58:07.691812Z",
     "start_time": "2023-08-17T08:58:07.541597Z"
    }
   },
   "outputs": [
    {
     "data": {
      "image/png": "[encoded data removed]",
      "text/plain": [
       "<Figure size 640x480 with 1 Axes>"
      ]
     },
     "metadata": {},
     "output_type": "display_data"
    }
   ],
   "source": [
    "plt.plot(scores_rec,scores_pr)\n",
    "plt.xlabel('Recall')\n",
    "plt.ylabel('Precision')\n",
    "plt.title('Precision-Recall Curve')\n",
    "plt.show()"
   ]
  },
  {
   "cell_type": "code",
   "execution_count": 125,
   "id": "f23e94cb",
   "metadata": {
    "ExecuteTime": {
     "end_time": "2023-08-14T12:50:34.606994Z",
     "start_time": "2023-08-14T12:50:34.598613Z"
    }
   },
   "outputs": [
    {
     "data": {
      "text/plain": [
       "array([0.99790795, 0.99790795, 1.        , 1.        , 1.        ])"
      ]
     },
     "execution_count": 125,
     "metadata": {},
     "output_type": "execute_result"
    }
   ],
   "source": [
    "scores_rec[-5:]"
   ]
  },
  {
   "cell_type": "code",
   "execution_count": 8,
   "id": "97522c78",
   "metadata": {
    "ExecuteTime": {
     "end_time": "2023-08-11T11:07:52.253556Z",
     "start_time": "2023-08-11T11:07:52.241513Z"
    }
   },
   "outputs": [
    {
     "data": {
      "text/plain": [
       "1000"
      ]
     },
     "execution_count": 8,
     "metadata": {},
     "output_type": "execute_result"
    }
   ],
   "source": [
    "len(y_true)"
   ]
  },
  {
   "cell_type": "code",
   "execution_count": null,
   "id": "09a98c2f",
   "metadata": {
    "ExecuteTime": {
     "end_time": "2023-08-11T11:57:01.530483Z",
     "start_time": "2023-08-11T11:57:01.530450Z"
    }
   },
   "outputs": [],
   "source": [
    "len(scores_rec),len(scores_pr),len(precision_lcb),len(precision_ucb)"
   ]
  },
  {
   "cell_type": "code",
   "execution_count": 16,
   "id": "59f9a7ed",
   "metadata": {
    "ExecuteTime": {
     "end_time": "2023-08-11T11:11:17.006818Z",
     "start_time": "2023-08-11T11:11:17.003230Z"
    }
   },
   "outputs": [
    {
     "data": {
      "text/plain": [
       "(0.0, 0.625)"
      ]
     },
     "execution_count": 16,
     "metadata": {},
     "output_type": "execute_result"
    }
   ],
   "source": [
    "min(precision_ucb), max(precision_ucb)"
   ]
  },
  {
   "cell_type": "code",
   "execution_count": 27,
   "id": "5392683c",
   "metadata": {
    "ExecuteTime": {
     "end_time": "2023-08-09T08:52:37.981642Z",
     "start_time": "2023-08-09T08:52:37.972063Z"
    }
   },
   "outputs": [
    {
     "data": {
      "text/plain": [
       "1001"
      ]
     },
     "execution_count": 27,
     "metadata": {},
     "output_type": "execute_result"
    }
   ],
   "source": [
    "len(asd1)"
   ]
  },
  {
   "cell_type": "code",
   "execution_count": 71,
   "id": "d653088b",
   "metadata": {
    "ExecuteTime": {
     "end_time": "2023-08-08T15:08:30.845805Z",
     "start_time": "2023-08-08T15:08:30.833246Z"
    }
   },
   "outputs": [
    {
     "data": {
      "text/plain": [
       "0.4849699398797595"
      ]
     },
     "execution_count": 71,
     "metadata": {},
     "output_type": "execute_result"
    }
   ],
   "source": [
    "np.quantile(np.array(asd)[:,1],  q=0.95 + (1 - 0.95 )/2) "
   ]
  },
  {
   "cell_type": "code",
   "execution_count": 145,
   "id": "d983452d",
   "metadata": {
    "ExecuteTime": {
     "end_time": "2023-08-09T08:02:38.399518Z",
     "start_time": "2023-08-09T08:02:38.370263Z"
    }
   },
   "outputs": [
    {
     "data": {
      "text/plain": [
       "array([0.   , 0.001, 0.002, 0.003, 0.004, 0.005, 0.006, 0.007, 0.008,\n",
       "       0.009, 0.01 , 0.011, 0.012, 0.013, 0.014, 0.015, 0.016, 0.017,\n",
       "       0.018, 0.019, 0.02 , 0.021, 0.022, 0.023, 0.024, 0.025, 0.026,\n",
       "       0.027, 0.028, 0.029, 0.03 , 0.031, 0.032, 0.033, 0.034, 0.035,\n",
       "       0.036, 0.037, 0.038, 0.039, 0.04 , 0.041, 0.042, 0.043, 0.044,\n",
       "       0.045, 0.046, 0.047, 0.048, 0.049, 0.05 , 0.051, 0.052, 0.053,\n",
       "       0.054, 0.055, 0.056, 0.057, 0.058, 0.059, 0.06 , 0.061, 0.062,\n",
       "       0.063, 0.064, 0.065, 0.066, 0.067, 0.068, 0.069, 0.07 , 0.071,\n",
       "       0.072, 0.073, 0.074, 0.075, 0.076, 0.077, 0.078, 0.079, 0.08 ,\n",
       "       0.081, 0.082, 0.083, 0.084, 0.085, 0.086, 0.087, 0.088, 0.089,\n",
       "       0.09 , 0.091, 0.092, 0.093, 0.094, 0.095, 0.096, 0.097, 0.098,\n",
       "       0.099, 0.1  , 0.101, 0.102, 0.103, 0.104, 0.105, 0.106, 0.107,\n",
       "       0.108, 0.109, 0.11 , 0.111, 0.112, 0.113, 0.114, 0.115, 0.116,\n",
       "       0.117, 0.118, 0.119, 0.12 , 0.121, 0.122, 0.123, 0.124, 0.125,\n",
       "       0.126, 0.127, 0.128, 0.129, 0.13 , 0.131, 0.132, 0.133, 0.134,\n",
       "       0.135, 0.136, 0.137, 0.138, 0.139, 0.14 , 0.141, 0.142, 0.143,\n",
       "       0.144, 0.145, 0.146, 0.147, 0.148, 0.149, 0.15 , 0.151, 0.152,\n",
       "       0.153, 0.154, 0.155, 0.156, 0.157, 0.158, 0.159, 0.16 , 0.161,\n",
       "       0.162, 0.163, 0.164, 0.165, 0.166, 0.167, 0.168, 0.169, 0.17 ,\n",
       "       0.171, 0.172, 0.173, 0.174, 0.175, 0.176, 0.177, 0.178, 0.179,\n",
       "       0.18 , 0.181, 0.182, 0.183, 0.184, 0.185, 0.186, 0.187, 0.188,\n",
       "       0.189, 0.19 , 0.191, 0.192, 0.193, 0.194, 0.195, 0.196, 0.197,\n",
       "       0.198, 0.199, 0.2  , 0.201, 0.202, 0.203, 0.204, 0.205, 0.206,\n",
       "       0.207, 0.208, 0.209, 0.21 , 0.211, 0.212, 0.213, 0.214, 0.215,\n",
       "       0.216, 0.217, 0.218, 0.219, 0.22 , 0.221, 0.222, 0.223, 0.224,\n",
       "       0.225, 0.226, 0.227, 0.228, 0.229, 0.23 , 0.231, 0.232, 0.233,\n",
       "       0.234, 0.235, 0.236, 0.237, 0.238, 0.239, 0.24 , 0.241, 0.242,\n",
       "       0.243, 0.244, 0.245, 0.246, 0.247, 0.248, 0.249, 0.25 , 0.251,\n",
       "       0.252, 0.253, 0.254, 0.255, 0.256, 0.257, 0.258, 0.259, 0.26 ,\n",
       "       0.261, 0.262, 0.263, 0.264, 0.265, 0.266, 0.267, 0.268, 0.269,\n",
       "       0.27 , 0.271, 0.272, 0.273, 0.274, 0.275, 0.276, 0.277, 0.278,\n",
       "       0.279, 0.28 , 0.281, 0.282, 0.283, 0.284, 0.285, 0.286, 0.287,\n",
       "       0.288, 0.289, 0.29 , 0.291, 0.292, 0.293, 0.294, 0.295, 0.296,\n",
       "       0.297, 0.298, 0.299, 0.3  , 0.301, 0.302, 0.303, 0.304, 0.305,\n",
       "       0.306, 0.307, 0.308, 0.309, 0.31 , 0.311, 0.312, 0.313, 0.314,\n",
       "       0.315, 0.316, 0.317, 0.318, 0.319, 0.32 , 0.321, 0.322, 0.323,\n",
       "       0.324, 0.325, 0.326, 0.327, 0.328, 0.329, 0.33 , 0.331, 0.332,\n",
       "       0.333, 0.334, 0.335, 0.336, 0.337, 0.338, 0.339, 0.34 , 0.341,\n",
       "       0.342, 0.343, 0.344, 0.345, 0.346, 0.347, 0.348, 0.349, 0.35 ,\n",
       "       0.351, 0.352, 0.353, 0.354, 0.355, 0.356, 0.357, 0.358, 0.359,\n",
       "       0.36 , 0.361, 0.362, 0.363, 0.364, 0.365, 0.366, 0.367, 0.368,\n",
       "       0.369, 0.37 , 0.371, 0.372, 0.373, 0.374, 0.375, 0.376, 0.377,\n",
       "       0.378, 0.379, 0.38 , 0.381, 0.382, 0.383, 0.384, 0.385, 0.386,\n",
       "       0.387, 0.388, 0.389, 0.39 , 0.391, 0.392, 0.393, 0.394, 0.395,\n",
       "       0.396, 0.397, 0.398, 0.399, 0.4  , 0.401, 0.402, 0.403, 0.404,\n",
       "       0.405, 0.406, 0.407, 0.408, 0.409, 0.41 , 0.411, 0.412, 0.413,\n",
       "       0.414, 0.415, 0.416, 0.417, 0.418, 0.419, 0.42 , 0.421, 0.422,\n",
       "       0.423, 0.424, 0.425, 0.426, 0.427, 0.428, 0.429, 0.43 , 0.431,\n",
       "       0.432, 0.433, 0.434, 0.435, 0.436, 0.437, 0.438, 0.439, 0.44 ,\n",
       "       0.441, 0.442, 0.443, 0.444, 0.445, 0.446, 0.447, 0.448, 0.449,\n",
       "       0.45 , 0.451, 0.452, 0.453, 0.454, 0.455, 0.456, 0.457, 0.458,\n",
       "       0.459, 0.46 , 0.461, 0.462, 0.463, 0.464, 0.465, 0.466, 0.467,\n",
       "       0.468, 0.469, 0.47 , 0.471, 0.472, 0.473, 0.474, 0.475, 0.476,\n",
       "       0.477, 0.478, 0.479, 0.48 , 0.481, 0.482, 0.483, 0.484, 0.485,\n",
       "       0.486, 0.487, 0.488, 0.489, 0.49 , 0.491, 0.492, 0.493, 0.494,\n",
       "       0.495, 0.496, 0.497, 0.498, 0.499, 0.5  , 0.501, 0.502, 0.503,\n",
       "       0.504, 0.505, 0.506, 0.507, 0.508, 0.509, 0.51 , 0.511, 0.512,\n",
       "       0.513, 0.514, 0.515, 0.516, 0.517, 0.518, 0.519, 0.52 , 0.521,\n",
       "       0.522, 0.523, 0.524, 0.525, 0.526, 0.527, 0.528, 0.529, 0.53 ,\n",
       "       0.531, 0.532, 0.533, 0.534, 0.535, 0.536, 0.537, 0.538, 0.539,\n",
       "       0.54 , 0.541, 0.542, 0.543, 0.544, 0.545, 0.546, 0.547, 0.548,\n",
       "       0.549, 0.55 , 0.551, 0.552, 0.553, 0.554, 0.555, 0.556, 0.557,\n",
       "       0.558, 0.559, 0.56 , 0.561, 0.562, 0.563, 0.564, 0.565, 0.566,\n",
       "       0.567, 0.568, 0.569, 0.57 , 0.571, 0.572, 0.573, 0.574, 0.575,\n",
       "       0.576, 0.577, 0.578, 0.579, 0.58 , 0.581, 0.582, 0.583, 0.584,\n",
       "       0.585, 0.586, 0.587, 0.588, 0.589, 0.59 , 0.591, 0.592, 0.593,\n",
       "       0.594, 0.595, 0.596, 0.597, 0.598, 0.599, 0.6  , 0.601, 0.602,\n",
       "       0.603, 0.604, 0.605, 0.606, 0.607, 0.608, 0.609, 0.61 , 0.611,\n",
       "       0.612, 0.613, 0.614, 0.615, 0.616, 0.617, 0.618, 0.619, 0.62 ,\n",
       "       0.621, 0.622, 0.623, 0.624, 0.625, 0.626, 0.627, 0.628, 0.629,\n",
       "       0.63 , 0.631, 0.632, 0.633, 0.634, 0.635, 0.636, 0.637, 0.638,\n",
       "       0.639, 0.64 , 0.641, 0.642, 0.643, 0.644, 0.645, 0.646, 0.647,\n",
       "       0.648, 0.649, 0.65 , 0.651, 0.652, 0.653, 0.654, 0.655, 0.656,\n",
       "       0.657, 0.658, 0.659, 0.66 , 0.661, 0.662, 0.663, 0.664, 0.665,\n",
       "       0.666, 0.667, 0.668, 0.669, 0.67 , 0.671, 0.672, 0.673, 0.674,\n",
       "       0.675, 0.676, 0.677, 0.678, 0.679, 0.68 , 0.681, 0.682, 0.683,\n",
       "       0.684, 0.685, 0.686, 0.687, 0.688, 0.689, 0.69 , 0.691, 0.692,\n",
       "       0.693, 0.694, 0.695, 0.696, 0.697, 0.698, 0.699, 0.7  , 0.701,\n",
       "       0.702, 0.703, 0.704, 0.705, 0.706, 0.707, 0.708, 0.709, 0.71 ,\n",
       "       0.711, 0.712, 0.713, 0.714, 0.715, 0.716, 0.717, 0.718, 0.719,\n",
       "       0.72 , 0.721, 0.722, 0.723, 0.724, 0.725, 0.726, 0.727, 0.728,\n",
       "       0.729, 0.73 , 0.731, 0.732, 0.733, 0.734, 0.735, 0.736, 0.737,\n",
       "       0.738, 0.739, 0.74 , 0.741, 0.742, 0.743, 0.744, 0.745, 0.746,\n",
       "       0.747, 0.748, 0.749, 0.75 , 0.751, 0.752, 0.753, 0.754, 0.755,\n",
       "       0.756, 0.757, 0.758, 0.759, 0.76 , 0.761, 0.762, 0.763, 0.764,\n",
       "       0.765, 0.766, 0.767, 0.768, 0.769, 0.77 , 0.771, 0.772, 0.773,\n",
       "       0.774, 0.775, 0.776, 0.777, 0.778, 0.779, 0.78 , 0.781, 0.782,\n",
       "       0.783, 0.784, 0.785, 0.786, 0.787, 0.788, 0.789, 0.79 , 0.791,\n",
       "       0.792, 0.793, 0.794, 0.795, 0.796, 0.797, 0.798, 0.799, 0.8  ,\n",
       "       0.801, 0.802, 0.803, 0.804, 0.805, 0.806, 0.807, 0.808, 0.809,\n",
       "       0.81 , 0.811, 0.812, 0.813, 0.814, 0.815, 0.816, 0.817, 0.818,\n",
       "       0.819, 0.82 , 0.821, 0.822, 0.823, 0.824, 0.825, 0.826, 0.827,\n",
       "       0.828, 0.829, 0.83 , 0.831, 0.832, 0.833, 0.834, 0.835, 0.836,\n",
       "       0.837, 0.838, 0.839, 0.84 , 0.841, 0.842, 0.843, 0.844, 0.845,\n",
       "       0.846, 0.847, 0.848, 0.849, 0.85 , 0.851, 0.852, 0.853, 0.854,\n",
       "       0.855, 0.856, 0.857, 0.858, 0.859, 0.86 , 0.861, 0.862, 0.863,\n",
       "       0.864, 0.865, 0.866, 0.867, 0.868, 0.869, 0.87 , 0.871, 0.872,\n",
       "       0.873, 0.874, 0.875, 0.876, 0.877, 0.878, 0.879, 0.88 , 0.881,\n",
       "       0.882, 0.883, 0.884, 0.885, 0.886, 0.887, 0.888, 0.889, 0.89 ,\n",
       "       0.891, 0.892, 0.893, 0.894, 0.895, 0.896, 0.897, 0.898, 0.899,\n",
       "       0.9  , 0.901, 0.902, 0.903, 0.904, 0.905, 0.906, 0.907, 0.908,\n",
       "       0.909, 0.91 , 0.911, 0.912, 0.913, 0.914, 0.915, 0.916, 0.917,\n",
       "       0.918, 0.919, 0.92 , 0.921, 0.922, 0.923, 0.924, 0.925, 0.926,\n",
       "       0.927, 0.928, 0.929, 0.93 , 0.931, 0.932, 0.933, 0.934, 0.935,\n",
       "       0.936, 0.937, 0.938, 0.939, 0.94 , 0.941, 0.942, 0.943, 0.944,\n",
       "       0.945, 0.946, 0.947, 0.948, 0.949, 0.95 , 0.951, 0.952, 0.953,\n",
       "       0.954, 0.955, 0.956, 0.957, 0.958, 0.959, 0.96 , 0.961, 0.962,\n",
       "       0.963, 0.964, 0.965, 0.966, 0.967, 0.968, 0.969, 0.97 , 0.971,\n",
       "       0.972, 0.973, 0.974, 0.975, 0.976, 0.977, 0.978, 0.979, 0.98 ,\n",
       "       0.981, 0.982, 0.983, 0.984, 0.985, 0.986, 0.987, 0.988, 0.989,\n",
       "       0.99 , 0.991, 0.992, 0.993, 0.994, 0.995, 0.996, 0.997, 0.998,\n",
       "       0.999])"
      ]
     },
     "execution_count": 145,
     "metadata": {},
     "output_type": "execute_result"
    }
   ],
   "source": [
    "y_prob"
   ]
  },
  {
   "cell_type": "code",
   "execution_count": 88,
   "id": "dbaf7514",
   "metadata": {
    "ExecuteTime": {
     "end_time": "2023-08-14T11:10:14.405636Z",
     "start_time": "2023-08-14T11:10:10.653481Z"
    }
   },
   "outputs": [
    {
     "name": "stderr",
     "output_type": "stream",
     "text": [
      "/tmp/ipykernel_60735/2480272185.py:19: RuntimeWarning: invalid value encountered in scalar divide\n",
      "  precision = tp / (tp + fp)\n"
     ]
    },
    {
     "data": {
      "text/plain": [
       "(array([1.        , 1.        , 1.        , ..., 0.00209205, 0.00209205,\n",
       "        0.        ]),\n",
       " array([0.        , 0.00191571, 0.00383142, ..., 0.99808429, 1.        ,\n",
       "        1.        ]),\n",
       " array([0.        , 0.00191571, 0.00383142, ..., 0.99808429, 1.        ,\n",
       "        1.        ]),\n",
       " array([0.        , 0.00191571, 0.00383142, ..., 0.99808429, 1.        ,\n",
       "        1.        ]))"
      ]
     },
     "execution_count": 88,
     "metadata": {},
     "output_type": "execute_result"
    }
   ],
   "source": [
    "sr_curve(y_true, y_prob, n_bootstrap = 100)"
   ]
  },
  {
   "cell_type": "code",
   "execution_count": 118,
   "id": "9891dbe6",
   "metadata": {
    "ExecuteTime": {
     "end_time": "2023-08-08T11:20:28.932569Z",
     "start_time": "2023-08-08T11:20:28.910064Z"
    }
   },
   "outputs": [
    {
     "data": {
      "text/plain": [
       "[0.0,\n",
       " 0.0,\n",
       " 0.0,\n",
       " 0.0,\n",
       " 0.0,\n",
       " 0.0,\n",
       " 0.0,\n",
       " 0.0,\n",
       " 0.0,\n",
       " 0.0,\n",
       " 0.0,\n",
       " 0.0,\n",
       " 0.0,\n",
       " 0.0,\n",
       " 0.0,\n",
       " 0.0,\n",
       " 0.0,\n",
       " 0.0,\n",
       " 0.0,\n",
       " 0.0,\n",
       " 0.0,\n",
       " 0.0,\n",
       " 0.0,\n",
       " 0.0,\n",
       " 0.0,\n",
       " 0.0,\n",
       " 0.0,\n",
       " 0.0,\n",
       " 0.0,\n",
       " 0.0,\n",
       " 0.0,\n",
       " 0.0,\n",
       " 0.0,\n",
       " 0.0,\n",
       " 0.0,\n",
       " 0.0,\n",
       " 0.0,\n",
       " 0.0,\n",
       " 0.0,\n",
       " 0.0,\n",
       " 0.0,\n",
       " 0.0,\n",
       " 0.0,\n",
       " 0.0,\n",
       " 0.0,\n",
       " 0.0,\n",
       " 0.0,\n",
       " 0.0,\n",
       " 0.0,\n",
       " 0.0,\n",
       " 0.0,\n",
       " 0.0,\n",
       " 0.0,\n",
       " 0.0,\n",
       " 0.0,\n",
       " 0.0,\n",
       " 0.0,\n",
       " 0.0,\n",
       " 0.0,\n",
       " 0.0,\n",
       " 0.0,\n",
       " 0.0,\n",
       " 0.0,\n",
       " 0.0,\n",
       " 0.0,\n",
       " 0.0,\n",
       " 0.0,\n",
       " 0.0,\n",
       " 0.0,\n",
       " 0.0,\n",
       " 0.0,\n",
       " 0.0,\n",
       " 0.0,\n",
       " 0.0,\n",
       " 0.0,\n",
       " 0.0,\n",
       " 0.0,\n",
       " 0.0,\n",
       " 0.0,\n",
       " 0.0,\n",
       " 0.0,\n",
       " 0.0,\n",
       " 0.0,\n",
       " 0.0,\n",
       " 0.0,\n",
       " 0.0,\n",
       " 0.0,\n",
       " 0.0,\n",
       " 0.0,\n",
       " 0.0,\n",
       " 0.0,\n",
       " 0.0,\n",
       " 0.0,\n",
       " 0.0,\n",
       " 0.0,\n",
       " 0.0,\n",
       " 0.0,\n",
       " 0.0,\n",
       " 0.0,\n",
       " 0.0,\n",
       " 0.0,\n",
       " 0.0,\n",
       " 0.0,\n",
       " 0.0,\n",
       " 0.0,\n",
       " 0.0,\n",
       " 0.0,\n",
       " 0.0,\n",
       " 0.0,\n",
       " 0.0,\n",
       " 0.0,\n",
       " 0.0,\n",
       " 0.0,\n",
       " 0.0,\n",
       " 0.0,\n",
       " 0.0,\n",
       " 0.0,\n",
       " 0.0,\n",
       " 0.0,\n",
       " 0.0,\n",
       " 0.0,\n",
       " 0.0,\n",
       " 0.0,\n",
       " 0.0,\n",
       " 0.0,\n",
       " 0.0,\n",
       " 0.0,\n",
       " 0.0,\n",
       " 0.0,\n",
       " 0.0,\n",
       " 0.0,\n",
       " 0.0,\n",
       " 0.0,\n",
       " 0.0,\n",
       " 0.0,\n",
       " 0.0,\n",
       " 0.0,\n",
       " 0.0,\n",
       " 0.0,\n",
       " 0.0,\n",
       " 0.0,\n",
       " 0.0,\n",
       " 0.0,\n",
       " 0.0,\n",
       " 0.0,\n",
       " 0.0,\n",
       " 0.0,\n",
       " 0.0,\n",
       " 0.0,\n",
       " 0.0,\n",
       " 0.0,\n",
       " 0.0,\n",
       " 0.0,\n",
       " 0.0,\n",
       " 0.0,\n",
       " 0.0,\n",
       " 0.0,\n",
       " 0.0,\n",
       " 0.0,\n",
       " 0.0,\n",
       " 0.0,\n",
       " 0.0,\n",
       " 0.0,\n",
       " 0.0,\n",
       " 0.0,\n",
       " 0.0,\n",
       " 0.0,\n",
       " 0.0,\n",
       " 0.0,\n",
       " 0.0,\n",
       " 0.0,\n",
       " 0.0,\n",
       " 0.0,\n",
       " 0.0,\n",
       " 0.0,\n",
       " 0.0,\n",
       " 0.0,\n",
       " 0.0,\n",
       " 0.0,\n",
       " 0.0,\n",
       " 0.0,\n",
       " 0.0,\n",
       " 0.0,\n",
       " 0.0,\n",
       " 0.005826842372463337,\n",
       " 0.009651465748774846,\n",
       " 0.026545181290606235,\n",
       " 0.02909803368200048,\n",
       " 0.03656144237452352,\n",
       " 0.03812434202628079,\n",
       " 0.04107261189543687,\n",
       " 0.05243265441493872,\n",
       " 0.056355584509383716,\n",
       " 0.05728247992144797,\n",
       " 0.06177523820358244,\n",
       " 0.06341157405875109,\n",
       " 0.06390572237181746,\n",
       " 0.06562024211424966,\n",
       " 0.06882155537656687,\n",
       " 0.07260410299552988,\n",
       " 0.07535022631089361,\n",
       " 0.08954527755773045,\n",
       " 0.09163996127210727,\n",
       " 0.09785811834821367,\n",
       " 0.10032872352185174,\n",
       " 0.1019898702322296,\n",
       " 0.102471460154134,\n",
       " 0.11560729575505357,\n",
       " 0.12091086049648858,\n",
       " 0.12342672694030232,\n",
       " 0.1281913975954777,\n",
       " 0.13415199658342136,\n",
       " 0.1347820648629675,\n",
       " 0.1388234280847227,\n",
       " 0.13917702514782904,\n",
       " 0.14077823591224436,\n",
       " 0.1427042133493066,\n",
       " 0.14664902587374806,\n",
       " 0.14680191603898063,\n",
       " 0.1537709755281148,\n",
       " 0.1544398816255178,\n",
       " 0.15778395435696824,\n",
       " 0.16480689322728403,\n",
       " 0.16486409550356562,\n",
       " 0.16897534484007182,\n",
       " 0.17377807299315728,\n",
       " 0.18061198241292387,\n",
       " 0.18138739315280938,\n",
       " 0.18764027791010252,\n",
       " 0.18945377680109832,\n",
       " 0.19375196971805397,\n",
       " 0.1947071608610057,\n",
       " 0.19812553375822395,\n",
       " 0.2075008743965101,\n",
       " 0.20887071033788207,\n",
       " 0.20999245266601796,\n",
       " 0.2136644062781038,\n",
       " 0.21408516894308227,\n",
       " 0.2176028047156774,\n",
       " 0.2177629985508841,\n",
       " 0.22453567966685184,\n",
       " 0.2247571403043397,\n",
       " 0.22783140131347512,\n",
       " 0.23000176362066893,\n",
       " 0.2325476217667044,\n",
       " 0.23335284744685714,\n",
       " 0.23530232488844383,\n",
       " 0.23534070572887567,\n",
       " 0.24192037381289921,\n",
       " 0.24498998208311162,\n",
       " 0.24599153763588943,\n",
       " 0.24947685736868597,\n",
       " 0.25566968601804085,\n",
       " 0.2556787285221972,\n",
       " 0.2592636624650715,\n",
       " 0.26574188042055935,\n",
       " 0.26602155107326964,\n",
       " 0.2681288255403055,\n",
       " 0.27226029280624886,\n",
       " 0.2723141952553819,\n",
       " 0.272511749935463,\n",
       " 0.27565317515731913,\n",
       " 0.27658396868691826,\n",
       " 0.28086372580826036,\n",
       " 0.281200208010163,\n",
       " 0.2878979699545211,\n",
       " 0.2897790849414349,\n",
       " 0.2909402487376346,\n",
       " 0.2940212735697493,\n",
       " 0.294683070350232,\n",
       " 0.2963881840533449,\n",
       " 0.2988456347329207,\n",
       " 0.30292349995747814,\n",
       " 0.30337529820341613,\n",
       " 0.3046341244975953,\n",
       " 0.3125687964416072,\n",
       " 0.31302460862345016,\n",
       " 0.3176061828417659,\n",
       " 0.3177041065421128,\n",
       " 0.3208608825174206,\n",
       " 0.32328123540243137,\n",
       " 0.32681312882010083,\n",
       " 0.32720587258145295,\n",
       " 0.33095878241061283,\n",
       " 0.3347016204234079,\n",
       " 0.33517249146418227,\n",
       " 0.3372018725821925,\n",
       " 0.3372470570846212,\n",
       " 0.33995836049956796,\n",
       " 0.3406034598596017,\n",
       " 0.34136329304903656,\n",
       " 0.34441253056155907,\n",
       " 0.3451079616043574,\n",
       " 0.3458240602563315,\n",
       " 0.35070255547189544,\n",
       " 0.35099151867473266,\n",
       " 0.35322987802067085,\n",
       " 0.3576886935668858,\n",
       " 0.36423185755620036,\n",
       " 0.3679225932087238,\n",
       " 0.3718433181548618,\n",
       " 0.37458255628535586,\n",
       " 0.3754906322307775,\n",
       " 0.37681752848606986,\n",
       " 0.37992827017397657,\n",
       " 0.3885436529864218,\n",
       " 0.38903648670180013,\n",
       " 0.3992723388856051,\n",
       " 0.39975985445926165,\n",
       " 0.4034749922346647,\n",
       " 0.40783321976084813,\n",
       " 0.4078922143020377,\n",
       " 0.4138700774700459,\n",
       " 0.42179696151123086,\n",
       " 0.4221628488822196,\n",
       " 0.42362089280523957,\n",
       " 0.4249992822666603,\n",
       " 0.43072316884273265,\n",
       " 0.438698573085802,\n",
       " 0.4512628209126249,\n",
       " 0.46030208519315585,\n",
       " 0.4609025067763879,\n",
       " 0.4683609429531499,\n",
       " 0.47472630461829485,\n",
       " 0.4761377697806326,\n",
       " 0.47634937306313807,\n",
       " 0.48239809824434754,\n",
       " 0.48423496745106887,\n",
       " 0.4856431180268781,\n",
       " 0.4859654881150852,\n",
       " 0.4879968272014037,\n",
       " 0.48814903875050164,\n",
       " 0.48843238150904744,\n",
       " 0.4894991092291271,\n",
       " 0.49745498404106064,\n",
       " 0.4979114841442929,\n",
       " 0.5009783075713777,\n",
       " 0.5041104721581795,\n",
       " 0.5075452001076974,\n",
       " 0.5085496955401496,\n",
       " 0.5128220563382009,\n",
       " 0.519780303599142,\n",
       " 0.5234563656801405,\n",
       " 0.5267904831638315,\n",
       " 0.5306645379175332,\n",
       " 0.5338755403924047,\n",
       " 0.5339978631270412,\n",
       " 0.5367084481712407,\n",
       " 0.5416726929066862,\n",
       " 0.5419785352274242,\n",
       " 0.5428915838085593,\n",
       " 0.5497980846896269,\n",
       " 0.5501559866960264,\n",
       " 0.551607038502645,\n",
       " 0.5521561782638138,\n",
       " 0.5554351363672028,\n",
       " 0.557465743855802,\n",
       " 0.5587192201389481,\n",
       " 0.5655001001838227,\n",
       " 0.5655505991657983,\n",
       " 0.5696092957351718,\n",
       " 0.5715383371079528,\n",
       " 0.5724227925506526,\n",
       " 0.573403653013487,\n",
       " 0.5757241806137869,\n",
       " 0.5763801656990479,\n",
       " 0.5805823507819642,\n",
       " 0.5826084152022506,\n",
       " 0.5865025638138095,\n",
       " 0.5865255905479909,\n",
       " 0.5889356996605031,\n",
       " 0.5904055889548186,\n",
       " 0.5974509841389328,\n",
       " 0.5977437147199731,\n",
       " 0.597778949872998,\n",
       " 0.5990124296033941,\n",
       " 0.5992432265398209,\n",
       " 0.6025099826390254,\n",
       " 0.6060013685899515,\n",
       " 0.6063219226965988,\n",
       " 0.6113765565894573,\n",
       " 0.6160735305610306,\n",
       " 0.6177522552847099,\n",
       " 0.6191493366403256,\n",
       " 0.6206921443288607,\n",
       " 0.6246534331482734,\n",
       " 0.6302669326651429,\n",
       " 0.633679449284748,\n",
       " 0.6406675108492926,\n",
       " 0.6430532771426136,\n",
       " 0.6436454816562996,\n",
       " 0.6470832010899721,\n",
       " 0.6478974107212325,\n",
       " 0.652357127504875,\n",
       " 0.656478414004556,\n",
       " 0.6602639654741738,\n",
       " 0.6615259701867489,\n",
       " 0.6668043655707511,\n",
       " 0.6670640747476917,\n",
       " 0.6736069072309459,\n",
       " 0.67374521524014,\n",
       " 0.6820645791028018,\n",
       " 0.6824102067061208,\n",
       " 0.6839016894459563,\n",
       " 0.6843474011578674,\n",
       " 0.6915756767345864,\n",
       " 0.6918520839398786,\n",
       " 0.6940554327155242,\n",
       " 0.6941737606205404,\n",
       " 0.6980341657345384,\n",
       " 0.7037529300547688,\n",
       " 0.7038195653429822,\n",
       " 0.7051875540561845,\n",
       " 0.706055926210764,\n",
       " 0.7094090543022947,\n",
       " 0.712056791098047,\n",
       " 0.7151198665230485,\n",
       " 0.7155102804268244,\n",
       " 0.7181846494809738,\n",
       " 0.7181912704126616,\n",
       " 0.723519085800319,\n",
       " 0.7250244501634158,\n",
       " 0.7250636591177186,\n",
       " 0.7279626562711803,\n",
       " 0.7306054814588354,\n",
       " 0.73311676591062,\n",
       " 0.7356319043825827,\n",
       " 0.7384401723269448,\n",
       " 0.7392778144876265,\n",
       " 0.7425285293040136,\n",
       " 0.7456810503033684,\n",
       " 0.7493494188544871,\n",
       " 0.750129343746075,\n",
       " 0.7529155297370875,\n",
       " 0.7566149503811255,\n",
       " 0.76052017216557,\n",
       " 0.7615276461320886,\n",
       " 0.7630205508682566,\n",
       " 0.7648470658859962,\n",
       " 0.7678386724922002,\n",
       " 0.7683114377875426,\n",
       " 0.7717838826544589,\n",
       " 0.7723090935012805,\n",
       " 0.7738768035336139,\n",
       " 0.775912435532642,\n",
       " 0.7761223958606744,\n",
       " 0.7782868374764422,\n",
       " 0.7785033457327617,\n",
       " 0.7793196227491394,\n",
       " 0.7808821172257918,\n",
       " 0.781598919686812,\n",
       " 0.7884496433702093,\n",
       " 0.7925964201817325,\n",
       " 0.8006372290208025,\n",
       " 0.8014795209815317,\n",
       " 0.8073854592730682,\n",
       " 0.8087621368125718,\n",
       " 0.8108716687657522,\n",
       " 0.8156110968889355,\n",
       " 0.8166968698267503,\n",
       " 0.8181761942158672,\n",
       " 0.8200798692048525,\n",
       " 0.8274753292699968,\n",
       " 0.8278556667308131,\n",
       " 0.8369064965493742,\n",
       " 0.8385292182291708,\n",
       " 0.839360428142622,\n",
       " 0.8394110074169865,\n",
       " 0.8401929559700593,\n",
       " 0.8408217152909553,\n",
       " 0.8420078165932493,\n",
       " 0.8437367238736636,\n",
       " 0.8462986618402333,\n",
       " 0.8550854745467422,\n",
       " 0.8551203310024219,\n",
       " 0.8555576982348737,\n",
       " 0.8590471570540286,\n",
       " 0.8602328971993666,\n",
       " 0.8603378436967541,\n",
       " 0.8619992463118202,\n",
       " 0.8622802944992406,\n",
       " 0.8633553143037459,\n",
       " 0.8651007237303401,\n",
       " 0.8676488382567699,\n",
       " 0.8696757049468656,\n",
       " 0.8737584616705264,\n",
       " 0.8777241917436273,\n",
       " 0.8832343779990964,\n",
       " 0.8850101537048543,\n",
       " 0.8859653173218136,\n",
       " 0.8986512524409783,\n",
       " 0.900853236358019,\n",
       " 0.9015815822229943,\n",
       " 0.9052646574872676,\n",
       " 0.9069189404872977,\n",
       " 0.9083566645476029,\n",
       " 0.9091705971543528,\n",
       " 0.909197504120948,\n",
       " 0.9133355092679407,\n",
       " 0.9171773210138466,\n",
       " 0.9222671169967062,\n",
       " 0.9272314213906345,\n",
       " 0.9375998109151314,\n",
       " 0.9386461357807964,\n",
       " 0.9390568934790917,\n",
       " 0.942622403657399,\n",
       " 0.9473452776699058,\n",
       " 0.9502295490077834,\n",
       " 0.9541149898331415,\n",
       " 0.9541717612661149,\n",
       " 0.955494890415794,\n",
       " 0.9558658615068848,\n",
       " 0.9585098705188739,\n",
       " 0.9601211706145967,\n",
       " 0.9607669781700002,\n",
       " 0.962897330419242,\n",
       " 0.963276805864807,\n",
       " 0.9644254164995336,\n",
       " 0.9662320627152754,\n",
       " 0.9707033500261818,\n",
       " 0.9733058485571933,\n",
       " 0.9790656510305985,\n",
       " 0.9805289435771918,\n",
       " 0.9818842070047991,\n",
       " 0.9883447909867926,\n",
       " 0.9889524383745503,\n",
       " 0.9899270271691899,\n",
       " 0.9912624318167157,\n",
       " 0.9916841976575275,\n",
       " 0.9940409658444898,\n",
       " 0.9984220952435716,\n",
       " 0.9988660640265962,\n",
       " 0.9998063778116951,\n",
       " 1.0,\n",
       " 1.0,\n",
       " 1.0,\n",
       " 1.0,\n",
       " 1.0,\n",
       " 1.0,\n",
       " 1.0,\n",
       " 1.0,\n",
       " 1.0,\n",
       " 1.0,\n",
       " 1.0,\n",
       " 1.0,\n",
       " 1.0,\n",
       " 1.0,\n",
       " 1.0,\n",
       " 1.0,\n",
       " 1.0,\n",
       " 1.0,\n",
       " 1.0,\n",
       " 1.0,\n",
       " 1.0,\n",
       " 1.0,\n",
       " 1.0,\n",
       " 1.0,\n",
       " 1.0,\n",
       " 1.0,\n",
       " 1.0,\n",
       " 1.0,\n",
       " 1.0,\n",
       " 1.0,\n",
       " 1.0,\n",
       " 1.0,\n",
       " 1.0,\n",
       " 1.0,\n",
       " 1.0,\n",
       " 1.0,\n",
       " 1.0,\n",
       " 1.0,\n",
       " 1.0,\n",
       " 1.0,\n",
       " 1.0,\n",
       " 1.0,\n",
       " 1.0,\n",
       " 1.0,\n",
       " 1.0,\n",
       " 1.0,\n",
       " 1.0,\n",
       " 1.0,\n",
       " 1.0,\n",
       " 1.0,\n",
       " 1.0,\n",
       " 1.0,\n",
       " 1.0,\n",
       " 1.0,\n",
       " 1.0,\n",
       " 1.0,\n",
       " 1.0,\n",
       " 1.0,\n",
       " 1.0,\n",
       " 1.0,\n",
       " 1.0,\n",
       " 1.0,\n",
       " 1.0,\n",
       " 1.0,\n",
       " 1.0,\n",
       " 1.0,\n",
       " 1.0,\n",
       " 1.0,\n",
       " 1.0,\n",
       " 1.0,\n",
       " 1.0,\n",
       " 1.0,\n",
       " 1.0,\n",
       " 1.0,\n",
       " 1.0,\n",
       " 1.0,\n",
       " 1.0,\n",
       " 1.0,\n",
       " 1.0,\n",
       " 1.0,\n",
       " 1.0,\n",
       " 1.0,\n",
       " 1.0,\n",
       " 1.0,\n",
       " 1.0,\n",
       " 1.0,\n",
       " 1.0,\n",
       " 1.0,\n",
       " 1.0,\n",
       " 1.0,\n",
       " 1.0,\n",
       " 1.0,\n",
       " 1.0,\n",
       " 1.0,\n",
       " 1.0,\n",
       " 1.0,\n",
       " 1.0,\n",
       " 1.0,\n",
       " 1.0,\n",
       " 1.0,\n",
       " 1.0,\n",
       " 1.0,\n",
       " 1.0,\n",
       " 1.0,\n",
       " 1.0,\n",
       " 1.0,\n",
       " 1.0,\n",
       " 1.0,\n",
       " 1.0,\n",
       " 1.0,\n",
       " 1.0,\n",
       " 1.0,\n",
       " 1.0,\n",
       " 1.0,\n",
       " 1.0,\n",
       " 1.0,\n",
       " 1.0,\n",
       " 1.0,\n",
       " 1.0,\n",
       " 1.0,\n",
       " 1.0,\n",
       " 1.0,\n",
       " 1.0,\n",
       " 1.0,\n",
       " 1.0,\n",
       " 1.0,\n",
       " 1.0,\n",
       " 1.0,\n",
       " 1.0,\n",
       " 1.0,\n",
       " 1.0,\n",
       " 1.0,\n",
       " 1.0,\n",
       " 1.0,\n",
       " 1.0,\n",
       " 1.0,\n",
       " 1.0,\n",
       " 1.0,\n",
       " 1.0,\n",
       " 1.0,\n",
       " 1.0,\n",
       " 1.0,\n",
       " 1.0,\n",
       " 1.0,\n",
       " 1.0,\n",
       " 1.0,\n",
       " 1.0,\n",
       " 1.0,\n",
       " 1.0,\n",
       " 1.0,\n",
       " 1.0,\n",
       " 1.0,\n",
       " 1.0,\n",
       " 1.0,\n",
       " 1.0,\n",
       " 1.0,\n",
       " 1.0,\n",
       " 1.0,\n",
       " 1.0,\n",
       " 1.0,\n",
       " 1.0,\n",
       " 1.0,\n",
       " 1.0,\n",
       " 1.0,\n",
       " 1.0,\n",
       " 1.0,\n",
       " 1.0,\n",
       " 1.0,\n",
       " 1.0,\n",
       " 1.0,\n",
       " 1.0,\n",
       " 1.0,\n",
       " 1.0,\n",
       " 1.0,\n",
       " 1.0,\n",
       " 1.0,\n",
       " 1.0,\n",
       " 1.0,\n",
       " 1.0,\n",
       " 1.0,\n",
       " 1.0,\n",
       " 1.0,\n",
       " 1.0,\n",
       " 1.0,\n",
       " 1.0,\n",
       " 1.0,\n",
       " 1.0,\n",
       " 1.0,\n",
       " 1.0,\n",
       " 1.0,\n",
       " 1.0,\n",
       " 1.0,\n",
       " 1.0,\n",
       " 1.0,\n",
       " 1.0,\n",
       " 1.0,\n",
       " 1.0,\n",
       " 1.0,\n",
       " 1.0,\n",
       " 1.0,\n",
       " 1.0,\n",
       " 1.0,\n",
       " 1.0,\n",
       " 1.0,\n",
       " 1.0,\n",
       " 1.0,\n",
       " 1.0,\n",
       " 1.0,\n",
       " 1.0,\n",
       " 1.0,\n",
       " 1.0,\n",
       " 1.0,\n",
       " 1.0,\n",
       " 1.0,\n",
       " 1.0,\n",
       " 1.0,\n",
       " 1.0,\n",
       " 1.0,\n",
       " 1.0,\n",
       " 1.0,\n",
       " 1.0,\n",
       " 1.0,\n",
       " 1.0,\n",
       " 1.0,\n",
       " 1.0,\n",
       " 1.0,\n",
       " 1.0,\n",
       " 1.0,\n",
       " 1.0,\n",
       " 1.0,\n",
       " 1.0,\n",
       " 1.0,\n",
       " 1.0,\n",
       " 1.0,\n",
       " 1.0,\n",
       " 1.0,\n",
       " 1.0,\n",
       " 1.0,\n",
       " 1.0,\n",
       " 1.0,\n",
       " 1.0,\n",
       " 1.0,\n",
       " 1.0,\n",
       " 1.0,\n",
       " 1.0,\n",
       " 1.0,\n",
       " 1.0,\n",
       " 1.0,\n",
       " 1.0,\n",
       " 1.0,\n",
       " 1.0,\n",
       " 1.0,\n",
       " 1.0,\n",
       " 1.0,\n",
       " 1.0,\n",
       " 1.0,\n",
       " 1.0,\n",
       " 1.0,\n",
       " 1.0,\n",
       " 1.0,\n",
       " 1.0,\n",
       " 1.0,\n",
       " 1.0,\n",
       " 1.0,\n",
       " 1.0,\n",
       " 1.0,\n",
       " 1.0,\n",
       " 1.0,\n",
       " 1.0,\n",
       " 1.0,\n",
       " 1.0,\n",
       " 1.0,\n",
       " 1.0,\n",
       " 1.0,\n",
       " 1.0,\n",
       " 1.0,\n",
       " 1.0,\n",
       " 1.0,\n",
       " 1.0,\n",
       " 1.0,\n",
       " 1.0,\n",
       " 1.0,\n",
       " 1.0,\n",
       " 1.0,\n",
       " 1.0,\n",
       " 1.0,\n",
       " 1.0,\n",
       " 1.0,\n",
       " 1.0,\n",
       " 1.0,\n",
       " 1.0,\n",
       " 1.0,\n",
       " 1.0,\n",
       " 1.0,\n",
       " 1.0,\n",
       " 1.0,\n",
       " 1.0,\n",
       " 1.0,\n",
       " 1.0,\n",
       " 1.0,\n",
       " 1.0,\n",
       " 1.0,\n",
       " 1.0,\n",
       " 1.0,\n",
       " 1.0,\n",
       " 1.0,\n",
       " 1.0,\n",
       " 1.0,\n",
       " 1.0,\n",
       " 1.0,\n",
       " 1.0,\n",
       " 1.0,\n",
       " 1.0,\n",
       " 1.0,\n",
       " 1.0,\n",
       " 1.0,\n",
       " 1.0,\n",
       " 1.0,\n",
       " 1.0,\n",
       " 1.0,\n",
       " 1.0,\n",
       " 1.0,\n",
       " 1.0,\n",
       " 1.0,\n",
       " 1.0,\n",
       " 1.0,\n",
       " 1.0,\n",
       " 1.0,\n",
       " 1.0,\n",
       " 1.0,\n",
       " 1.0,\n",
       " 1.0,\n",
       " 1.0,\n",
       " 1.0,\n",
       " 1.0,\n",
       " 1.0,\n",
       " 1.0,\n",
       " 1.0,\n",
       " 1.0,\n",
       " 1.0,\n",
       " 1.0,\n",
       " 1.0,\n",
       " 1.0,\n",
       " 1.0,\n",
       " 1.0,\n",
       " 1.0,\n",
       " 1.0,\n",
       " 1.0,\n",
       " 1.0,\n",
       " 1.0,\n",
       " 1.0,\n",
       " 1.0,\n",
       " 1.0,\n",
       " 1.0,\n",
       " 1.0,\n",
       " 1.0,\n",
       " 1.0,\n",
       " 1.0,\n",
       " 1.0,\n",
       " 1.0,\n",
       " 1.0,\n",
       " 1.0,\n",
       " 1.0,\n",
       " 1.0,\n",
       " 1.0,\n",
       " 1.0,\n",
       " 1.0,\n",
       " 1.0,\n",
       " 1.0,\n",
       " 1.0,\n",
       " 1.0,\n",
       " 1.0,\n",
       " 1.0,\n",
       " 1.0,\n",
       " 1.0,\n",
       " 1.0,\n",
       " 1.0,\n",
       " 1.0,\n",
       " 1.0,\n",
       " 1.0,\n",
       " 1.0,\n",
       " 1.0,\n",
       " 1.0,\n",
       " 1.0,\n",
       " 1.0,\n",
       " 1.0,\n",
       " 1.0,\n",
       " 1.0,\n",
       " 1.0,\n",
       " 1.0,\n",
       " 1.0,\n",
       " 1.0,\n",
       " 1.0,\n",
       " 1.0,\n",
       " 1.0,\n",
       " 1.0,\n",
       " 1.0,\n",
       " 1.0,\n",
       " 1.0,\n",
       " 1.0,\n",
       " 1.0,\n",
       " 1.0,\n",
       " 1.0,\n",
       " 1.0,\n",
       " 1.0,\n",
       " 1.0,\n",
       " 1.0,\n",
       " 1.0,\n",
       " 1.0,\n",
       " 1.0,\n",
       " 1.0,\n",
       " 1.0,\n",
       " 1.0,\n",
       " 1.0,\n",
       " 1.0,\n",
       " 1.0,\n",
       " 1.0,\n",
       " 1.0,\n",
       " 1.0,\n",
       " 1.0,\n",
       " 1.0,\n",
       " 1.0,\n",
       " 1.0,\n",
       " 1.0,\n",
       " 1.0,\n",
       " 1.0,\n",
       " 1.0,\n",
       " 1.0,\n",
       " 1.0,\n",
       " 1.0,\n",
       " 1.0,\n",
       " 1.0,\n",
       " 1.0,\n",
       " 1.0,\n",
       " 1.0,\n",
       " 1.0,\n",
       " 1.0,\n",
       " 1.0,\n",
       " 1.0,\n",
       " 1.0,\n",
       " 1.0,\n",
       " 1.0,\n",
       " 1.0,\n",
       " 1.0,\n",
       " 1.0,\n",
       " 1.0,\n",
       " 1.0,\n",
       " 1.0,\n",
       " 1.0,\n",
       " 1.0,\n",
       " 1.0,\n",
       " 1.0,\n",
       " 1.0,\n",
       " 1.0,\n",
       " 1.0,\n",
       " 1.0,\n",
       " 1.0,\n",
       " 1.0,\n",
       " 1.0,\n",
       " 1.0,\n",
       " 1.0,\n",
       " 1.0,\n",
       " 1.0,\n",
       " 1.0,\n",
       " 1.0,\n",
       " 1.0,\n",
       " 1.0]"
      ]
     },
     "execution_count": 118,
     "metadata": {},
     "output_type": "execute_result"
    }
   ],
   "source": [
    "y_prob"
   ]
  },
  {
   "cell_type": "code",
   "execution_count": 72,
   "id": "2d6d789d",
   "metadata": {
    "ExecuteTime": {
     "end_time": "2023-08-08T10:58:37.896491Z",
     "start_time": "2023-08-08T10:58:37.891173Z"
    }
   },
   "outputs": [],
   "source": [
    "curve = {1:[23,123], 23:[23,3], 12:[23,23]}"
   ]
  },
  {
   "cell_type": "code",
   "execution_count": 63,
   "id": "e4cfcf7b",
   "metadata": {
    "ExecuteTime": {
     "end_time": "2023-08-08T10:56:39.613345Z",
     "start_time": "2023-08-08T10:56:39.607435Z"
    }
   },
   "outputs": [
    {
     "data": {
      "text/plain": [
       "{1: [23, 123], 23: [1, 23, 3]}"
      ]
     },
     "execution_count": 63,
     "metadata": {},
     "output_type": "execute_result"
    }
   ],
   "source": [
    "curve"
   ]
  },
  {
   "cell_type": "code",
   "execution_count": 103,
   "id": "33f7c09e",
   "metadata": {
    "ExecuteTime": {
     "end_time": "2023-08-08T11:09:59.839839Z",
     "start_time": "2023-08-08T11:09:59.834949Z"
    }
   },
   "outputs": [],
   "source": [
    "asd = [[y, z] for x, [y, z] in curve.items()]"
   ]
  },
  {
   "cell_type": "code",
   "execution_count": 108,
   "id": "5850c638",
   "metadata": {
    "ExecuteTime": {
     "end_time": "2023-08-08T11:11:05.898348Z",
     "start_time": "2023-08-08T11:11:05.883645Z"
    }
   },
   "outputs": [
    {
     "data": {
      "text/plain": [
       "array([23, 23, 23])"
      ]
     },
     "execution_count": 108,
     "metadata": {},
     "output_type": "execute_result"
    }
   ],
   "source": [
    "np.array(asd)[:, 0]"
   ]
  }
 ],
 "metadata": {
  "kernelspec": {
   "display_name": "Python 3 (ipykernel)",
   "language": "python",
   "name": "python3"
  },
  "language_info": {
   "codemirror_mode": {
    "name": "ipython",
    "version": 3
   },
   "file_extension": ".py",
   "mimetype": "text/x-python",
   "name": "python",
   "nbconvert_exporter": "python",
   "pygments_lexer": "ipython3",
   "version": "3.10.12"
  },
  "varInspector": {
   "cols": {
    "lenName": 16,
    "lenType": 16,
    "lenVar": 40
   },
   "kernels_config": {
    "python": {
     "delete_cmd_postfix": "",
     "delete_cmd_prefix": "del ",
     "library": "var_list.py",
     "varRefreshCmd": "print(var_dic_list())"
    },
    "r": {
     "delete_cmd_postfix": ") ",
     "delete_cmd_prefix": "rm(",
     "library": "var_list.r",
     "varRefreshCmd": "cat(var_dic_list()) "
    }
   },
   "types_to_exclude": [
    "module",
    "function",
    "builtin_function_or_method",
    "instance",
    "_Feature"
   ],
   "window_display": false
  }
 },
 "nbformat": 4,
 "nbformat_minor": 5
}
