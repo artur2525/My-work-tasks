{
 "cells": [
  {
   "cell_type": "code",
   "execution_count": 10,
   "id": "22f925ea",
   "metadata": {
    "ExecuteTime": {
     "end_time": "2023-10-23T10:57:03.732308Z",
     "start_time": "2023-10-23T10:57:03.717610Z"
    }
   },
   "outputs": [],
   "source": [
    "from typing import Dict\n",
    "\n",
    "import pandas as pd\n",
    "from scipy.sparse import csr_matrix\n",
    "import numpy as np\n",
    "\n",
    "class UserItemMatrix:\n",
    "    def __init__(self, sales_data: pd.DataFrame):\n",
    "        \"\"\"Class initialization. You can make necessary\n",
    "        calculations here.\n",
    "\n",
    "        Args:\n",
    "            sales_data (pd.DataFrame): Sales dataset.\n",
    "\n",
    "        Example:\n",
    "            sales_data (pd.DataFrame):\n",
    "\n",
    "                user_id  item_id  qty   price\n",
    "            0        1      118    1   626.66\n",
    "            1        1      285    1  1016.57\n",
    "            2        2     1229    3   518.99\n",
    "            3        4     1688    2   940.84\n",
    "            4        5     2068    1   571.36\n",
    "            ...\n",
    "\n",
    "        \"\"\"\n",
    "        self._sales_data = sales_data.copy()\n",
    "\n",
    "        self._user_count = []\n",
    "        self._item_count = []\n",
    "\n",
    "        self._user_map = []\n",
    "        self._item_map = []\n",
    "\n",
    "        self._matrix = []\n",
    "\n",
    "    @property\n",
    "    def user_count(self) -> int:\n",
    "        \"\"\"\n",
    "        Returns:\n",
    "            int: the number of users in sales_data.\n",
    "        \"\"\"\n",
    "        self._user_count = len(self._sales_data['user_id'].unique())\n",
    "\n",
    "        return self._user_count\n",
    "\n",
    "    @property\n",
    "    def item_count(self) -> int:\n",
    "        \"\"\"\n",
    "        Returns:\n",
    "            int: the number of items in sales_data.\n",
    "        \"\"\"\n",
    "        self._item_count = len(self._sales_data['item_id'].unique())\n",
    "\n",
    "        return self._item_count\n",
    "\n",
    "    @property\n",
    "    def user_map(self) -> Dict[int, int]:\n",
    "        \"\"\"Creates a mapping from user_id to matrix rows indexes.\n",
    "\n",
    "        Example:\n",
    "            sales_data (pd.DataFrame):\n",
    "\n",
    "                user_id  item_id  qty   price\n",
    "            0        1      118    1   626.66\n",
    "            1        1      285    1  1016.57\n",
    "            2        2     1229    3   518.99\n",
    "            3        4     1688    2   940.84\n",
    "            4        5     2068    1   571.36\n",
    "\n",
    "            user_map (Dict[int, int]):\n",
    "                {1: 0, 2: 1, 4: 2, 5: 3}\n",
    "                \n",
    "        Returns:\n",
    "            Dict[int, int]: User map\n",
    "        \"\"\"\n",
    "\n",
    "        self._user_map = dict(zip(list(self._sales_data['user_id'].unique()), list(\n",
    "            self._sales_data.index)))\n",
    "\n",
    "        return self._user_map\n",
    "\n",
    "    @property\n",
    "    def item_map(self) -> Dict[int, int]:\n",
    "        \"\"\"Creates a mapping from item_id to matrix rows indexes.\n",
    "\n",
    "        Example:\n",
    "            sales_data (pd.DataFrame):\n",
    "\n",
    "                user_id  item_id  qty   price\n",
    "            0        1      118    1   626.66\n",
    "            1        1      285    1  1016.57\n",
    "            2        2     1229    3   518.99\n",
    "            3        4     1688    2   940.84\n",
    "            4        5     2068    1   571.36\n",
    "\n",
    "            item_map (Dict[int, int]):\n",
    "                {118: 0, 285: 1, 1229: 2, 1688: 3, 2068: 4}\n",
    "\n",
    "        Returns:\n",
    "            Dict[int, int]: Item map\n",
    "        \"\"\"\n",
    "        self._item_map = dict(zip(list(self._sales_data.sort_values(['item_id'])['item_id'].unique()), \n",
    "            list(self._sales_data.index)))\n",
    "\n",
    "        return self._item_map\n",
    "\n",
    "    @property\n",
    "    def csr_matrix(self) -> csr_matrix:\n",
    "        \"\"\"User items matrix in form of CSR matrix.\n",
    "\n",
    "        User row_ind, col_ind as\n",
    "        rows and cols indecies(mapped from user/item map).\n",
    "\n",
    "        Returns:\n",
    "            csr_matrix: CSR matrix\n",
    "        \"\"\"\n",
    "\n",
    "        # Преобразование словарей в списки индексов\n",
    "\n",
    "        self._sales_data[\"user_id\"] = self._sales_data[\"user_id\"].map(\n",
    "            self.user_map)\n",
    "        self._sales_data[\"item_id\"] = self._sales_data[\"item_id\"].map(\n",
    "            self.item_map)\n",
    "        self._matrix = csr_matrix((self._sales_data['qty'].values, \n",
    "                        (self._sales_data[\"user_id\"].values, self._sales_data[\"item_id\"].values)))\n",
    "\n",
    "        return self._matrix\n"
   ]
  },
  {
   "cell_type": "code",
   "execution_count": 12,
   "id": "3b6069c2",
   "metadata": {
    "ExecuteTime": {
     "end_time": "2023-10-16T14:25:45.129999Z",
     "start_time": "2023-10-16T14:25:45.119103Z"
    }
   },
   "outputs": [],
   "source": [
    "next(zip([1,2],[1,2]))"
   ]
  },
  {
   "cell_type": "code",
   "execution_count": 23,
   "id": "e5443789",
   "metadata": {
    "ExecuteTime": {
     "end_time": "2023-10-16T15:32:57.115199Z",
     "start_time": "2023-10-16T15:32:57.108489Z"
    }
   },
   "outputs": [
    {
     "data": {
      "text/plain": [
       "[1, 2]"
      ]
     },
     "execution_count": 23,
     "metadata": {},
     "output_type": "execute_result"
    }
   ],
   "source": [
    "list(dict(zip([1,2],[1,2])).keys())"
   ]
  },
  {
   "cell_type": "code",
   "execution_count": 70,
   "id": "5fa41ecb",
   "metadata": {
    "ExecuteTime": {
     "end_time": "2023-10-18T09:16:54.944992Z",
     "start_time": "2023-10-18T09:16:54.936696Z"
    }
   },
   "outputs": [],
   "source": [
    "a = np.array([0,1,2,3,4,5,6,7,8])"
   ]
  },
  {
   "cell_type": "code",
   "execution_count": 72,
   "id": "046c0e4a",
   "metadata": {
    "ExecuteTime": {
     "end_time": "2023-10-18T09:17:11.892447Z",
     "start_time": "2023-10-18T09:17:11.881350Z"
    }
   },
   "outputs": [
    {
     "data": {
      "text/plain": [
       "array([[0, 1, 2],\n",
       "       [3, 4, 5],\n",
       "       [6, 7, 8]])"
      ]
     },
     "execution_count": 72,
     "metadata": {},
     "output_type": "execute_result"
    }
   ],
   "source": [
    "a.reshape(3,3)"
   ]
  },
  {
   "cell_type": "code",
   "execution_count": 83,
   "id": "b100ada2",
   "metadata": {
    "ExecuteTime": {
     "end_time": "2023-10-18T09:20:24.677441Z",
     "start_time": "2023-10-18T09:20:24.669951Z"
    }
   },
   "outputs": [],
   "source": [
    "n = max(a), max(a) +1"
   ]
  },
  {
   "cell_type": "code",
   "execution_count": 85,
   "id": "c6b18590",
   "metadata": {
    "ExecuteTime": {
     "end_time": "2023-10-18T09:20:46.318724Z",
     "start_time": "2023-10-18T09:20:46.307547Z"
    }
   },
   "outputs": [
    {
     "data": {
      "text/plain": [
       "9"
      ]
     },
     "execution_count": 85,
     "metadata": {},
     "output_type": "execute_result"
    }
   ],
   "source": [
    "len(a)"
   ]
  },
  {
   "cell_type": "code",
   "execution_count": 3,
   "id": "4a2f35aa",
   "metadata": {
    "ExecuteTime": {
     "end_time": "2023-10-21T12:05:11.887028Z",
     "start_time": "2023-10-21T12:05:11.880288Z"
    }
   },
   "outputs": [],
   "source": [
    "val = {1: 0, 0:0, 2: 1, 4: 2, 5: 3}"
   ]
  },
  {
   "cell_type": "code",
   "execution_count": 4,
   "id": "171bd294",
   "metadata": {
    "ExecuteTime": {
     "end_time": "2023-10-21T12:05:12.528787Z",
     "start_time": "2023-10-21T12:05:12.510113Z"
    }
   },
   "outputs": [],
   "source": [
    "a = csr_matrix((np.array([3,4, 4,5,6]), \n",
    "                        (np.array(list(val.values())), np.array(list(val.keys())))),\n",
    "         )"
   ]
  },
  {
   "cell_type": "code",
   "execution_count": 97,
   "id": "fa3fd433",
   "metadata": {
    "ExecuteTime": {
     "end_time": "2023-10-18T10:12:37.142562Z",
     "start_time": "2023-10-18T10:12:37.122234Z"
    }
   },
   "outputs": [
    {
     "name": "stdout",
     "output_type": "stream",
     "text": [
      "  (0, 0)\t7\n",
      "  (1, 1)\t5\n",
      "  (2, 2)\t6\n",
      "  (3, 3)\t7\n",
      "  (5, 5)\t17\n",
      "  (6, 6)\t9\n",
      "  (7, 7)\t9\n"
     ]
    }
   ],
   "source": [
    "csr_matrix((np.array([3,4,5,6,7,8,9,9,9]), \n",
    "                        (np.array([0,0,1,2,3,5,5,6,7]), np.array([0,0,1,2,3,5,5,6,7]))),\n",
    "                                  shape=(9, 9)))"
   ]
  },
  {
   "cell_type": "code",
   "execution_count": 16,
   "id": "00c47687",
   "metadata": {
    "ExecuteTime": {
     "end_time": "2023-10-23T11:04:21.032924Z",
     "start_time": "2023-10-23T11:04:21.026953Z"
    }
   },
   "outputs": [],
   "source": [
    "from scipy.sparse import csr_matrix\n",
    "import numpy as np\n",
    "\n",
    "\n",
    "class Normalization:\n",
    "    '''docstring'''\n",
    "    @staticmethod\n",
    "    def by_column(matrix: csr_matrix) -> csr_matrix:\n",
    "        \"\"\"Normalization b1_y column\n",
    "\n",
    "        Args:\n",
    "            matrix (csr_matrix): User-Item matrix of size (N, M)\n",
    "\n",
    "        Returns:\n",
    "            csr_matrix: Normalized matrix of size (N, M)\n",
    "        \"\"\"\n",
    "\n",
    "        norm_matrix = csr_matrix(matrix.multiply(1/matrix.sum(0)))\n",
    "        return norm_matrix\n",
    "\n",
    "    @staticmethod\n",
    "    def by_row(matrix: csr_matrix) -> csr_matrix:\n",
    "        \"\"\"Normalization b1_y row\n",
    "\n",
    "        Args:\n",
    "            matrix (csr_matrix): User-Item matrix of size (N, M)\n",
    "\n",
    "        Returns:\n",
    "            csr_matrix: Normalized matrix of size (N, M)\n",
    "        \"\"\"\n",
    "        norm_matrix = csr_matrix(matrix.multiply(1/matrix.sum(1)))\n",
    "        return norm_matrix\n",
    "\n",
    "    @staticmethod\n",
    "    def tf_idf(matrix: csr_matrix) -> csr_matrix:\n",
    "        \"\"\"Normalization using tf_-idf\n",
    "\n",
    "        Args:\n",
    "            matrix (csr_matrix): User-Item matrix of size (N, M)\n",
    "\n",
    "        Returns:\n",
    "            csr_matrix: Normalized matrix of size (N, M)\n",
    "        \"\"\"\n",
    "        tf_ = csr_matrix(matrix.multiply(1/matrix.sum(1)))\n",
    "        idf = csr_matrix(matrix.get_shape()[\n",
    "                         0] / (matrix > 0).sum(0) - 1).log1p()\n",
    "        norm_matrix = tf_.multiply(idf)\n",
    "\n",
    "        return norm_matrix\n",
    "\n",
    "    @staticmethod\n",
    "    def bm_25(\n",
    "        matrix: csr_matrix, k1_: float = 2.0, b1_: float = 0.75\n",
    "    ) -> csr_matrix:\n",
    "        \"\"\"Normalization b1_ased on b1_M-25\n",
    "\n",
    "        Args:\n",
    "            matrix (csr_matrix): User-Item matrix of size (N, M)\n",
    "\n",
    "        Returns:\n",
    "            csr_matrix: Normalized matrix of size (N, M)\n",
    "        \"\"\"\n",
    "        length_d = matrix.sum(1)\n",
    "        tf_ = matrix.multiply(1 / length_d)\n",
    "        idf = csr_matrix(\n",
    "            (matrix.get_shape()[0]) / (matrix > 0).sum(0) - 1).log1p()\n",
    "        avd_d = np.mean(length_d)\n",
    "\n",
    "        delta = k1_*((1 - b1_) + b1_ * (length_d/avd_d))\n",
    "        tf__inv = tf_.multiply(1 / delta).power(-1)\n",
    "        tf__inv.data += 1\n",
    "        norm_matrix = tf__inv.power(-1) * (k1_+1)\n",
    "        norm_matrix = norm_matrix.multiply(idf)\n",
    "\n",
    "        return norm_matrix\n"
   ]
  },
  {
   "cell_type": "code",
   "execution_count": 88,
   "id": "bdeeb502",
   "metadata": {
    "ExecuteTime": {
     "end_time": "2023-10-23T10:05:07.154005Z",
     "start_time": "2023-10-23T10:05:07.150497Z"
    }
   },
   "outputs": [
    {
     "name": "stdout",
     "output_type": "stream",
     "text": [
      "  (0, 0)\t0.5714285714285714\n",
      "  (0, 1)\t0.42857142857142855\n",
      "  (1, 2)\t1.0\n",
      "  (2, 4)\t1.0\n",
      "  (3, 5)\t1.0\n"
     ]
    }
   ],
   "source": [
    "print(Normalization().by_row(a))"
   ]
  },
  {
   "cell_type": "code",
   "execution_count": 89,
   "id": "93bb408c",
   "metadata": {
    "ExecuteTime": {
     "end_time": "2023-10-23T10:05:08.570698Z",
     "start_time": "2023-10-23T10:05:08.562810Z"
    }
   },
   "outputs": [
    {
     "name": "stdout",
     "output_type": "stream",
     "text": [
      "  (0, 0)\t1.0\n",
      "  (0, 1)\t1.0\n",
      "  (1, 2)\t1.0\n",
      "  (2, 4)\t1.0\n",
      "  (3, 5)\t1.0\n"
     ]
    },
    {
     "name": "stderr",
     "output_type": "stream",
     "text": [
      "/tmp/ipykernel_17350/1042805372.py:17: RuntimeWarning: divide by zero encountered in divide\n",
      "  norm_matrix = csr_matrix(matrix.multiply(1/matrix.sum(0)))\n"
     ]
    }
   ],
   "source": [
    "print(Normalization().by_column(a))"
   ]
  },
  {
   "cell_type": "code",
   "execution_count": 67,
   "id": "8291f005",
   "metadata": {
    "ExecuteTime": {
     "end_time": "2023-10-23T09:55:07.741281Z",
     "start_time": "2023-10-23T09:55:07.730381Z"
    }
   },
   "outputs": [
    {
     "name": "stdout",
     "output_type": "stream",
     "text": [
      "  (0, 1)\t0.5941261547656673\n",
      "  (0, 0)\t0.7921682063542231\n",
      "  (1, 2)\t1.3862943611198906\n",
      "  (2, 4)\t1.3862943611198906\n",
      "  (3, 5)\t1.3862943611198906\n"
     ]
    },
    {
     "name": "stderr",
     "output_type": "stream",
     "text": [
      "/tmp/ipykernel_17350/595294467.py:44: RuntimeWarning: divide by zero encountered in divide\n",
      "  idf = csr_matrix(matrix.get_shape()[0] / (matrix > 0).sum(0) -1).log1p()\n"
     ]
    }
   ],
   "source": [
    "print(Normalization().tf_idf(a))"
   ]
  },
  {
   "cell_type": "code",
   "execution_count": 68,
   "id": "8d16cc99",
   "metadata": {
    "ExecuteTime": {
     "end_time": "2023-10-23T09:55:14.991282Z",
     "start_time": "2023-10-23T09:55:14.973817Z"
    }
   },
   "outputs": [
    {
     "name": "stdout",
     "output_type": "stream",
     "text": [
      "  (0, 1)\t0.6281150652213693\n",
      "  (0, 0)\t0.7973457763303945\n",
      "  (1, 2)\t1.6051829444546102\n",
      "  (2, 4)\t1.452308378316076\n",
      "  (3, 5)\t1.3260206932451128\n",
      "CPU times: user 9.18 ms, sys: 92 µs, total: 9.27 ms\n",
      "Wall time: 8.45 ms\n"
     ]
    },
    {
     "name": "stderr",
     "output_type": "stream",
     "text": [
      "/tmp/ipykernel_17350/595294467.py:63: RuntimeWarning: divide by zero encountered in divide\n",
      "  idf = csr_matrix((matrix.get_shape()[0]) / (matrix > 0).sum(0) -1).log1p()\n"
     ]
    }
   ],
   "source": [
    "%%time\n",
    "print(Normalization().bm_25(a))"
   ]
  },
  {
   "cell_type": "code",
   "execution_count": 51,
   "id": "aa9be8ee",
   "metadata": {
    "ExecuteTime": {
     "end_time": "2023-10-23T11:32:23.544844Z",
     "start_time": "2023-10-23T11:32:23.265676Z"
    }
   },
   "outputs": [],
   "source": [
    "data = pd.read_csv('data.csv')"
   ]
  },
  {
   "cell_type": "code",
   "execution_count": 52,
   "id": "b54a264d",
   "metadata": {
    "ExecuteTime": {
     "end_time": "2023-10-23T11:32:24.290218Z",
     "start_time": "2023-10-23T11:32:24.276721Z"
    }
   },
   "outputs": [
    {
     "data": {
      "text/html": [
       "<div>\n",
       "<style scoped>\n",
       "    .dataframe tbody tr th:only-of-type {\n",
       "        vertical-align: middle;\n",
       "    }\n",
       "\n",
       "    .dataframe tbody tr th {\n",
       "        vertical-align: top;\n",
       "    }\n",
       "\n",
       "    .dataframe thead th {\n",
       "        text-align: right;\n",
       "    }\n",
       "</style>\n",
       "<table border=\"1\" class=\"dataframe\">\n",
       "  <thead>\n",
       "    <tr style=\"text-align: right;\">\n",
       "      <th></th>\n",
       "      <th>user_id</th>\n",
       "      <th>item_id</th>\n",
       "      <th>qty</th>\n",
       "      <th>price</th>\n",
       "    </tr>\n",
       "  </thead>\n",
       "  <tbody>\n",
       "    <tr>\n",
       "      <th>0</th>\n",
       "      <td>1</td>\n",
       "      <td>12224</td>\n",
       "      <td>1</td>\n",
       "      <td>1183.19</td>\n",
       "    </tr>\n",
       "    <tr>\n",
       "      <th>1</th>\n",
       "      <td>1</td>\n",
       "      <td>14816</td>\n",
       "      <td>1</td>\n",
       "      <td>688.33</td>\n",
       "    </tr>\n",
       "    <tr>\n",
       "      <th>2</th>\n",
       "      <td>1</td>\n",
       "      <td>17872</td>\n",
       "      <td>1</td>\n",
       "      <td>696.20</td>\n",
       "    </tr>\n",
       "    <tr>\n",
       "      <th>3</th>\n",
       "      <td>1</td>\n",
       "      <td>23481</td>\n",
       "      <td>1</td>\n",
       "      <td>1934.48</td>\n",
       "    </tr>\n",
       "    <tr>\n",
       "      <th>4</th>\n",
       "      <td>2</td>\n",
       "      <td>1197</td>\n",
       "      <td>3</td>\n",
       "      <td>970.94</td>\n",
       "    </tr>\n",
       "    <tr>\n",
       "      <th>...</th>\n",
       "      <td>...</td>\n",
       "      <td>...</td>\n",
       "      <td>...</td>\n",
       "      <td>...</td>\n",
       "    </tr>\n",
       "    <tr>\n",
       "      <th>1209327</th>\n",
       "      <td>39860</td>\n",
       "      <td>19476</td>\n",
       "      <td>1</td>\n",
       "      <td>794.56</td>\n",
       "    </tr>\n",
       "    <tr>\n",
       "      <th>1209328</th>\n",
       "      <td>39860</td>\n",
       "      <td>20481</td>\n",
       "      <td>1</td>\n",
       "      <td>835.51</td>\n",
       "    </tr>\n",
       "    <tr>\n",
       "      <th>1209329</th>\n",
       "      <td>39860</td>\n",
       "      <td>26729</td>\n",
       "      <td>1</td>\n",
       "      <td>630.62</td>\n",
       "    </tr>\n",
       "    <tr>\n",
       "      <th>1209330</th>\n",
       "      <td>39860</td>\n",
       "      <td>27243</td>\n",
       "      <td>1</td>\n",
       "      <td>483.45</td>\n",
       "    </tr>\n",
       "    <tr>\n",
       "      <th>1209331</th>\n",
       "      <td>39860</td>\n",
       "      <td>27982</td>\n",
       "      <td>1</td>\n",
       "      <td>385.47</td>\n",
       "    </tr>\n",
       "  </tbody>\n",
       "</table>\n",
       "<p>1209332 rows × 4 columns</p>\n",
       "</div>"
      ],
      "text/plain": [
       "         user_id  item_id  qty    price\n",
       "0              1    12224    1  1183.19\n",
       "1              1    14816    1   688.33\n",
       "2              1    17872    1   696.20\n",
       "3              1    23481    1  1934.48\n",
       "4              2     1197    3   970.94\n",
       "...          ...      ...  ...      ...\n",
       "1209327    39860    19476    1   794.56\n",
       "1209328    39860    20481    1   835.51\n",
       "1209329    39860    26729    1   630.62\n",
       "1209330    39860    27243    1   483.45\n",
       "1209331    39860    27982    1   385.47\n",
       "\n",
       "[1209332 rows x 4 columns]"
      ]
     },
     "execution_count": 52,
     "metadata": {},
     "output_type": "execute_result"
    }
   ],
   "source": [
    "data"
   ]
  },
  {
   "cell_type": "code",
   "execution_count": 53,
   "id": "1fac1489",
   "metadata": {
    "ExecuteTime": {
     "end_time": "2023-10-23T11:32:27.280080Z",
     "start_time": "2023-10-23T11:32:26.500716Z"
    }
   },
   "outputs": [],
   "source": [
    "data = Normalization().bm_25(UserItemMatrix(data).csr_matrix)"
   ]
  },
  {
   "cell_type": "code",
   "execution_count": 54,
   "id": "94285701",
   "metadata": {
    "ExecuteTime": {
     "end_time": "2023-10-23T11:32:28.153728Z",
     "start_time": "2023-10-23T11:32:28.150229Z"
    }
   },
   "outputs": [
    {
     "data": {
      "text/plain": [
       "<38114x27757 sparse matrix of type '<class 'numpy.float64'>'\n",
       "\twith 1209332 stored elements in Compressed Sparse Row format>"
      ]
     },
     "execution_count": 54,
     "metadata": {},
     "output_type": "execute_result"
    }
   ],
   "source": [
    "data"
   ]
  },
  {
   "cell_type": "code",
   "execution_count": 60,
   "id": "ec2d0e85",
   "metadata": {
    "ExecuteTime": {
     "end_time": "2023-10-23T11:33:54.263656Z",
     "start_time": "2023-10-23T11:33:53.373694Z"
    }
   },
   "outputs": [],
   "source": []
  },
  {
   "cell_type": "code",
   "execution_count": 61,
   "id": "91825cc5",
   "metadata": {
    "ExecuteTime": {
     "end_time": "2023-10-23T11:33:55.058485Z",
     "start_time": "2023-10-23T11:33:55.054249Z"
    }
   },
   "outputs": [
    {
     "data": {
      "text/plain": [
       "(38114, 17)"
      ]
     },
     "execution_count": 61,
     "metadata": {},
     "output_type": "execute_result"
    }
   ],
   "source": [
    "U.shape"
   ]
  },
  {
   "cell_type": "code",
   "execution_count": 63,
   "id": "7c715fab",
   "metadata": {
    "ExecuteTime": {
     "end_time": "2023-10-23T11:37:02.530847Z",
     "start_time": "2023-10-23T11:37:02.527698Z"
    }
   },
   "outputs": [],
   "source": [
    "import numpy as np\n",
    "from scipy.sparse import csr_matrix\n",
    "import pickle\n",
    "from scipy import sparse, linalg, stats\n",
    "from scipy.sparse.linalg import svds, aslinearoperator, LinearOperator\n",
    "\n",
    "\n",
    "def items_embeddings(ui_matrix: csr_matrix, dim: int) -> np.ndarray:\n",
    "    \"\"\"Build items embedding using factorization model.\n",
    "    The order of items should be the same in the output matrix.\n",
    "\n",
    "    Args:\n",
    "        ui_matrix (pd.DataFrame): User-Item matrix of size (N, M)\n",
    "        dim (int): Dimention of embedding vectors\n",
    "\n",
    "    Returns:\n",
    "        np.ndarray: Items embeddings matrix of size (M, dim)\n",
    "    \"\"\"\n",
    "    items_vec, S, V = svds(ui_matrix, k = dim)\n",
    "    \n",
    "    \n",
    "    return items_vec\n"
   ]
  },
  {
   "cell_type": "code",
   "execution_count": null,
   "id": "e438eda9",
   "metadata": {},
   "outputs": [],
   "source": [
    "items_embeddings(data, 10)"
   ]
  },
  {
   "cell_type": "code",
   "execution_count": 45,
   "id": "960c77db",
   "metadata": {
    "ExecuteTime": {
     "end_time": "2023-10-23T11:24:20.094745Z",
     "start_time": "2023-10-23T11:24:19.719340Z"
    }
   },
   "outputs": [],
   "source": [
    "with open('test.pkl','wb') as f:\n",
    "    pickle.dump(items_embeddings(data, data.shape[0]), f)\n"
   ]
  }
 ],
 "metadata": {
  "kernelspec": {
   "display_name": "Python 3 (ipykernel)",
   "language": "python",
   "name": "python3"
  },
  "language_info": {
   "codemirror_mode": {
    "name": "ipython",
    "version": 3
   },
   "file_extension": ".py",
   "mimetype": "text/x-python",
   "name": "python",
   "nbconvert_exporter": "python",
   "pygments_lexer": "ipython3",
   "version": "3.10.12"
  },
  "varInspector": {
   "cols": {
    "lenName": 16,
    "lenType": 16,
    "lenVar": 40
   },
   "kernels_config": {
    "python": {
     "delete_cmd_postfix": "",
     "delete_cmd_prefix": "del ",
     "library": "var_list.py",
     "varRefreshCmd": "print(var_dic_list())"
    },
    "r": {
     "delete_cmd_postfix": ") ",
     "delete_cmd_prefix": "rm(",
     "library": "var_list.r",
     "varRefreshCmd": "cat(var_dic_list()) "
    }
   },
   "types_to_exclude": [
    "module",
    "function",
    "builtin_function_or_method",
    "instance",
    "_Feature"
   ],
   "window_display": false
  }
 },
 "nbformat": 4,
 "nbformat_minor": 5
}
