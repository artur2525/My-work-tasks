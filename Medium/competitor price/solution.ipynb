{
 "cells": [
  {
   "cell_type": "code",
   "execution_count": 1,
   "id": "1455a37c",
   "metadata": {
    "ExecuteTime": {
     "end_time": "2023-10-04T11:38:32.553422Z",
     "start_time": "2023-10-04T11:38:32.331048Z"
    }
   },
   "outputs": [],
   "source": [
    "import pandas as pd"
   ]
  },
  {
   "cell_type": "code",
   "execution_count": 54,
   "id": "0509710a",
   "metadata": {
    "ExecuteTime": {
     "end_time": "2023-09-28T13:13:13.352050Z",
     "start_time": "2023-09-28T13:13:13.344571Z"
    }
   },
   "outputs": [],
   "source": [
    "d = {'col1': [1, 1, 2, 2, 3, 3], 'col2': [3, 4, 3, 5, 6 , 6], 'col3':['median','median',\n",
    "                                                                      'sum' ,'sum',\n",
    "                                                                     'median','median']}\n",
    "\n",
    "df = pd.DataFrame(data=d)"
   ]
  },
  {
   "cell_type": "code",
   "execution_count": null,
   "id": "c7bf0349",
   "metadata": {},
   "outputs": [],
   "source": []
  },
  {
   "cell_type": "code",
   "execution_count": 56,
   "id": "eeaab2d4",
   "metadata": {
    "ExecuteTime": {
     "end_time": "2023-09-28T13:13:21.437957Z",
     "start_time": "2023-09-28T13:13:21.424482Z"
    }
   },
   "outputs": [],
   "source": [
    "ag = df.groupby(['col1'])['col3'].unique().apply(lambda x: ''.join(x)).values"
   ]
  },
  {
   "cell_type": "code",
   "execution_count": 57,
   "id": "2a81eba8",
   "metadata": {
    "ExecuteTime": {
     "end_time": "2023-09-28T13:13:22.475527Z",
     "start_time": "2023-09-28T13:13:22.472466Z"
    }
   },
   "outputs": [
    {
     "data": {
      "text/plain": [
       "array(['median', 'sum', 'median'], dtype=object)"
      ]
     },
     "execution_count": 57,
     "metadata": {},
     "output_type": "execute_result"
    }
   ],
   "source": [
    "ag"
   ]
  },
  {
   "cell_type": "code",
   "execution_count": 58,
   "id": "3c4ece38",
   "metadata": {
    "ExecuteTime": {
     "end_time": "2023-09-28T13:13:25.389772Z",
     "start_time": "2023-09-28T13:13:25.383116Z"
    }
   },
   "outputs": [
    {
     "data": {
      "text/plain": [
       "array([3.5, 8. , 6. ])"
      ]
     },
     "execution_count": 58,
     "metadata": {},
     "output_type": "execute_result"
    }
   ],
   "source": [
    "np.diag(df.groupby(['col1', 'col3']).agg({'col2' : ag}).values)"
   ]
  },
  {
   "cell_type": "code",
   "execution_count": 59,
   "id": "5e8f1d21",
   "metadata": {
    "ExecuteTime": {
     "end_time": "2023-09-28T13:13:45.088328Z",
     "start_time": "2023-09-28T13:13:45.050732Z"
    }
   },
   "outputs": [
    {
     "data": {
      "text/html": [
       "<div>\n",
       "<style scoped>\n",
       "    .dataframe tbody tr th:only-of-type {\n",
       "        vertical-align: middle;\n",
       "    }\n",
       "\n",
       "    .dataframe tbody tr th {\n",
       "        vertical-align: top;\n",
       "    }\n",
       "\n",
       "    .dataframe thead tr th {\n",
       "        text-align: left;\n",
       "    }\n",
       "\n",
       "    .dataframe thead tr:last-of-type th {\n",
       "        text-align: right;\n",
       "    }\n",
       "</style>\n",
       "<table border=\"1\" class=\"dataframe\">\n",
       "  <thead>\n",
       "    <tr>\n",
       "      <th></th>\n",
       "      <th></th>\n",
       "      <th colspan=\"3\" halign=\"left\">col2</th>\n",
       "    </tr>\n",
       "    <tr>\n",
       "      <th></th>\n",
       "      <th></th>\n",
       "      <th>median</th>\n",
       "      <th>sum</th>\n",
       "      <th>median</th>\n",
       "    </tr>\n",
       "    <tr>\n",
       "      <th>col1</th>\n",
       "      <th>col3</th>\n",
       "      <th></th>\n",
       "      <th></th>\n",
       "      <th></th>\n",
       "    </tr>\n",
       "  </thead>\n",
       "  <tbody>\n",
       "    <tr>\n",
       "      <th>1</th>\n",
       "      <th>median</th>\n",
       "      <td>3.5</td>\n",
       "      <td>7</td>\n",
       "      <td>3.5</td>\n",
       "    </tr>\n",
       "    <tr>\n",
       "      <th>2</th>\n",
       "      <th>sum</th>\n",
       "      <td>4.0</td>\n",
       "      <td>8</td>\n",
       "      <td>4.0</td>\n",
       "    </tr>\n",
       "    <tr>\n",
       "      <th>3</th>\n",
       "      <th>median</th>\n",
       "      <td>6.0</td>\n",
       "      <td>12</td>\n",
       "      <td>6.0</td>\n",
       "    </tr>\n",
       "  </tbody>\n",
       "</table>\n",
       "</div>"
      ],
      "text/plain": [
       "              col2           \n",
       "            median sum median\n",
       "col1 col3                    \n",
       "1    median    3.5   7    3.5\n",
       "2    sum       4.0   8    4.0\n",
       "3    median    6.0  12    6.0"
      ]
     },
     "execution_count": 59,
     "metadata": {},
     "output_type": "execute_result"
    }
   ],
   "source": [
    "df.groupby(['col1', 'col3']).agg({'col2' : ag})"
   ]
  },
  {
   "cell_type": "code",
   "execution_count": 74,
   "id": "2326d038",
   "metadata": {
    "ExecuteTime": {
     "end_time": "2023-09-28T13:33:11.256226Z",
     "start_time": "2023-09-28T13:33:11.229988Z"
    }
   },
   "outputs": [
    {
     "data": {
      "text/html": [
       "<div>\n",
       "<style scoped>\n",
       "    .dataframe tbody tr th:only-of-type {\n",
       "        vertical-align: middle;\n",
       "    }\n",
       "\n",
       "    .dataframe tbody tr th {\n",
       "        vertical-align: top;\n",
       "    }\n",
       "\n",
       "    .dataframe thead th {\n",
       "        text-align: right;\n",
       "    }\n",
       "</style>\n",
       "<table border=\"1\" class=\"dataframe\">\n",
       "  <thead>\n",
       "    <tr style=\"text-align: right;\">\n",
       "      <th></th>\n",
       "      <th>col1</th>\n",
       "      <th>col3</th>\n",
       "      <th>col2</th>\n",
       "    </tr>\n",
       "  </thead>\n",
       "  <tbody>\n",
       "    <tr>\n",
       "      <th>0</th>\n",
       "      <td>1</td>\n",
       "      <td>median</td>\n",
       "      <td>3.5</td>\n",
       "    </tr>\n",
       "    <tr>\n",
       "      <th>1</th>\n",
       "      <td>2</td>\n",
       "      <td>sum</td>\n",
       "      <td>4.0</td>\n",
       "    </tr>\n",
       "    <tr>\n",
       "      <th>2</th>\n",
       "      <td>3</td>\n",
       "      <td>median</td>\n",
       "      <td>6.0</td>\n",
       "    </tr>\n",
       "  </tbody>\n",
       "</table>\n",
       "</div>"
      ],
      "text/plain": [
       "   col1    col3  col2\n",
       "0     1  median   3.5\n",
       "1     2     sum   4.0\n",
       "2     3  median   6.0"
      ]
     },
     "execution_count": 74,
     "metadata": {},
     "output_type": "execute_result"
    }
   ],
   "source": [
    "df.groupby(['col1', 'col3'])['col2'].mean().reset_index()"
   ]
  },
  {
   "cell_type": "code",
   "execution_count": 65,
   "id": "0c1df709",
   "metadata": {
    "ExecuteTime": {
     "end_time": "2023-09-28T13:16:36.959916Z",
     "start_time": "2023-09-28T13:16:36.956917Z"
    }
   },
   "outputs": [],
   "source": [
    "exp = np.array([2,2 ,13])"
   ]
  },
  {
   "cell_type": "code",
   "execution_count": 68,
   "id": "ca1ab4c5",
   "metadata": {
    "ExecuteTime": {
     "end_time": "2023-09-28T13:16:59.208261Z",
     "start_time": "2023-09-28T13:16:59.205495Z"
    }
   },
   "outputs": [],
   "source": [
    "exp[exp==2] = np.array([2,3])"
   ]
  },
  {
   "cell_type": "code",
   "execution_count": 69,
   "id": "ac37cef0",
   "metadata": {
    "ExecuteTime": {
     "end_time": "2023-09-28T13:17:04.249209Z",
     "start_time": "2023-09-28T13:17:04.244266Z"
    }
   },
   "outputs": [
    {
     "data": {
      "text/plain": [
       "array([ 2,  3, 13])"
      ]
     },
     "execution_count": 69,
     "metadata": {},
     "output_type": "execute_result"
    }
   ],
   "source": [
    "exp"
   ]
  },
  {
   "cell_type": "code",
   "execution_count": null,
   "id": "b0416406",
   "metadata": {},
   "outputs": [],
   "source": []
  },
  {
   "cell_type": "code",
   "execution_count": 40,
   "id": "90d723db",
   "metadata": {
    "ExecuteTime": {
     "end_time": "2023-10-04T12:46:12.760701Z",
     "start_time": "2023-10-04T12:46:12.750549Z"
    }
   },
   "outputs": [],
   "source": [
    "import numpy as np\n",
    "import pandas as pd\n",
    "\n",
    "\n",
    "def agg_comp_price(X: pd.DataFrame) -> pd.DataFrame:\n",
    "    '''pipline for price'''\n",
    "    x = X.copy()\n",
    "    if (np.unique(x['agg']) != 'rnk').all():\n",
    "        x_rnk = x[x['agg'] == 'rnk']\n",
    "        x = x[x['agg'] != 'rnk']\n",
    "        agreg = x.groupby(['sku'])['agg'].unique().apply(\n",
    "            lambda x: ''.join(x)).values\n",
    "        agreg[agreg == 'med'] = 'median'\n",
    "        agreg[agreg == 'avg'] = 'mean'\n",
    "        x_rnk = x_rnk[x_rnk['agg'] == 'rnk'].\\\n",
    "            groupby(['sku', 'agg', 'base_price'])['rank', 'comp_price'].min().\\\n",
    "            reset_index()\n",
    "\n",
    "        prices = np.diag(x.groupby(['sku', 'agg']).agg(\n",
    "            {'comp_price': agreg}).values)\n",
    "\n",
    "        data = x.groupby(['sku', 'agg'])['base_price'].mean().reset_index()\n",
    "\n",
    "        data['comp_price'] = prices\n",
    "        data = pd.concat([data, x_rnk.drop('rank', axis=1)], axis=0).sort_values(by='sku').\\\n",
    "            reset_index(drop=True)\n",
    "        data['new_price'] = np.where(abs(((100 / data['base_price']) * data['comp_price']) - 100) >= 20,\n",
    "                                     data['base_price'], data['comp_price'])\n",
    "        data['new_price'].fillna(data['base_price'], inplace=True)\n",
    "\n",
    "        return data\n",
    "\n",
    "    elif (np.unique(x['agg']) == 'rnk').all():\n",
    "        x['rank'].fillna(-1, inplace = True)\n",
    "        data = x.\\\n",
    "            groupby(['sku', 'agg', 'base_price'])['rank', 'comp_price'].min().\\\n",
    "            reset_index()\n",
    "\n",
    "        data = data.drop('rank', axis=1).reset_index(drop = True)\n",
    "        data['new_price'] = np.where(abs(((100 / data['base_price']) * data['comp_price']) - 100) >= 20,\n",
    "                                     data['base_price'], data['comp_price'])\n",
    "        data['new_price'].fillna(data['base_price'], inplace=True)\n",
    "        return data\n",
    "\n",
    "    else:\n",
    "        data = x.groupby(['sku', 'agg', 'base_price'])['rank', 'comp_price'].min().\\\n",
    "            reset_index()\n",
    "\n",
    "        data = data.drop('rank', axis=1)\n",
    "        data['new_price'] = np.where(abs(((100 / data['base_price']) * data['comp_price']) - 100) >= 20,\n",
    "                                     data['base_price'], data['comp_price'])\n",
    "        data['new_price'].fillna(data['base_price'], inplace=True)\n",
    "        return data"
   ]
  },
  {
   "cell_type": "code",
   "execution_count": 8,
   "id": "c4c7bddc",
   "metadata": {
    "ExecuteTime": {
     "end_time": "2023-10-04T11:40:13.525254Z",
     "start_time": "2023-10-04T11:40:13.497719Z"
    }
   },
   "outputs": [],
   "source": [
    "df = pd.DataFrame({'sku': [0, 1, 1, 2, 2, 3, 3, 4, 5, 5, 5, 6, 6, 6, 7, 8, 9],\n",
    "                   'agg': ['max', 'med', 'med', 'avg', 'avg', 'rnk', 'rnk', 'max', 'max', 'max', 'max', 'min',  'min',  'min', 'med', 'rnk', 'rnk'],\n",
    "                   'rank': [-1, 0, 1, 0, 1, 0, 2, 0, 0, 1, 2, 0, 1, 2, 0, -1, 0],\n",
    "                   'base_price': [33.0, 17.7, 17.7, 76.7, 76.7, 39.7, 39.7, 18.0, 84.8, 84.8, 84.8, 73.6, 73.6, 73.6, 58.6, 35.2, 87.0],\n",
    "                   'comp_price': [np.nan, 16.4, 21.8, 77.0, 73.9, 37.4, 47.9, 22.4, 106.0, 104.7, 80.9, 31.7, 33.6, 74.7, 71.3, np.nan, 88.2]})\n",
    "\n",
    "Expected = pd.DataFrame({'sku': [0, 1, 2, 3, 4, 5, 6, 7, 8, 9],\n",
    "                         'agg': ['max', 'med', 'avg', 'rnk', 'max', 'max', 'min', 'med', 'rnk', 'rnk'],\n",
    "                         'base_price' : [33.0, 17.7, 76.7, 39.7, 18.0, 84.8, 73.6, 58.6, 35.2, 87.0],\n",
    "                         'comp_price': [np.nan, 19.10, 75.45, 37.40, 22.40, 106.00, 31.70, 71.30, np.nan, 88.20],\n",
    "                         'new_price': [33.00, 19.10, 75.45, 37.40, 18.00, 84.80, 73.60, 58.60, 35.20, 88.20]})"
   ]
  },
  {
   "cell_type": "code",
   "execution_count": 12,
   "id": "cb3dd5df",
   "metadata": {
    "ExecuteTime": {
     "end_time": "2023-10-04T11:40:33.848690Z",
     "start_time": "2023-10-04T11:40:33.822530Z"
    }
   },
   "outputs": [
    {
     "data": {
      "text/html": [
       "<div>\n",
       "<style scoped>\n",
       "    .dataframe tbody tr th:only-of-type {\n",
       "        vertical-align: middle;\n",
       "    }\n",
       "\n",
       "    .dataframe tbody tr th {\n",
       "        vertical-align: top;\n",
       "    }\n",
       "\n",
       "    .dataframe thead th {\n",
       "        text-align: right;\n",
       "    }\n",
       "</style>\n",
       "<table border=\"1\" class=\"dataframe\">\n",
       "  <thead>\n",
       "    <tr style=\"text-align: right;\">\n",
       "      <th></th>\n",
       "      <th>sku</th>\n",
       "      <th>agg</th>\n",
       "      <th>rank</th>\n",
       "      <th>base_price</th>\n",
       "      <th>comp_price</th>\n",
       "    </tr>\n",
       "  </thead>\n",
       "  <tbody>\n",
       "    <tr>\n",
       "      <th>5</th>\n",
       "      <td>3</td>\n",
       "      <td>rnk</td>\n",
       "      <td>0</td>\n",
       "      <td>39.7</td>\n",
       "      <td>37.4</td>\n",
       "    </tr>\n",
       "    <tr>\n",
       "      <th>6</th>\n",
       "      <td>3</td>\n",
       "      <td>rnk</td>\n",
       "      <td>2</td>\n",
       "      <td>39.7</td>\n",
       "      <td>47.9</td>\n",
       "    </tr>\n",
       "    <tr>\n",
       "      <th>15</th>\n",
       "      <td>8</td>\n",
       "      <td>rnk</td>\n",
       "      <td>-1</td>\n",
       "      <td>35.2</td>\n",
       "      <td>NaN</td>\n",
       "    </tr>\n",
       "    <tr>\n",
       "      <th>16</th>\n",
       "      <td>9</td>\n",
       "      <td>rnk</td>\n",
       "      <td>0</td>\n",
       "      <td>87.0</td>\n",
       "      <td>88.2</td>\n",
       "    </tr>\n",
       "  </tbody>\n",
       "</table>\n",
       "</div>"
      ],
      "text/plain": [
       "    sku  agg  rank  base_price  comp_price\n",
       "5     3  rnk     0        39.7        37.4\n",
       "6     3  rnk     2        39.7        47.9\n",
       "15    8  rnk    -1        35.2         NaN\n",
       "16    9  rnk     0        87.0        88.2"
      ]
     },
     "execution_count": 12,
     "metadata": {},
     "output_type": "execute_result"
    }
   ],
   "source": [
    "df[df['agg'] == 'rnk']"
   ]
  },
  {
   "cell_type": "code",
   "execution_count": 39,
   "id": "7f256bef",
   "metadata": {
    "ExecuteTime": {
     "end_time": "2023-10-04T12:45:56.172444Z",
     "start_time": "2023-10-04T12:45:56.149537Z"
    },
    "scrolled": false
   },
   "outputs": [
    {
     "data": {
      "text/html": [
       "<div>\n",
       "<style scoped>\n",
       "    .dataframe tbody tr th:only-of-type {\n",
       "        vertical-align: middle;\n",
       "    }\n",
       "\n",
       "    .dataframe tbody tr th {\n",
       "        vertical-align: top;\n",
       "    }\n",
       "\n",
       "    .dataframe thead th {\n",
       "        text-align: right;\n",
       "    }\n",
       "</style>\n",
       "<table border=\"1\" class=\"dataframe\">\n",
       "  <thead>\n",
       "    <tr style=\"text-align: right;\">\n",
       "      <th></th>\n",
       "      <th>sku</th>\n",
       "      <th>agg</th>\n",
       "      <th>base_price</th>\n",
       "      <th>comp_price</th>\n",
       "      <th>new_price</th>\n",
       "    </tr>\n",
       "  </thead>\n",
       "  <tbody>\n",
       "    <tr>\n",
       "      <th>0</th>\n",
       "      <td>3</td>\n",
       "      <td>rnk</td>\n",
       "      <td>39.7</td>\n",
       "      <td>37.4</td>\n",
       "      <td>37.4</td>\n",
       "    </tr>\n",
       "    <tr>\n",
       "      <th>1</th>\n",
       "      <td>8</td>\n",
       "      <td>rnk</td>\n",
       "      <td>35.2</td>\n",
       "      <td>NaN</td>\n",
       "      <td>35.2</td>\n",
       "    </tr>\n",
       "    <tr>\n",
       "      <th>2</th>\n",
       "      <td>9</td>\n",
       "      <td>rnk</td>\n",
       "      <td>87.0</td>\n",
       "      <td>88.2</td>\n",
       "      <td>88.2</td>\n",
       "    </tr>\n",
       "  </tbody>\n",
       "</table>\n",
       "</div>"
      ],
      "text/plain": [
       "   sku  agg  base_price  comp_price  new_price\n",
       "0    3  rnk        39.7        37.4       37.4\n",
       "1    8  rnk        35.2         NaN       35.2\n",
       "2    9  rnk        87.0        88.2       88.2"
      ]
     },
     "execution_count": 39,
     "metadata": {},
     "output_type": "execute_result"
    }
   ],
   "source": [
    "agg_comp_price(df[df['agg'] == 'rnk'])"
   ]
  },
  {
   "cell_type": "code",
   "execution_count": 41,
   "id": "fe8514dd",
   "metadata": {
    "ExecuteTime": {
     "end_time": "2023-10-04T12:46:15.978419Z",
     "start_time": "2023-10-04T12:46:15.957100Z"
    }
   },
   "outputs": [
    {
     "name": "stderr",
     "output_type": "stream",
     "text": [
      "/tmp/ipykernel_19338/2608400329.py:35: FutureWarning: Indexing with multiple keys (implicitly converted to a tuple of keys) will be deprecated, use a list instead.\n",
      "  data = x.\\\n"
     ]
    },
    {
     "data": {
      "text/html": [
       "<div>\n",
       "<style scoped>\n",
       "    .dataframe tbody tr th:only-of-type {\n",
       "        vertical-align: middle;\n",
       "    }\n",
       "\n",
       "    .dataframe tbody tr th {\n",
       "        vertical-align: top;\n",
       "    }\n",
       "\n",
       "    .dataframe thead th {\n",
       "        text-align: right;\n",
       "    }\n",
       "</style>\n",
       "<table border=\"1\" class=\"dataframe\">\n",
       "  <thead>\n",
       "    <tr style=\"text-align: right;\">\n",
       "      <th></th>\n",
       "      <th>sku</th>\n",
       "      <th>agg</th>\n",
       "      <th>base_price</th>\n",
       "      <th>comp_price</th>\n",
       "      <th>new_price</th>\n",
       "    </tr>\n",
       "  </thead>\n",
       "  <tbody>\n",
       "    <tr>\n",
       "      <th>0</th>\n",
       "      <td>3</td>\n",
       "      <td>rnk</td>\n",
       "      <td>39.7</td>\n",
       "      <td>37.4</td>\n",
       "      <td>37.4</td>\n",
       "    </tr>\n",
       "    <tr>\n",
       "      <th>1</th>\n",
       "      <td>8</td>\n",
       "      <td>rnk</td>\n",
       "      <td>35.2</td>\n",
       "      <td>NaN</td>\n",
       "      <td>35.2</td>\n",
       "    </tr>\n",
       "    <tr>\n",
       "      <th>2</th>\n",
       "      <td>9</td>\n",
       "      <td>rnk</td>\n",
       "      <td>87.0</td>\n",
       "      <td>88.2</td>\n",
       "      <td>88.2</td>\n",
       "    </tr>\n",
       "  </tbody>\n",
       "</table>\n",
       "</div>"
      ],
      "text/plain": [
       "   sku  agg  base_price  comp_price  new_price\n",
       "0    3  rnk        39.7        37.4       37.4\n",
       "1    8  rnk        35.2         NaN       35.2\n",
       "2    9  rnk        87.0        88.2       88.2"
      ]
     },
     "execution_count": 41,
     "metadata": {},
     "output_type": "execute_result"
    }
   ],
   "source": [
    "agg_comp_price(df[df['agg'] == 'rnk'])"
   ]
  },
  {
   "cell_type": "code",
   "execution_count": 4,
   "id": "50aaa913",
   "metadata": {
    "ExecuteTime": {
     "end_time": "2023-10-05T12:36:07.632425Z",
     "start_time": "2023-10-05T12:36:07.503463Z"
    }
   },
   "outputs": [
    {
     "name": "stdout",
     "output_type": "stream",
     "text": [
      "/home/artur/my_projects/karpov-projects/junior/competitor price\r\n"
     ]
    }
   ],
   "source": [
    "!pwd"
   ]
  },
  {
   "cell_type": "markdown",
   "id": "72af2489",
   "metadata": {},
   "source": [
    "## eleastivity"
   ]
  },
  {
   "cell_type": "code",
   "execution_count": 24,
   "id": "edba9f18",
   "metadata": {
    "ExecuteTime": {
     "end_time": "2023-10-05T12:43:25.462081Z",
     "start_time": "2023-10-05T12:43:25.447635Z"
    }
   },
   "outputs": [],
   "source": [
    "import pandas as pd\n",
    "data = pd.read_csv('COUNT_SKU_2023_10_05.csv')"
   ]
  },
  {
   "cell_type": "code",
   "execution_count": 29,
   "id": "3dfda729",
   "metadata": {
    "ExecuteTime": {
     "end_time": "2023-10-05T12:43:52.755506Z",
     "start_time": "2023-10-05T12:43:52.742613Z"
    }
   },
   "outputs": [
    {
     "data": {
      "text/plain": [
       "10290    323\n",
       "10230    262\n",
       "10060    235\n",
       "10216    129\n",
       "10121     51\n",
       "Name: sku, dtype: int64"
      ]
     },
     "execution_count": 29,
     "metadata": {},
     "output_type": "execute_result"
    }
   ],
   "source": [
    "data['sku'].value_counts()"
   ]
  },
  {
   "cell_type": "code",
   "execution_count": 32,
   "id": "3709eb48",
   "metadata": {
    "ExecuteTime": {
     "end_time": "2023-10-05T12:45:17.337673Z",
     "start_time": "2023-10-05T12:45:17.313780Z"
    }
   },
   "outputs": [],
   "source": [
    "import pandas as pd\n",
    "import numpy as np\n",
    "\n",
    "def elasticity_df(df: pd.DataFrame) -> pd.DataFrame:\n",
    "    '''elastic count'''\n",
    "    data = df.copy()\n",
    "    def lin_reg(prices, qty):\n",
    "        # Вычисление логарифмов продаж и цен\n",
    "        log_sales = np.log(qty)\n",
    "        log_price = np.log(prices)\n",
    "        # Вычисление средних значений\n",
    "        mean_log_sales = np.mean(log_sales)\n",
    "        mean_log_price = np.mean(log_price)\n",
    "\n",
    "        # Вычисление коэффициентов линейной регрессии (a и b) вручную\n",
    "        b_coef = np.sum((log_price - mean_log_price) * (log_sales - \n",
    "                        mean_log_sales)) / np.sum((log_price - mean_log_price)**2)\n",
    "        a_coef = mean_log_sales - b_coef * mean_log_price\n",
    "\n",
    "        # Создание предсказанных значений\n",
    "        predicted_log_sales = a_coef + b_coef * log_price\n",
    "\n",
    "        ssr = np.sum((predicted_log_sales - mean_log_sales)**2)\n",
    "        sst = np.sum((log_sales - mean_log_sales)**2)\n",
    "        r2_coef = ssr / sst\n",
    "\n",
    "        return r2_coef\n",
    "\n",
    "    data = data.groupby(['sku'])['price', 'qty'].apply(lambda x: lin_reg(x['price'],\n",
    "                                            x['qty'])).reset_index(name='elasticity')\n",
    "\n",
    "    return data\n"
   ]
  },
  {
   "cell_type": "code",
   "execution_count": 33,
   "id": "71a00a52",
   "metadata": {
    "ExecuteTime": {
     "end_time": "2023-10-05T12:45:18.071261Z",
     "start_time": "2023-10-05T12:45:18.029884Z"
    }
   },
   "outputs": [
    {
     "name": "stderr",
     "output_type": "stream",
     "text": [
      "/tmp/ipykernel_96791/733392219.py:29: FutureWarning: Indexing with multiple keys (implicitly converted to a tuple of keys) will be deprecated, use a list instead.\n",
      "  data = data.groupby(['sku'])['price', 'qty'].apply(lambda x: lin_reg(x['price'],\n"
     ]
    },
    {
     "data": {
      "text/html": [
       "<div>\n",
       "<style scoped>\n",
       "    .dataframe tbody tr th:only-of-type {\n",
       "        vertical-align: middle;\n",
       "    }\n",
       "\n",
       "    .dataframe tbody tr th {\n",
       "        vertical-align: top;\n",
       "    }\n",
       "\n",
       "    .dataframe thead th {\n",
       "        text-align: right;\n",
       "    }\n",
       "</style>\n",
       "<table border=\"1\" class=\"dataframe\">\n",
       "  <thead>\n",
       "    <tr style=\"text-align: right;\">\n",
       "      <th></th>\n",
       "      <th>sku</th>\n",
       "      <th>elasticity</th>\n",
       "    </tr>\n",
       "  </thead>\n",
       "  <tbody>\n",
       "    <tr>\n",
       "      <th>0</th>\n",
       "      <td>10060</td>\n",
       "      <td>0.082813</td>\n",
       "    </tr>\n",
       "    <tr>\n",
       "      <th>1</th>\n",
       "      <td>10121</td>\n",
       "      <td>0.000604</td>\n",
       "    </tr>\n",
       "    <tr>\n",
       "      <th>2</th>\n",
       "      <td>10216</td>\n",
       "      <td>0.087294</td>\n",
       "    </tr>\n",
       "    <tr>\n",
       "      <th>3</th>\n",
       "      <td>10230</td>\n",
       "      <td>0.021931</td>\n",
       "    </tr>\n",
       "    <tr>\n",
       "      <th>4</th>\n",
       "      <td>10290</td>\n",
       "      <td>0.014512</td>\n",
       "    </tr>\n",
       "  </tbody>\n",
       "</table>\n",
       "</div>"
      ],
      "text/plain": [
       "     sku  elasticity\n",
       "0  10060    0.082813\n",
       "1  10121    0.000604\n",
       "2  10216    0.087294\n",
       "3  10230    0.021931\n",
       "4  10290    0.014512"
      ]
     },
     "execution_count": 33,
     "metadata": {},
     "output_type": "execute_result"
    }
   ],
   "source": [
    "elasticity_df(data)"
   ]
  }
 ],
 "metadata": {
  "kernelspec": {
   "display_name": "Python 3 (ipykernel)",
   "language": "python",
   "name": "python3"
  },
  "language_info": {
   "codemirror_mode": {
    "name": "ipython",
    "version": 3
   },
   "file_extension": ".py",
   "mimetype": "text/x-python",
   "name": "python",
   "nbconvert_exporter": "python",
   "pygments_lexer": "ipython3",
   "version": "3.10.12"
  },
  "varInspector": {
   "cols": {
    "lenName": 16,
    "lenType": 16,
    "lenVar": 40
   },
   "kernels_config": {
    "python": {
     "delete_cmd_postfix": "",
     "delete_cmd_prefix": "del ",
     "library": "var_list.py",
     "varRefreshCmd": "print(var_dic_list())"
    },
    "r": {
     "delete_cmd_postfix": ") ",
     "delete_cmd_prefix": "rm(",
     "library": "var_list.r",
     "varRefreshCmd": "cat(var_dic_list()) "
    }
   },
   "types_to_exclude": [
    "module",
    "function",
    "builtin_function_or_method",
    "instance",
    "_Feature"
   ],
   "window_display": false
  }
 },
 "nbformat": 4,
 "nbformat_minor": 5
}
