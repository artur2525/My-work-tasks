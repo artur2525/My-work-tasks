{
 "cells": [
  {
   "cell_type": "code",
   "execution_count": 32,
   "id": "8e653f07",
   "metadata": {
    "ExecuteTime": {
     "end_time": "2023-10-25T09:32:59.242591Z",
     "start_time": "2023-10-25T09:32:59.234903Z"
    }
   },
   "outputs": [],
   "source": [
    "a = dict([ (1,2) , (22,3),(33,22) ])"
   ]
  },
  {
   "cell_type": "code",
   "execution_count": 33,
   "id": "49884099",
   "metadata": {
    "ExecuteTime": {
     "end_time": "2023-10-25T09:33:00.089854Z",
     "start_time": "2023-10-25T09:33:00.086593Z"
    }
   },
   "outputs": [
    {
     "data": {
      "text/plain": [
       "{1: 2, 22: 3, 33: 22}"
      ]
     },
     "execution_count": 33,
     "metadata": {},
     "output_type": "execute_result"
    }
   ],
   "source": [
    "a"
   ]
  },
  {
   "cell_type": "code",
   "execution_count": 36,
   "id": "c6e13da9",
   "metadata": {
    "ExecuteTime": {
     "end_time": "2023-10-25T09:37:53.813493Z",
     "start_time": "2023-10-25T09:37:53.806139Z"
    }
   },
   "outputs": [],
   "source": [
    "from itertools import combinations"
   ]
  },
  {
   "cell_type": "code",
   "execution_count": 44,
   "id": "c73c178f",
   "metadata": {
    "ExecuteTime": {
     "end_time": "2023-10-25T09:38:49.566841Z",
     "start_time": "2023-10-25T09:38:49.561921Z"
    }
   },
   "outputs": [
    {
     "name": "stdout",
     "output_type": "stream",
     "text": [
      "[(1, 2), (1, 3), (2, 3)]\n"
     ]
    }
   ],
   "source": [
    "print(list((combinations([1,2,3], 2))))"
   ]
  },
  {
   "cell_type": "code",
   "execution_count": 93,
   "id": "656a9ddc",
   "metadata": {
    "ExecuteTime": {
     "end_time": "2023-10-25T10:00:34.304666Z",
     "start_time": "2023-10-25T10:00:34.294297Z"
    }
   },
   "outputs": [
    {
     "data": {
      "text/plain": [
       "(1, 3)"
      ]
     },
     "execution_count": 93,
     "metadata": {},
     "output_type": "execute_result"
    }
   ],
   "source": [
    "next(zip([1],[3]))"
   ]
  },
  {
   "cell_type": "code",
   "execution_count": 290,
   "id": "2361ce6f",
   "metadata": {
    "ExecuteTime": {
     "end_time": "2023-10-25T12:17:20.213509Z",
     "start_time": "2023-10-25T12:17:20.208892Z"
    }
   },
   "outputs": [],
   "source": [
    "embeddings = dict(zip([1,2, 3] , [np.array([12, -22]), np.array([-3,-3]), np.array([1,-13]) ] ))"
   ]
  },
  {
   "cell_type": "code",
   "execution_count": 291,
   "id": "f2f4ac9d",
   "metadata": {
    "ExecuteTime": {
     "end_time": "2023-10-25T12:17:23.809492Z",
     "start_time": "2023-10-25T12:17:23.801097Z"
    }
   },
   "outputs": [
    {
     "data": {
      "text/plain": [
       "{1: array([ 12, -22]), 2: array([-3, -3]), 3: array([  1, -13])}"
      ]
     },
     "execution_count": 291,
     "metadata": {},
     "output_type": "execute_result"
    }
   ],
   "source": [
    "embeddings"
   ]
  },
  {
   "cell_type": "code",
   "execution_count": 292,
   "id": "edb838f3",
   "metadata": {
    "ExecuteTime": {
     "end_time": "2023-10-25T12:17:26.171305Z",
     "start_time": "2023-10-25T12:17:26.154502Z"
    }
   },
   "outputs": [
    {
     "data": {
      "text/plain": [
       "([1, 2, 3], {(1, 2): 0.71783368, (1, 3): 0.087964, (2, 3): 0.34920863})"
      ]
     },
     "execution_count": 292,
     "metadata": {},
     "output_type": "execute_result"
    }
   ],
   "source": [
    "(list(embeddings.keys()),\n",
    "\n",
    "                     dict(zip(tuple(combinations(embeddings.keys(), 2)),\n",
    "                              \n",
    "                              [round(cosine(embeddings[x[0]], embeddings[x[1]]),8) for x in\n",
    "                               \n",
    "                               list(combinations(embeddings.keys(), 2))])))"
   ]
  },
  {
   "cell_type": "code",
   "execution_count": 258,
   "id": "fb28ba1c",
   "metadata": {
    "ExecuteTime": {
     "end_time": "2023-10-25T11:57:13.301770Z",
     "start_time": "2023-10-25T11:57:13.295965Z"
    }
   },
   "outputs": [
    {
     "data": {
      "text/plain": [
       "{1: array([ 12, -22]), 2: array([-3, -3]), 3: array([  1, -13])}"
      ]
     },
     "execution_count": 258,
     "metadata": {},
     "output_type": "execute_result"
    }
   ],
   "source": [
    "a"
   ]
  },
  {
   "cell_type": "code",
   "execution_count": 255,
   "id": "d66de39c",
   "metadata": {
    "ExecuteTime": {
     "end_time": "2023-10-25T11:56:53.887641Z",
     "start_time": "2023-10-25T11:56:53.883211Z"
    }
   },
   "outputs": [
    {
     "data": {
      "text/plain": [
       "((1, 2), (1, 3), (2, 3))"
      ]
     },
     "execution_count": 255,
     "metadata": {},
     "output_type": "execute_result"
    }
   ],
   "source": [
    "tuple(combinations(a.keys(), 2))"
   ]
  },
  {
   "cell_type": "code",
   "execution_count": 303,
   "id": "28a3865b",
   "metadata": {
    "ExecuteTime": {
     "end_time": "2023-10-25T12:32:06.041699Z",
     "start_time": "2023-10-25T12:32:06.031476Z"
    }
   },
   "outputs": [],
   "source": [
    "d1 = dict(zip(tuple(combinations(a.keys(), 2)),  \n",
    "[cosine(a[x[0]], a[x[1]]) for x in list(combinations(a.keys(), 2) ) ]))"
   ]
  },
  {
   "cell_type": "code",
   "execution_count": 312,
   "id": "8185cd78",
   "metadata": {
    "ExecuteTime": {
     "end_time": "2023-10-25T12:33:05.100950Z",
     "start_time": "2023-10-25T12:33:05.086984Z"
    }
   },
   "outputs": [
    {
     "data": {
      "text/plain": [
       "array([1, 2, 3])"
      ]
     },
     "execution_count": 312,
     "metadata": {},
     "output_type": "execute_result"
    }
   ],
   "source": [
    "list(np.unique(list(d1.keys())))"
   ]
  },
  {
   "cell_type": "code",
   "execution_count": 347,
   "id": "d1f868db",
   "metadata": {
    "ExecuteTime": {
     "end_time": "2023-10-25T16:20:19.274426Z",
     "start_time": "2023-10-25T16:20:19.268337Z"
    }
   },
   "outputs": [
    {
     "data": {
      "text/plain": [
       "{(1, 2), (1, 3), (2, 3)}"
      ]
     },
     "execution_count": 347,
     "metadata": {},
     "output_type": "execute_result"
    }
   ],
   "source": [
    "d1.keys()"
   ]
  },
  {
   "cell_type": "code",
   "execution_count": 348,
   "id": "81e1e5a3",
   "metadata": {
    "ExecuteTime": {
     "end_time": "2023-10-25T16:21:25.198578Z",
     "start_time": "2023-10-25T16:21:25.186668Z"
    }
   },
   "outputs": [
    {
     "data": {
      "text/plain": [
       "{(1, 2): 0.7178336760084498,\n",
       " (1, 3): 0.0879639993170358,\n",
       " (2, 3): 0.3492086265440315}"
      ]
     },
     "execution_count": 348,
     "metadata": {},
     "output_type": "execute_result"
    }
   ],
   "source": [
    "d1"
   ]
  },
  {
   "cell_type": "code",
   "execution_count": 362,
   "id": "8cc27e39",
   "metadata": {
    "ExecuteTime": {
     "end_time": "2023-10-25T16:28:36.446900Z",
     "start_time": "2023-10-25T16:28:36.439344Z"
    }
   },
   "outputs": [],
   "source": [
    "sim = d1"
   ]
  },
  {
   "cell_type": "code",
   "execution_count": 369,
   "id": "fb333477",
   "metadata": {
    "ExecuteTime": {
     "end_time": "2023-10-25T16:29:12.363761Z",
     "start_time": "2023-10-25T16:29:12.348755Z"
    }
   },
   "outputs": [
    {
     "data": {
      "text/plain": [
       "array([1, 2, 3])"
      ]
     },
     "execution_count": 369,
     "metadata": {},
     "output_type": "execute_result"
    }
   ],
   "source": [
    "asd"
   ]
  },
  {
   "cell_type": "code",
   "execution_count": 396,
   "id": "965a780d",
   "metadata": {
    "ExecuteTime": {
     "end_time": "2023-10-25T17:08:30.612123Z",
     "start_time": "2023-10-25T17:08:30.601661Z"
    }
   },
   "outputs": [
    {
     "data": {
      "text/plain": [
       "{(1, 2): 0.7178336760084498,\n",
       " (1, 3): 0.0879639993170358,\n",
       " (2, 3): 0.3492086265440315}"
      ]
     },
     "execution_count": 396,
     "metadata": {},
     "output_type": "execute_result"
    }
   ],
   "source": [
    "sim"
   ]
  },
  {
   "cell_type": "code",
   "execution_count": 481,
   "id": "51d0a4c3",
   "metadata": {
    "ExecuteTime": {
     "end_time": "2023-10-25T17:56:33.552846Z",
     "start_time": "2023-10-25T17:56:33.541551Z"
    }
   },
   "outputs": [
    {
     "data": {
      "text/plain": [
       "{(1, 2), (1, 3), (2, 3)}"
      ]
     },
     "execution_count": 481,
     "metadata": {},
     "output_type": "execute_result"
    }
   ],
   "source": [
    "set(sim) - set([1])"
   ]
  },
  {
   "cell_type": "code",
   "execution_count": 490,
   "id": "ea5cdc65",
   "metadata": {
    "ExecuteTime": {
     "end_time": "2023-10-25T18:01:33.809415Z",
     "start_time": "2023-10-25T18:01:33.798415Z"
    }
   },
   "outputs": [
    {
     "data": {
      "text/plain": [
       "{1}"
      ]
     },
     "execution_count": 490,
     "metadata": {},
     "output_type": "execute_result"
    }
   ],
   "source": [
    "set([1,3]) & set([1,2]) "
   ]
  },
  {
   "cell_type": "code",
   "execution_count": 491,
   "id": "0ae557fe",
   "metadata": {
    "ExecuteTime": {
     "end_time": "2023-10-25T18:02:01.998464Z",
     "start_time": "2023-10-25T18:02:01.959764Z"
    }
   },
   "outputs": [
    {
     "ename": "KeyError",
     "evalue": "'pop from an empty set'",
     "output_type": "error",
     "traceback": [
      "\u001b[0;31m---------------------------------------------------------------------------\u001b[0m",
      "\u001b[0;31mKeyError\u001b[0m                                  Traceback (most recent call last)",
      "Cell \u001b[0;32mIn[491], line 4\u001b[0m\n\u001b[1;32m      2\u001b[0m \u001b[38;5;28;01mfor\u001b[39;00m x \u001b[38;5;129;01min\u001b[39;00m sim:\n\u001b[1;32m      3\u001b[0m     key \u001b[38;5;241m=\u001b[39m (\u001b[38;5;28mset\u001b[39m([x]) \u001b[38;5;241m-\u001b[39m \u001b[38;5;28mset\u001b[39m(knn_dict))\u001b[38;5;241m.\u001b[39mpop()\n\u001b[0;32m----> 4\u001b[0m     knn_dict[key] \u001b[38;5;241m=\u001b[39m{ ((\u001b[38;5;28mset\u001b[39m([x]) \u001b[38;5;241m&\u001b[39m \u001b[38;5;28mset\u001b[39m([k])))\u001b[38;5;241m.\u001b[39mpop() : sim[k] \u001b[38;5;28;01mfor\u001b[39;00m k \u001b[38;5;129;01min\u001b[39;00m sim \u001b[38;5;28;01mif\u001b[39;00m \u001b[38;5;28mlen\u001b[39m(\u001b[38;5;28mset\u001b[39m([x]) \u001b[38;5;241m-\u001b[39m \u001b[38;5;28mset\u001b[39m([k])) \u001b[38;5;241m==\u001b[39m \u001b[38;5;241m1\u001b[39m }\n",
      "Cell \u001b[0;32mIn[491], line 4\u001b[0m, in \u001b[0;36m<dictcomp>\u001b[0;34m(.0)\u001b[0m\n\u001b[1;32m      2\u001b[0m \u001b[38;5;28;01mfor\u001b[39;00m x \u001b[38;5;129;01min\u001b[39;00m sim:\n\u001b[1;32m      3\u001b[0m     key \u001b[38;5;241m=\u001b[39m (\u001b[38;5;28mset\u001b[39m([x]) \u001b[38;5;241m-\u001b[39m \u001b[38;5;28mset\u001b[39m(knn_dict))\u001b[38;5;241m.\u001b[39mpop()\n\u001b[0;32m----> 4\u001b[0m     knn_dict[key] \u001b[38;5;241m=\u001b[39m{ \u001b[43m(\u001b[49m\u001b[43m(\u001b[49m\u001b[38;5;28;43mset\u001b[39;49m\u001b[43m(\u001b[49m\u001b[43m[\u001b[49m\u001b[43mx\u001b[49m\u001b[43m]\u001b[49m\u001b[43m)\u001b[49m\u001b[43m \u001b[49m\u001b[38;5;241;43m&\u001b[39;49m\u001b[43m \u001b[49m\u001b[38;5;28;43mset\u001b[39;49m\u001b[43m(\u001b[49m\u001b[43m[\u001b[49m\u001b[43mk\u001b[49m\u001b[43m]\u001b[49m\u001b[43m)\u001b[49m\u001b[43m)\u001b[49m\u001b[43m)\u001b[49m\u001b[38;5;241;43m.\u001b[39;49m\u001b[43mpop\u001b[49m\u001b[43m(\u001b[49m\u001b[43m)\u001b[49m : sim[k] \u001b[38;5;28;01mfor\u001b[39;00m k \u001b[38;5;129;01min\u001b[39;00m sim \u001b[38;5;28;01mif\u001b[39;00m \u001b[38;5;28mlen\u001b[39m(\u001b[38;5;28mset\u001b[39m([x]) \u001b[38;5;241m-\u001b[39m \u001b[38;5;28mset\u001b[39m([k])) \u001b[38;5;241m==\u001b[39m \u001b[38;5;241m1\u001b[39m }\n",
      "\u001b[0;31mKeyError\u001b[0m: 'pop from an empty set'"
     ]
    }
   ],
   "source": [
    "knn_dict = dict()\n",
    "for x in sim:\n",
    "    key = (set([x]) - set(knn_dict)).pop()\n",
    "    knn_dict[key] ={ ((set([x]) & set([k]))).pop() : sim[k] for k in sim if len(set([x]) - set([k])) == 1 }"
   ]
  },
  {
   "cell_type": "code",
   "execution_count": 486,
   "id": "4be061d7",
   "metadata": {
    "ExecuteTime": {
     "end_time": "2023-10-25T17:58:10.077948Z",
     "start_time": "2023-10-25T17:58:10.066607Z"
    }
   },
   "outputs": [
    {
     "data": {
      "text/plain": [
       "{(1, 2): {(1, 3): 0.3492086265440315}, (2, 3): {(2, 3): 0.0879639993170358}}"
      ]
     },
     "execution_count": 486,
     "metadata": {},
     "output_type": "execute_result"
    }
   ],
   "source": [
    "knn_dict"
   ]
  },
  {
   "cell_type": "code",
   "execution_count": null,
   "id": "bb0d6ea0",
   "metadata": {},
   "outputs": [],
   "source": [
    "{1: [(2, 0.7178336760084498), (3, 0.0879639993170358)],\n",
    " 2: [(1, 0.7178336760084498), (3, 0.3492086265440315)],\n",
    " 3: [(2, 0.3492086265440315), (1, 0.0879639993170358)]}"
   ]
  },
  {
   "cell_type": "code",
   "execution_count": 275,
   "id": "40a0e6fc",
   "metadata": {
    "ExecuteTime": {
     "end_time": "2023-10-25T12:01:21.536640Z",
     "start_time": "2023-10-25T12:01:21.529394Z"
    }
   },
   "outputs": [
    {
     "data": {
      "text/plain": [
       "{1: [(2, 0.7178336760084498), (3, 0.0879639993170358)],\n",
       " 2: [(1, 0.7178336760084498), (3, 0.3492086265440315)],\n",
       " 3: [(2, 0.3492086265440315), (1, 0.0879639993170358)]}"
      ]
     },
     "execution_count": 275,
     "metadata": {},
     "output_type": "execute_result"
    }
   ],
   "source": [
    "knn_dict"
   ]
  },
  {
   "cell_type": "code",
   "execution_count": 427,
   "id": "d7a88f9d",
   "metadata": {
    "ExecuteTime": {
     "end_time": "2023-10-25T17:24:35.517897Z",
     "start_time": "2023-10-25T17:24:35.514451Z"
    }
   },
   "outputs": [
    {
     "data": {
      "text/plain": [
       "{(2, 3): (1, 3)}"
      ]
     },
     "execution_count": 427,
     "metadata": {},
     "output_type": "execute_result"
    }
   ],
   "source": [
    "knn_dict"
   ]
  },
  {
   "cell_type": "code",
   "execution_count": 419,
   "id": "aead473e",
   "metadata": {
    "ExecuteTime": {
     "end_time": "2023-10-25T17:23:23.637213Z",
     "start_time": "2023-10-25T17:23:23.631687Z"
    }
   },
   "outputs": [
    {
     "data": {
      "text/plain": [
       "set()"
      ]
     },
     "execution_count": 419,
     "metadata": {},
     "output_type": "execute_result"
    }
   ],
   "source": [
    "knn_dict"
   ]
  },
  {
   "cell_type": "code",
   "execution_count": 409,
   "id": "37af3bca",
   "metadata": {
    "ExecuteTime": {
     "end_time": "2023-10-25T17:17:50.339770Z",
     "start_time": "2023-10-25T17:17:50.316357Z"
    }
   },
   "outputs": [
    {
     "ename": "TypeError",
     "evalue": "unhashable type: 'set'",
     "output_type": "error",
     "traceback": [
      "\u001b[0;31m---------------------------------------------------------------------------\u001b[0m",
      "\u001b[0;31mTypeError\u001b[0m                                 Traceback (most recent call last)",
      "Cell \u001b[0;32mIn[409], line 3\u001b[0m\n\u001b[1;32m      1\u001b[0m knn_dict \u001b[38;5;241m=\u001b[39m \u001b[38;5;28mdict\u001b[39m()\n\u001b[1;32m      2\u001b[0m \u001b[38;5;28;01mfor\u001b[39;00m x \u001b[38;5;129;01min\u001b[39;00m sim:\n\u001b[0;32m----> 3\u001b[0m     knn_dict \u001b[38;5;241m=\u001b[39m {( (\u001b[38;5;28mset\u001b[39m([x]) \u001b[38;5;241m-\u001b[39m \u001b[38;5;28mset\u001b[39m([k])) , sim[k]) \u001b[38;5;28;01mfor\u001b[39;00m k \u001b[38;5;129;01min\u001b[39;00m sim \u001b[38;5;28;01mif\u001b[39;00m \u001b[38;5;28mlen\u001b[39m(\u001b[38;5;28mset\u001b[39m([x]) \u001b[38;5;241m-\u001b[39m \u001b[38;5;28mset\u001b[39m([k])) \u001b[38;5;241m>\u001b[39m \u001b[38;5;241m0\u001b[39m }\n\u001b[1;32m      4\u001b[0m \u001b[38;5;66;03m#knn_dict = {int(x): sorted(knn_dict[x][:2], \u001b[39;00m\n\u001b[1;32m      5\u001b[0m \u001b[38;5;66;03m#                      key=lambda x :x[1], reverse = True) for x in knn_dict}\u001b[39;00m\n",
      "Cell \u001b[0;32mIn[409], line 3\u001b[0m, in \u001b[0;36m<setcomp>\u001b[0;34m(.0)\u001b[0m\n\u001b[1;32m      1\u001b[0m knn_dict \u001b[38;5;241m=\u001b[39m \u001b[38;5;28mdict\u001b[39m()\n\u001b[1;32m      2\u001b[0m \u001b[38;5;28;01mfor\u001b[39;00m x \u001b[38;5;129;01min\u001b[39;00m sim:\n\u001b[0;32m----> 3\u001b[0m     knn_dict \u001b[38;5;241m=\u001b[39m {( (\u001b[38;5;28mset\u001b[39m([x]) \u001b[38;5;241m-\u001b[39m \u001b[38;5;28mset\u001b[39m([k])) , sim[k]) \u001b[38;5;28;01mfor\u001b[39;00m k \u001b[38;5;129;01min\u001b[39;00m sim \u001b[38;5;28;01mif\u001b[39;00m \u001b[38;5;28mlen\u001b[39m(\u001b[38;5;28mset\u001b[39m([x]) \u001b[38;5;241m-\u001b[39m \u001b[38;5;28mset\u001b[39m([k])) \u001b[38;5;241m>\u001b[39m \u001b[38;5;241m0\u001b[39m }\n\u001b[1;32m      4\u001b[0m \u001b[38;5;66;03m#knn_dict = {int(x): sorted(knn_dict[x][:2], \u001b[39;00m\n\u001b[1;32m      5\u001b[0m \u001b[38;5;66;03m#                      key=lambda x :x[1], reverse = True) for x in knn_dict}\u001b[39;00m\n",
      "\u001b[0;31mTypeError\u001b[0m: unhashable type: 'set'"
     ]
    }
   ],
   "source": [
    "knn_dict = dict()\n",
    "for x in sim:\n",
    "    knn_dict = {( (set([x]) - set([k])) , sim[k]) for k in sim if len(set([x]) - set([k])) > 0 }\n",
    "#knn_dict = {int(x): sorted(knn_dict[x][:2], \n",
    "#                      key=lambda x :x[1], reverse = True) for x in knn_dict}"
   ]
  },
  {
   "cell_type": "code",
   "execution_count": 390,
   "id": "381b13c8",
   "metadata": {
    "ExecuteTime": {
     "end_time": "2023-10-25T17:07:55.222517Z",
     "start_time": "2023-10-25T17:07:55.219287Z"
    }
   },
   "outputs": [
    {
     "data": {
      "text/plain": [
       "{}"
      ]
     },
     "execution_count": 390,
     "metadata": {},
     "output_type": "execute_result"
    }
   ],
   "source": [
    "knn_dict"
   ]
  },
  {
   "cell_type": "code",
   "execution_count": 272,
   "id": "55350cd0",
   "metadata": {
    "ExecuteTime": {
     "end_time": "2023-10-25T12:01:17.620312Z",
     "start_time": "2023-10-25T12:01:17.615569Z"
    }
   },
   "outputs": [],
   "source": [
    "prices = dict(zip(d1[0], [5.123123,20.22,2.333]))"
   ]
  },
  {
   "cell_type": "code",
   "execution_count": 273,
   "id": "ea33b853",
   "metadata": {
    "ExecuteTime": {
     "end_time": "2023-10-25T12:01:18.264546Z",
     "start_time": "2023-10-25T12:01:18.258054Z"
    }
   },
   "outputs": [
    {
     "data": {
      "text/plain": [
       "{1: 5.123123, 2: 20.22, 3: 2.333}"
      ]
     },
     "execution_count": 273,
     "metadata": {},
     "output_type": "execute_result"
    }
   ],
   "source": [
    "prices"
   ]
  },
  {
   "cell_type": "code",
   "execution_count": 274,
   "id": "eb307f49",
   "metadata": {
    "ExecuteTime": {
     "end_time": "2023-10-25T12:01:20.093185Z",
     "start_time": "2023-10-25T12:01:20.087043Z"
    }
   },
   "outputs": [
    {
     "data": {
      "text/plain": [
       "[0.7178336760084498, 0.0879639993170358]"
      ]
     },
     "execution_count": 274,
     "metadata": {},
     "output_type": "execute_result"
    }
   ],
   "source": [
    "[x[1] for x in knn_dict[1]]"
   ]
  },
  {
   "cell_type": "code",
   "execution_count": 276,
   "id": "dfb69481",
   "metadata": {
    "ExecuteTime": {
     "end_time": "2023-10-25T12:01:26.971256Z",
     "start_time": "2023-10-25T12:01:26.961970Z"
    }
   },
   "outputs": [],
   "source": [
    "for x in prices:\n",
    "    list_ = [k[0] for k in knn_dict[x]]\n",
    "    norm = np.array([k[1] for k in knn_dict[x]]) \n",
    "    prices[x] = round(np.mean( np.array([prices[k] for k in list_]) * norm ) ,2)"
   ]
  },
  {
   "cell_type": "code",
   "execution_count": 277,
   "id": "455f3c66",
   "metadata": {
    "ExecuteTime": {
     "end_time": "2023-10-25T12:01:27.813504Z",
     "start_time": "2023-10-25T12:01:27.806724Z"
    }
   },
   "outputs": [
    {
     "data": {
      "text/plain": [
       "{1: 7.36, 2: 3.05, 3: 0.86}"
      ]
     },
     "execution_count": 277,
     "metadata": {},
     "output_type": "execute_result"
    }
   ],
   "source": [
    "prices"
   ]
  },
  {
   "cell_type": "code",
   "execution_count": 356,
   "id": "91eda666",
   "metadata": {
    "ExecuteTime": {
     "end_time": "2023-10-25T16:26:48.738598Z",
     "start_time": "2023-10-25T16:26:48.729882Z"
    }
   },
   "outputs": [],
   "source": [
    "\"\"\"Solution for Similar Items task\"\"\"\n",
    "from typing import Dict\n",
    "from typing import List\n",
    "from typing import Tuple\n",
    "from itertools import combinations\n",
    "import numpy as np\n",
    "from scipy.spatial.distance import cosine\n",
    "\n",
    "\n",
    "class SimilarItems:\n",
    "    \"\"\"Similar items class\"\"\"\n",
    "\n",
    "    @staticmethod\n",
    "    def similarity(embeddings: Dict[int, np.ndarray]) -> Dict[Tuple[int, int], float]:\n",
    "        \"\"\"Calculate pairwise similarities between each item\n",
    "        in embedding.\n",
    "\n",
    "        Args:\n",
    "            embeddings (Dict[int, np.ndarray]): Items embeddings.\n",
    "\n",
    "        Returns:\n",
    "            Tuple[List[str], Dict[Tuple[int, int], float]]:\n",
    "            List of all items + Pairwise similarities dict\n",
    "            Keys are in form of (i, j) - combinations pairs of item_ids\n",
    "            with i < j.\n",
    "            Round each value to 8 decimal places.\n",
    "        \"\"\"\n",
    "\n",
    "        pair_sims =  dict(zip(tuple(combinations(embeddings.keys(), 2)),\n",
    "                              [round(1 - cosine(embeddings[x[0]], embeddings[x[1]]),8) for x in\n",
    "                              list(combinations(embeddings.keys(), 2))] ))\n",
    "\n",
    "        return pair_sims\n",
    "\n",
    "    @staticmethod\n",
    "    def knn(\n",
    "        sim: Dict[Tuple[int, int], float], top: int\n",
    "    ) -> Dict[int, List[Tuple[int, float]]]:\n",
    "        \"\"\"Return closest neighbors for each item.\n",
    "\n",
    "        Args:\n",
    "            sim (Dict[Tuple[int, int], float]): <similarity> method output.\n",
    "            top (int): Number of top neighbors to consider.\n",
    "\n",
    "        Returns:\n",
    "            Dict[int, List[Tuple[int, float]]]: Dict with top closest neighbors\n",
    "            for each item.\n",
    "        \"\"\"\n",
    "\n",
    "        knn_dict = dict()\n",
    "        asd = np.unique(sim.keys())\n",
    "        for x in asd:\n",
    "            for i in sim:\n",
    "                if x in i:\n",
    "                    list_ = [(int((set(item) - set([x])).pop()),\n",
    "                            sim[item]) for item in sim if x in item]\n",
    "                    knn_dict[x] = list_\n",
    "        knn_dict = {int(x): sorted(knn_dict[x][:top], \n",
    "                              key=lambda x :x[1], reverse = True) for x in knn_dict}\n",
    "        \n",
    "        return knn_dict\n",
    "    @staticmethod\n",
    "    def knn_price(\n",
    "        knn_dict: Dict[int, List[Tuple[int, float]]],\n",
    "        prices: Dict[int, float],\n",
    "    ) -> Dict[int, float]:\n",
    "        \"\"\"Calculate weighted average prices for each item.\n",
    "        Weights should be positive numbers in [0, 2] interval.\n",
    "\n",
    "        Args:\n",
    "            knn_dict (Dict[int, List[Tuple[int, float]]]): <knn> method output.\n",
    "            prices (Dict[int, float]): Price dict for each item.\n",
    "\n",
    "        Returns:\n",
    "            Dict[int, float]: New prices dict, rounded to 2 decimal places.\n",
    "        \"\"\"\n",
    "        for x in prices:\n",
    "            list_ = [k[0] for k in knn_dict[x]]\n",
    "            norm = np.array([k[1] + 1 for k in knn_dict[x]]) \n",
    "            prices[x] = round( sum(np.array([prices[k] for\\\n",
    "                                            k in list_]) * norm)/sum(norm), 2) \n",
    "\n",
    "        return prices\n",
    "\n",
    "    @staticmethod\n",
    "    def transform(\n",
    "        embeddings: Dict[int, np.ndarray],\n",
    "        prices: Dict[int, float],\n",
    "        top: int,\n",
    "    ) -> Dict[int, float]:\n",
    "        \"\"\"Transforming input embeddings into a dictionary\n",
    "        with weighted average prices for each item.\n",
    "\n",
    "        Args:\n",
    "            embeddings (Dict[int, np.ndarray]): Items embeddings.\n",
    "            prices (Dict[int, float]): Price dict for each item.\n",
    "            top (int): Number of top neighbors to consider.\n",
    "\n",
    "        Returns:\n",
    "            Dict[int, float]: Dict with weighted average prices for each item.\n",
    "        \"\"\"\n",
    "        knn_price_dict = SimilarItems().similarity(embeddings)\n",
    "        print(knn_price_dict)\n",
    "        knn_price_dict = SimilarItems().knn(knn_price_dict, top)\n",
    "        print(knn_price_dict)\n",
    "        knn_price_dict = SimilarItems().knn_price(knn_price_dict, prices)\n",
    "\n",
    "        return knn_price_dict"
   ]
  },
  {
   "cell_type": "code",
   "execution_count": 357,
   "id": "afa5125c",
   "metadata": {
    "ExecuteTime": {
     "end_time": "2023-10-25T16:26:49.903905Z",
     "start_time": "2023-10-25T16:26:49.870829Z"
    }
   },
   "outputs": [
    {
     "name": "stdout",
     "output_type": "stream",
     "text": [
      "{(1, 2): 0.28216632, (1, 3): 0.912036, (2, 3): 0.65079137}\n",
      "{}\n"
     ]
    },
    {
     "ename": "KeyError",
     "evalue": "1",
     "output_type": "error",
     "traceback": [
      "\u001b[0;31m---------------------------------------------------------------------------\u001b[0m",
      "\u001b[0;31mKeyError\u001b[0m                                  Traceback (most recent call last)",
      "Cell \u001b[0;32mIn[357], line 1\u001b[0m\n\u001b[0;32m----> 1\u001b[0m \u001b[43mSimilarItems\u001b[49m\u001b[43m(\u001b[49m\u001b[43m)\u001b[49m\u001b[38;5;241;43m.\u001b[39;49m\u001b[43mtransform\u001b[49m\u001b[43m(\u001b[49m\u001b[43ma\u001b[49m\u001b[43m,\u001b[49m\u001b[43m \u001b[49m\u001b[43mprices\u001b[49m\u001b[43m,\u001b[49m\u001b[43m \u001b[49m\u001b[43mtop\u001b[49m\u001b[43m \u001b[49m\u001b[38;5;241;43m=\u001b[39;49m\u001b[43m \u001b[49m\u001b[38;5;241;43m2\u001b[39;49m\u001b[43m)\u001b[49m\n",
      "Cell \u001b[0;32mIn[356], line 106\u001b[0m, in \u001b[0;36mSimilarItems.transform\u001b[0;34m(embeddings, prices, top)\u001b[0m\n\u001b[1;32m    104\u001b[0m knn_price_dict \u001b[38;5;241m=\u001b[39m SimilarItems()\u001b[38;5;241m.\u001b[39mknn(knn_price_dict, top)\n\u001b[1;32m    105\u001b[0m \u001b[38;5;28mprint\u001b[39m(knn_price_dict)\n\u001b[0;32m--> 106\u001b[0m knn_price_dict \u001b[38;5;241m=\u001b[39m \u001b[43mSimilarItems\u001b[49m\u001b[43m(\u001b[49m\u001b[43m)\u001b[49m\u001b[38;5;241;43m.\u001b[39;49m\u001b[43mknn_price\u001b[49m\u001b[43m(\u001b[49m\u001b[43mknn_price_dict\u001b[49m\u001b[43m,\u001b[49m\u001b[43m \u001b[49m\u001b[43mprices\u001b[49m\u001b[43m)\u001b[49m\n\u001b[1;32m    108\u001b[0m \u001b[38;5;28;01mreturn\u001b[39;00m knn_price_dict\n",
      "Cell \u001b[0;32mIn[356], line 78\u001b[0m, in \u001b[0;36mSimilarItems.knn_price\u001b[0;34m(knn_dict, prices)\u001b[0m\n\u001b[1;32m     67\u001b[0m \u001b[38;5;250m\u001b[39m\u001b[38;5;124;03m\"\"\"Calculate weighted average prices for each item.\u001b[39;00m\n\u001b[1;32m     68\u001b[0m \u001b[38;5;124;03mWeights should be positive numbers in [0, 2] interval.\u001b[39;00m\n\u001b[1;32m     69\u001b[0m \n\u001b[0;32m   (...)\u001b[0m\n\u001b[1;32m     75\u001b[0m \u001b[38;5;124;03m    Dict[int, float]: New prices dict, rounded to 2 decimal places.\u001b[39;00m\n\u001b[1;32m     76\u001b[0m \u001b[38;5;124;03m\"\"\"\u001b[39;00m\n\u001b[1;32m     77\u001b[0m \u001b[38;5;28;01mfor\u001b[39;00m x \u001b[38;5;129;01min\u001b[39;00m prices:\n\u001b[0;32m---> 78\u001b[0m     list_ \u001b[38;5;241m=\u001b[39m [k[\u001b[38;5;241m0\u001b[39m] \u001b[38;5;28;01mfor\u001b[39;00m k \u001b[38;5;129;01min\u001b[39;00m \u001b[43mknn_dict\u001b[49m\u001b[43m[\u001b[49m\u001b[43mx\u001b[49m\u001b[43m]\u001b[49m]\n\u001b[1;32m     79\u001b[0m     norm \u001b[38;5;241m=\u001b[39m np\u001b[38;5;241m.\u001b[39marray([k[\u001b[38;5;241m1\u001b[39m] \u001b[38;5;241m+\u001b[39m \u001b[38;5;241m1\u001b[39m \u001b[38;5;28;01mfor\u001b[39;00m k \u001b[38;5;129;01min\u001b[39;00m knn_dict[x]]) \n\u001b[1;32m     80\u001b[0m     prices[x] \u001b[38;5;241m=\u001b[39m \u001b[38;5;28mround\u001b[39m( \u001b[38;5;28msum\u001b[39m(np\u001b[38;5;241m.\u001b[39marray([prices[k] \u001b[38;5;28;01mfor\u001b[39;00m\\\n\u001b[1;32m     81\u001b[0m                                     k \u001b[38;5;129;01min\u001b[39;00m list_]) \u001b[38;5;241m*\u001b[39m norm)\u001b[38;5;241m/\u001b[39m\u001b[38;5;28msum\u001b[39m(norm), \u001b[38;5;241m2\u001b[39m) \n",
      "\u001b[0;31mKeyError\u001b[0m: 1"
     ]
    }
   ],
   "source": [
    "SimilarItems().transform(a, prices, top = 2)"
   ]
  }
 ],
 "metadata": {
  "kernelspec": {
   "display_name": "Python 3 (ipykernel)",
   "language": "python",
   "name": "python3"
  },
  "language_info": {
   "codemirror_mode": {
    "name": "ipython",
    "version": 3
   },
   "file_extension": ".py",
   "mimetype": "text/x-python",
   "name": "python",
   "nbconvert_exporter": "python",
   "pygments_lexer": "ipython3",
   "version": "3.10.12"
  },
  "varInspector": {
   "cols": {
    "lenName": 16,
    "lenType": 16,
    "lenVar": 40
   },
   "kernels_config": {
    "python": {
     "delete_cmd_postfix": "",
     "delete_cmd_prefix": "del ",
     "library": "var_list.py",
     "varRefreshCmd": "print(var_dic_list())"
    },
    "r": {
     "delete_cmd_postfix": ") ",
     "delete_cmd_prefix": "rm(",
     "library": "var_list.r",
     "varRefreshCmd": "cat(var_dic_list()) "
    }
   },
   "types_to_exclude": [
    "module",
    "function",
    "builtin_function_or_method",
    "instance",
    "_Feature"
   ],
   "window_display": false
  }
 },
 "nbformat": 4,
 "nbformat_minor": 5
}
