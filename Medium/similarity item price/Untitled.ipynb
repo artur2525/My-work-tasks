{
 "cells": [
  {
   "cell_type": "code",
   "execution_count": 1,
   "id": "8e653f07",
   "metadata": {
    "ExecuteTime": {
     "end_time": "2023-10-31T06:35:13.201579Z",
     "start_time": "2023-10-31T06:35:13.198111Z"
    }
   },
   "outputs": [],
   "source": [
    "a = dict([ (1,2) , (22,3),(33,22) ])"
   ]
  },
  {
   "cell_type": "code",
   "execution_count": 33,
   "id": "49884099",
   "metadata": {
    "ExecuteTime": {
     "end_time": "2023-10-25T09:33:00.089854Z",
     "start_time": "2023-10-25T09:33:00.086593Z"
    }
   },
   "outputs": [
    {
     "data": {
      "text/plain": [
       "{1: 2, 22: 3, 33: 22}"
      ]
     },
     "execution_count": 33,
     "metadata": {},
     "output_type": "execute_result"
    }
   ],
   "source": [
    "a"
   ]
  },
  {
   "cell_type": "code",
   "execution_count": 2,
   "id": "c6e13da9",
   "metadata": {
    "ExecuteTime": {
     "end_time": "2023-10-31T06:35:13.208134Z",
     "start_time": "2023-10-31T06:35:13.203331Z"
    }
   },
   "outputs": [],
   "source": [
    "from itertools import combinations"
   ]
  },
  {
   "cell_type": "code",
   "execution_count": 44,
   "id": "c73c178f",
   "metadata": {
    "ExecuteTime": {
     "end_time": "2023-10-25T09:38:49.566841Z",
     "start_time": "2023-10-25T09:38:49.561921Z"
    }
   },
   "outputs": [
    {
     "name": "stdout",
     "output_type": "stream",
     "text": [
      "[(1, 2), (1, 3), (2, 3)]\n"
     ]
    }
   ],
   "source": [
    "print(list((combinations([1,2,3], 2))))"
   ]
  },
  {
   "cell_type": "code",
   "execution_count": 93,
   "id": "656a9ddc",
   "metadata": {
    "ExecuteTime": {
     "end_time": "2023-10-25T10:00:34.304666Z",
     "start_time": "2023-10-25T10:00:34.294297Z"
    }
   },
   "outputs": [
    {
     "data": {
      "text/plain": [
       "(1, 3)"
      ]
     },
     "execution_count": 93,
     "metadata": {},
     "output_type": "execute_result"
    }
   ],
   "source": [
    "next(zip([1],[3]))"
   ]
  },
  {
   "cell_type": "code",
   "execution_count": 3,
   "id": "2361ce6f",
   "metadata": {
    "ExecuteTime": {
     "end_time": "2023-10-31T06:35:13.361862Z",
     "start_time": "2023-10-31T06:35:13.209555Z"
    }
   },
   "outputs": [
    {
     "ename": "NameError",
     "evalue": "name 'np' is not defined",
     "output_type": "error",
     "traceback": [
      "\u001b[0;31m---------------------------------------------------------------------------\u001b[0m",
      "\u001b[0;31mNameError\u001b[0m                                 Traceback (most recent call last)",
      "Cell \u001b[0;32mIn[3], line 1\u001b[0m\n\u001b[0;32m----> 1\u001b[0m embeddings \u001b[38;5;241m=\u001b[39m \u001b[38;5;28mdict\u001b[39m(\u001b[38;5;28mzip\u001b[39m([\u001b[38;5;241m1\u001b[39m,\u001b[38;5;241m2\u001b[39m, \u001b[38;5;241m3\u001b[39m] , [\u001b[43mnp\u001b[49m\u001b[38;5;241m.\u001b[39marray([\u001b[38;5;241m12\u001b[39m, \u001b[38;5;241m-\u001b[39m\u001b[38;5;241m22\u001b[39m]), np\u001b[38;5;241m.\u001b[39marray([\u001b[38;5;241m-\u001b[39m\u001b[38;5;241m3\u001b[39m,\u001b[38;5;241m-\u001b[39m\u001b[38;5;241m3\u001b[39m]), np\u001b[38;5;241m.\u001b[39marray([\u001b[38;5;241m1\u001b[39m,\u001b[38;5;241m-\u001b[39m\u001b[38;5;241m13\u001b[39m]) ] ))\n",
      "\u001b[0;31mNameError\u001b[0m: name 'np' is not defined"
     ]
    }
   ],
   "source": [
    "embeddings = dict(zip([1,2, 3] , [np.array([12, -22]), np.array([-3,-3]), np.array([1,-13]) ] ))"
   ]
  },
  {
   "cell_type": "code",
   "execution_count": 36,
   "id": "f2f4ac9d",
   "metadata": {
    "ExecuteTime": {
     "end_time": "2023-10-30T11:52:02.633521Z",
     "start_time": "2023-10-30T11:52:02.627866Z"
    }
   },
   "outputs": [
    {
     "data": {
      "text/plain": [
       "{1: array([ 12, -22]), 2: array([-3, -3]), 3: array([  1, -13])}"
      ]
     },
     "execution_count": 36,
     "metadata": {},
     "output_type": "execute_result"
    }
   ],
   "source": [
    "embeddings"
   ]
  },
  {
   "cell_type": "code",
   "execution_count": 37,
   "id": "edb838f3",
   "metadata": {
    "ExecuteTime": {
     "end_time": "2023-10-30T11:52:05.208009Z",
     "start_time": "2023-10-30T11:52:05.196535Z"
    }
   },
   "outputs": [
    {
     "data": {
      "text/plain": [
       "([1, 2, 3], {(1, 2): 0.71783368, (1, 3): 0.087964, (2, 3): 0.34920863})"
      ]
     },
     "execution_count": 37,
     "metadata": {},
     "output_type": "execute_result"
    }
   ],
   "source": [
    "(list(embeddings.keys()),\n",
    "\n",
    "                     dict(zip(tuple(combinations(embeddings.keys(), 2)),\n",
    "                              \n",
    "                              [round(cosine(embeddings[x[0]], embeddings[x[1]]),8) for x in\n",
    "                               \n",
    "                               list(combinations(embeddings.keys(), 2))])))"
   ]
  },
  {
   "cell_type": "code",
   "execution_count": 20,
   "id": "fb28ba1c",
   "metadata": {
    "ExecuteTime": {
     "end_time": "2023-10-30T11:49:45.800020Z",
     "start_time": "2023-10-30T11:49:45.796355Z"
    }
   },
   "outputs": [
    {
     "data": {
      "text/plain": [
       "{1: 2, 22: 3, 33: 22}"
      ]
     },
     "execution_count": 20,
     "metadata": {},
     "output_type": "execute_result"
    }
   ],
   "source": [
    "a"
   ]
  },
  {
   "cell_type": "code",
   "execution_count": 38,
   "id": "d66de39c",
   "metadata": {
    "ExecuteTime": {
     "end_time": "2023-10-30T11:52:10.377517Z",
     "start_time": "2023-10-30T11:52:10.364233Z"
    }
   },
   "outputs": [
    {
     "data": {
      "text/plain": [
       "((1, 22), (1, 33), (22, 33))"
      ]
     },
     "execution_count": 38,
     "metadata": {},
     "output_type": "execute_result"
    }
   ],
   "source": [
    "tuple(combinations(a.keys(), 2))"
   ]
  },
  {
   "cell_type": "code",
   "execution_count": 44,
   "id": "225ac627",
   "metadata": {
    "ExecuteTime": {
     "end_time": "2023-10-30T11:53:18.095618Z",
     "start_time": "2023-10-30T11:53:18.091021Z"
    }
   },
   "outputs": [
    {
     "data": {
      "text/plain": [
       "3"
      ]
     },
     "execution_count": 44,
     "metadata": {},
     "output_type": "execute_result"
    }
   ],
   "source": [
    "a[list(combinations(a.keys(),2))[0][1]]"
   ]
  },
  {
   "cell_type": "code",
   "execution_count": 47,
   "id": "28a3865b",
   "metadata": {
    "ExecuteTime": {
     "end_time": "2023-10-30T11:53:52.788675Z",
     "start_time": "2023-10-30T11:53:52.785402Z"
    }
   },
   "outputs": [],
   "source": [
    "d1 = dict(zip(tuple(combinations(a.keys(), 2)),  \n",
    "              [cosine([a[x[0]]], [a[x[1]]]) for x in list(combinations(a.keys(), 2) ) ]))"
   ]
  },
  {
   "cell_type": "code",
   "execution_count": 312,
   "id": "8185cd78",
   "metadata": {
    "ExecuteTime": {
     "end_time": "2023-10-25T12:33:05.100950Z",
     "start_time": "2023-10-25T12:33:05.086984Z"
    }
   },
   "outputs": [
    {
     "data": {
      "text/plain": [
       "array([1, 2, 3])"
      ]
     },
     "execution_count": 312,
     "metadata": {},
     "output_type": "execute_result"
    }
   ],
   "source": [
    "list(np.unique(list(d1.keys())))"
   ]
  },
  {
   "cell_type": "code",
   "execution_count": 48,
   "id": "d1f868db",
   "metadata": {
    "ExecuteTime": {
     "end_time": "2023-10-30T11:53:56.155106Z",
     "start_time": "2023-10-30T11:53:56.151855Z"
    }
   },
   "outputs": [
    {
     "data": {
      "text/plain": [
       "dict_keys([(1, 22), (1, 33), (22, 33)])"
      ]
     },
     "execution_count": 48,
     "metadata": {},
     "output_type": "execute_result"
    }
   ],
   "source": [
    "d1.keys()"
   ]
  },
  {
   "cell_type": "code",
   "execution_count": 49,
   "id": "6ad37b0a",
   "metadata": {
    "ExecuteTime": {
     "end_time": "2023-10-30T11:54:03.621829Z",
     "start_time": "2023-10-30T11:54:03.614224Z"
    }
   },
   "outputs": [
    {
     "data": {
      "text/plain": [
       "{(1, 22): 0, (1, 33): 0, (22, 33): 0}"
      ]
     },
     "execution_count": 49,
     "metadata": {},
     "output_type": "execute_result"
    }
   ],
   "source": [
    "d1"
   ]
  },
  {
   "cell_type": "code",
   "execution_count": 12,
   "id": "81e1e5a3",
   "metadata": {
    "ExecuteTime": {
     "end_time": "2023-10-30T11:49:14.029525Z",
     "start_time": "2023-10-30T11:49:13.993950Z"
    }
   },
   "outputs": [
    {
     "ename": "NameError",
     "evalue": "name 'd1' is not defined",
     "output_type": "error",
     "traceback": [
      "\u001b[0;31m---------------------------------------------------------------------------\u001b[0m",
      "\u001b[0;31mNameError\u001b[0m                                 Traceback (most recent call last)",
      "Cell \u001b[0;32mIn[12], line 1\u001b[0m\n\u001b[0;32m----> 1\u001b[0m \u001b[43md1\u001b[49m\n",
      "\u001b[0;31mNameError\u001b[0m: name 'd1' is not defined"
     ]
    }
   ],
   "source": [
    "d1"
   ]
  },
  {
   "cell_type": "code",
   "execution_count": 50,
   "id": "8cc27e39",
   "metadata": {
    "ExecuteTime": {
     "end_time": "2023-10-30T11:54:13.800639Z",
     "start_time": "2023-10-30T11:54:13.796020Z"
    }
   },
   "outputs": [],
   "source": [
    "sim = d1"
   ]
  },
  {
   "cell_type": "code",
   "execution_count": 369,
   "id": "fb333477",
   "metadata": {
    "ExecuteTime": {
     "end_time": "2023-10-25T16:29:12.363761Z",
     "start_time": "2023-10-25T16:29:12.348755Z"
    }
   },
   "outputs": [
    {
     "data": {
      "text/plain": [
       "array([1, 2, 3])"
      ]
     },
     "execution_count": 369,
     "metadata": {},
     "output_type": "execute_result"
    }
   ],
   "source": [
    "asd"
   ]
  },
  {
   "cell_type": "code",
   "execution_count": 396,
   "id": "965a780d",
   "metadata": {
    "ExecuteTime": {
     "end_time": "2023-10-25T17:08:30.612123Z",
     "start_time": "2023-10-25T17:08:30.601661Z"
    }
   },
   "outputs": [
    {
     "data": {
      "text/plain": [
       "{(1, 2): 0.7178336760084498,\n",
       " (1, 3): 0.0879639993170358,\n",
       " (2, 3): 0.3492086265440315}"
      ]
     },
     "execution_count": 396,
     "metadata": {},
     "output_type": "execute_result"
    }
   ],
   "source": [
    "sim"
   ]
  },
  {
   "cell_type": "code",
   "execution_count": 53,
   "id": "51d0a4c3",
   "metadata": {
    "ExecuteTime": {
     "end_time": "2023-10-30T11:54:20.367671Z",
     "start_time": "2023-10-30T11:54:20.361735Z"
    }
   },
   "outputs": [
    {
     "data": {
      "text/plain": [
       "{(1, 22), (1, 33), (22, 33)}"
      ]
     },
     "execution_count": 53,
     "metadata": {},
     "output_type": "execute_result"
    }
   ],
   "source": [
    "set(sim) - set([1])"
   ]
  },
  {
   "cell_type": "code",
   "execution_count": 52,
   "id": "ea5cdc65",
   "metadata": {
    "ExecuteTime": {
     "end_time": "2023-10-30T11:54:19.523019Z",
     "start_time": "2023-10-30T11:54:19.509995Z"
    }
   },
   "outputs": [
    {
     "data": {
      "text/plain": [
       "{1}"
      ]
     },
     "execution_count": 52,
     "metadata": {},
     "output_type": "execute_result"
    }
   ],
   "source": [
    "set([1,3]) & set([1,2]) "
   ]
  },
  {
   "cell_type": "code",
   "execution_count": 51,
   "id": "0ae557fe",
   "metadata": {
    "ExecuteTime": {
     "end_time": "2023-10-30T11:54:17.024616Z",
     "start_time": "2023-10-30T11:54:16.992034Z"
    }
   },
   "outputs": [
    {
     "ename": "KeyError",
     "evalue": "'pop from an empty set'",
     "output_type": "error",
     "traceback": [
      "\u001b[0;31m---------------------------------------------------------------------------\u001b[0m",
      "\u001b[0;31mKeyError\u001b[0m                                  Traceback (most recent call last)",
      "Cell \u001b[0;32mIn[51], line 4\u001b[0m\n\u001b[1;32m      2\u001b[0m \u001b[38;5;28;01mfor\u001b[39;00m x \u001b[38;5;129;01min\u001b[39;00m sim:\n\u001b[1;32m      3\u001b[0m     key \u001b[38;5;241m=\u001b[39m (\u001b[38;5;28mset\u001b[39m([x]) \u001b[38;5;241m-\u001b[39m \u001b[38;5;28mset\u001b[39m(knn_dict))\u001b[38;5;241m.\u001b[39mpop()\n\u001b[0;32m----> 4\u001b[0m     knn_dict[key] \u001b[38;5;241m=\u001b[39m{ ((\u001b[38;5;28mset\u001b[39m([x]) \u001b[38;5;241m&\u001b[39m \u001b[38;5;28mset\u001b[39m([k])))\u001b[38;5;241m.\u001b[39mpop() : sim[k] \u001b[38;5;28;01mfor\u001b[39;00m k \u001b[38;5;129;01min\u001b[39;00m sim \u001b[38;5;28;01mif\u001b[39;00m \u001b[38;5;28mlen\u001b[39m(\u001b[38;5;28mset\u001b[39m([x]) \u001b[38;5;241m-\u001b[39m \u001b[38;5;28mset\u001b[39m([k])) \u001b[38;5;241m==\u001b[39m \u001b[38;5;241m1\u001b[39m }\n",
      "Cell \u001b[0;32mIn[51], line 4\u001b[0m, in \u001b[0;36m<dictcomp>\u001b[0;34m(.0)\u001b[0m\n\u001b[1;32m      2\u001b[0m \u001b[38;5;28;01mfor\u001b[39;00m x \u001b[38;5;129;01min\u001b[39;00m sim:\n\u001b[1;32m      3\u001b[0m     key \u001b[38;5;241m=\u001b[39m (\u001b[38;5;28mset\u001b[39m([x]) \u001b[38;5;241m-\u001b[39m \u001b[38;5;28mset\u001b[39m(knn_dict))\u001b[38;5;241m.\u001b[39mpop()\n\u001b[0;32m----> 4\u001b[0m     knn_dict[key] \u001b[38;5;241m=\u001b[39m{ \u001b[43m(\u001b[49m\u001b[43m(\u001b[49m\u001b[38;5;28;43mset\u001b[39;49m\u001b[43m(\u001b[49m\u001b[43m[\u001b[49m\u001b[43mx\u001b[49m\u001b[43m]\u001b[49m\u001b[43m)\u001b[49m\u001b[43m \u001b[49m\u001b[38;5;241;43m&\u001b[39;49m\u001b[43m \u001b[49m\u001b[38;5;28;43mset\u001b[39;49m\u001b[43m(\u001b[49m\u001b[43m[\u001b[49m\u001b[43mk\u001b[49m\u001b[43m]\u001b[49m\u001b[43m)\u001b[49m\u001b[43m)\u001b[49m\u001b[43m)\u001b[49m\u001b[38;5;241;43m.\u001b[39;49m\u001b[43mpop\u001b[49m\u001b[43m(\u001b[49m\u001b[43m)\u001b[49m : sim[k] \u001b[38;5;28;01mfor\u001b[39;00m k \u001b[38;5;129;01min\u001b[39;00m sim \u001b[38;5;28;01mif\u001b[39;00m \u001b[38;5;28mlen\u001b[39m(\u001b[38;5;28mset\u001b[39m([x]) \u001b[38;5;241m-\u001b[39m \u001b[38;5;28mset\u001b[39m([k])) \u001b[38;5;241m==\u001b[39m \u001b[38;5;241m1\u001b[39m }\n",
      "\u001b[0;31mKeyError\u001b[0m: 'pop from an empty set'"
     ]
    }
   ],
   "source": [
    "knn_dict = dict()\n",
    "for x in sim:\n",
    "    key = (set([x]) - set(knn_dict)).pop()\n",
    "    knn_dict[key] ={ ((set([x]) & set([k]))).pop() : sim[k] for k in sim if len(set([x]) - set([k])) == 1 }"
   ]
  },
  {
   "cell_type": "code",
   "execution_count": 25,
   "id": "4be061d7",
   "metadata": {
    "ExecuteTime": {
     "end_time": "2023-10-30T11:50:17.347784Z",
     "start_time": "2023-10-30T11:50:17.341586Z"
    }
   },
   "outputs": [
    {
     "data": {
      "text/plain": [
       "{}"
      ]
     },
     "execution_count": 25,
     "metadata": {},
     "output_type": "execute_result"
    }
   ],
   "source": [
    "knn_dict"
   ]
  },
  {
   "cell_type": "code",
   "execution_count": null,
   "id": "bb0d6ea0",
   "metadata": {},
   "outputs": [],
   "source": [
    "{1: [(2, 0.7178336760084498), (3, 0.0879639993170358)],\n",
    " 2: [(1, 0.7178336760084498), (3, 0.3492086265440315)],\n",
    " 3: [(2, 0.3492086265440315), (1, 0.0879639993170358)]}"
   ]
  },
  {
   "cell_type": "code",
   "execution_count": 26,
   "id": "40a0e6fc",
   "metadata": {
    "ExecuteTime": {
     "end_time": "2023-10-30T11:50:19.251499Z",
     "start_time": "2023-10-30T11:50:19.240588Z"
    }
   },
   "outputs": [
    {
     "data": {
      "text/plain": [
       "{}"
      ]
     },
     "execution_count": 26,
     "metadata": {},
     "output_type": "execute_result"
    }
   ],
   "source": [
    "knn_dict"
   ]
  },
  {
   "cell_type": "code",
   "execution_count": 427,
   "id": "d7a88f9d",
   "metadata": {
    "ExecuteTime": {
     "end_time": "2023-10-25T17:24:35.517897Z",
     "start_time": "2023-10-25T17:24:35.514451Z"
    }
   },
   "outputs": [
    {
     "data": {
      "text/plain": [
       "{(2, 3): (1, 3)}"
      ]
     },
     "execution_count": 427,
     "metadata": {},
     "output_type": "execute_result"
    }
   ],
   "source": [
    "knn_dict"
   ]
  },
  {
   "cell_type": "code",
   "execution_count": 419,
   "id": "aead473e",
   "metadata": {
    "ExecuteTime": {
     "end_time": "2023-10-25T17:23:23.637213Z",
     "start_time": "2023-10-25T17:23:23.631687Z"
    }
   },
   "outputs": [
    {
     "data": {
      "text/plain": [
       "set()"
      ]
     },
     "execution_count": 419,
     "metadata": {},
     "output_type": "execute_result"
    }
   ],
   "source": [
    "knn_dict"
   ]
  },
  {
   "cell_type": "code",
   "execution_count": 54,
   "id": "37af3bca",
   "metadata": {
    "ExecuteTime": {
     "end_time": "2023-10-30T11:54:22.556053Z",
     "start_time": "2023-10-30T11:54:22.527237Z"
    }
   },
   "outputs": [
    {
     "ename": "TypeError",
     "evalue": "unhashable type: 'set'",
     "output_type": "error",
     "traceback": [
      "\u001b[0;31m---------------------------------------------------------------------------\u001b[0m",
      "\u001b[0;31mTypeError\u001b[0m                                 Traceback (most recent call last)",
      "Cell \u001b[0;32mIn[54], line 3\u001b[0m\n\u001b[1;32m      1\u001b[0m knn_dict \u001b[38;5;241m=\u001b[39m \u001b[38;5;28mdict\u001b[39m()\n\u001b[1;32m      2\u001b[0m \u001b[38;5;28;01mfor\u001b[39;00m x \u001b[38;5;129;01min\u001b[39;00m sim:\n\u001b[0;32m----> 3\u001b[0m     knn_dict \u001b[38;5;241m=\u001b[39m {( (\u001b[38;5;28mset\u001b[39m([x]) \u001b[38;5;241m-\u001b[39m \u001b[38;5;28mset\u001b[39m([k])) , sim[k]) \u001b[38;5;28;01mfor\u001b[39;00m k \u001b[38;5;129;01min\u001b[39;00m sim \u001b[38;5;28;01mif\u001b[39;00m \u001b[38;5;28mlen\u001b[39m(\u001b[38;5;28mset\u001b[39m([x]) \u001b[38;5;241m-\u001b[39m \u001b[38;5;28mset\u001b[39m([k])) \u001b[38;5;241m>\u001b[39m \u001b[38;5;241m0\u001b[39m }\n\u001b[1;32m      4\u001b[0m \u001b[38;5;66;03m#knn_dict = {int(x): sorted(knn_dict[x][:2], \u001b[39;00m\n\u001b[1;32m      5\u001b[0m \u001b[38;5;66;03m#                      key=lambda x :x[1], reverse = True) for x in knn_dict}\u001b[39;00m\n",
      "Cell \u001b[0;32mIn[54], line 3\u001b[0m, in \u001b[0;36m<setcomp>\u001b[0;34m(.0)\u001b[0m\n\u001b[1;32m      1\u001b[0m knn_dict \u001b[38;5;241m=\u001b[39m \u001b[38;5;28mdict\u001b[39m()\n\u001b[1;32m      2\u001b[0m \u001b[38;5;28;01mfor\u001b[39;00m x \u001b[38;5;129;01min\u001b[39;00m sim:\n\u001b[0;32m----> 3\u001b[0m     knn_dict \u001b[38;5;241m=\u001b[39m {( (\u001b[38;5;28mset\u001b[39m([x]) \u001b[38;5;241m-\u001b[39m \u001b[38;5;28mset\u001b[39m([k])) , sim[k]) \u001b[38;5;28;01mfor\u001b[39;00m k \u001b[38;5;129;01min\u001b[39;00m sim \u001b[38;5;28;01mif\u001b[39;00m \u001b[38;5;28mlen\u001b[39m(\u001b[38;5;28mset\u001b[39m([x]) \u001b[38;5;241m-\u001b[39m \u001b[38;5;28mset\u001b[39m([k])) \u001b[38;5;241m>\u001b[39m \u001b[38;5;241m0\u001b[39m }\n\u001b[1;32m      4\u001b[0m \u001b[38;5;66;03m#knn_dict = {int(x): sorted(knn_dict[x][:2], \u001b[39;00m\n\u001b[1;32m      5\u001b[0m \u001b[38;5;66;03m#                      key=lambda x :x[1], reverse = True) for x in knn_dict}\u001b[39;00m\n",
      "\u001b[0;31mTypeError\u001b[0m: unhashable type: 'set'"
     ]
    }
   ],
   "source": [
    "knn_dict = dict()\n",
    "for x in sim:\n",
    "    knn_dict = {( (set([x]) - set([k])) , sim[k]) for k in sim if len(set([x]) - set([k])) > 0 }\n",
    "#knn_dict = {int(x): sorted(knn_dict[x][:2], \n",
    "#                      key=lambda x :x[1], reverse = True) for x in knn_dict}"
   ]
  },
  {
   "cell_type": "code",
   "execution_count": 55,
   "id": "381b13c8",
   "metadata": {
    "ExecuteTime": {
     "end_time": "2023-10-30T11:54:24.717048Z",
     "start_time": "2023-10-30T11:54:24.706235Z"
    }
   },
   "outputs": [
    {
     "data": {
      "text/plain": [
       "{}"
      ]
     },
     "execution_count": 55,
     "metadata": {},
     "output_type": "execute_result"
    }
   ],
   "source": [
    "knn_dict"
   ]
  },
  {
   "cell_type": "code",
   "execution_count": 61,
   "id": "9b4eebff",
   "metadata": {
    "ExecuteTime": {
     "end_time": "2023-10-30T11:55:06.729995Z",
     "start_time": "2023-10-30T11:55:06.719254Z"
    }
   },
   "outputs": [
    {
     "data": {
      "text/plain": [
       "[1, 22, 33]"
      ]
     },
     "execution_count": 61,
     "metadata": {},
     "output_type": "execute_result"
    }
   ],
   "source": []
  },
  {
   "cell_type": "code",
   "execution_count": 130,
   "id": "55350cd0",
   "metadata": {
    "ExecuteTime": {
     "end_time": "2023-10-30T12:13:37.302567Z",
     "start_time": "2023-10-30T12:13:37.299718Z"
    }
   },
   "outputs": [],
   "source": []
  },
  {
   "cell_type": "code",
   "execution_count": 63,
   "id": "ea33b853",
   "metadata": {
    "ExecuteTime": {
     "end_time": "2023-10-30T11:55:14.381057Z",
     "start_time": "2023-10-30T11:55:14.369781Z"
    }
   },
   "outputs": [
    {
     "data": {
      "text/plain": [
       "{1: 5.123123, 22: 20.22, 33: 2.333}"
      ]
     },
     "execution_count": 63,
     "metadata": {},
     "output_type": "execute_result"
    }
   ],
   "source": [
    "prices"
   ]
  },
  {
   "cell_type": "code",
   "execution_count": 274,
   "id": "eb307f49",
   "metadata": {
    "ExecuteTime": {
     "end_time": "2023-10-25T12:01:20.093185Z",
     "start_time": "2023-10-25T12:01:20.087043Z"
    }
   },
   "outputs": [
    {
     "data": {
      "text/plain": [
       "[0.7178336760084498, 0.0879639993170358]"
      ]
     },
     "execution_count": 274,
     "metadata": {},
     "output_type": "execute_result"
    }
   ],
   "source": [
    "[x[1] for x in knn_dict[1]]"
   ]
  },
  {
   "cell_type": "code",
   "execution_count": 24,
   "id": "91eda666",
   "metadata": {
    "ExecuteTime": {
     "end_time": "2023-10-31T06:36:34.131440Z",
     "start_time": "2023-10-31T06:36:34.123016Z"
    }
   },
   "outputs": [],
   "source": [
    "\"\"\"Solution for Similar Items task\"\"\"\n",
    "from typing import Dict\n",
    "from typing import List\n",
    "from typing import Tuple\n",
    "from itertools import combinations\n",
    "import numpy as np\n",
    "from scipy.spatial.distance import cosine\n",
    "\n",
    "\n",
    "class SimilarItems:\n",
    "    \"\"\"Similar items class\"\"\"\n",
    "\n",
    "    @staticmethod\n",
    "    def similarity(embeddings: Dict[int, np.ndarray]) -> Dict[Tuple[int, int], float]:\n",
    "        \"\"\"Calculate pairwise similarities between each item\n",
    "        in embedding.\n",
    "\n",
    "        Args:\n",
    "            embeddings (Dict[int, np.ndarray]): Items embeddings.\n",
    "\n",
    "        Returns:\n",
    "            Tuple[List[str], Dict[Tuple[int, int], float]]:\n",
    "            List of all items + Pairwise similarities dict\n",
    "            Keys are in form of (i, j) - combinations pairs of item_ids\n",
    "            with i < j.\n",
    "            Round each value to 8 decimal places.\n",
    "        \"\"\"\n",
    "\n",
    "        pair_sims = dict(zip(tuple(combinations(embeddings.keys(), 2)),\n",
    "                             [round(1 - cosine(embeddings[x[0]], embeddings[x[1]]), 8) for x in\n",
    "                              list(combinations(embeddings.keys(), 2))]))\n",
    "\n",
    "        return pair_sims\n",
    "\n",
    "    @staticmethod\n",
    "    def knn(\n",
    "        sim: Dict[Tuple[int, int], float], top: int\n",
    "    ) -> Dict[int, List[Tuple[int, float]]]:\n",
    "        \"\"\"Return closest neighbors for each item.\n",
    "\n",
    "        Args:\n",
    "            sim (Dict[Tuple[int, int], float]): <similarity> method output.\n",
    "            top (int): Number of top neighbors to consider.\n",
    "\n",
    "        Returns:\n",
    "            Dict[int, List[Tuple[int, float]]]: Dict with top closest neighbors\n",
    "            for each item.\n",
    "        \"\"\"\n",
    "\n",
    "        knn_dict = dict()\n",
    "        asd = np.unique(list(sim.keys()))\n",
    "\n",
    "        for i in asd:\n",
    "            a_vect = np.array(list(sim.keys()))\n",
    "            ind = list(np.where(np.any(a_vect == i, axis=1))[0])\n",
    "            val = np.array(list(sim.values()))[ind]\n",
    "\n",
    "            knn_dict[i] = list(\n",
    "                zip(list(a_vect[ind][a_vect[ind] != i]), list(val)))\n",
    "            \n",
    "        knn_dict = {int(x): sorted(knn_dict[x][:top],\n",
    "                                   key=lambda x: x[1], reverse=True) for x in knn_dict}\n",
    "\n",
    "        return knn_dict\n",
    "\n",
    "    @staticmethod\n",
    "    def knn_price(\n",
    "        knn_dict: Dict[int, List[Tuple[int, float]]],\n",
    "        prices: Dict[int, float],\n",
    "    ) -> Dict[int, float]:\n",
    "        \"\"\"Calculate weighted average prices for each item.\n",
    "        Weights should be positive numbers in [0, 2] interval.\n",
    "\n",
    "        Args:\n",
    "            knn_dict (Dict[int, List[Tuple[int, float]]]): <knn> method output.\n",
    "            prices (Dict[int, float]): Price dict for each item.\n",
    "\n",
    "        Returns:\n",
    "            Dict[int, float]: New prices dict, rounded to 2 decimal places.\n",
    "        \"\"\"\n",
    "        prices_new = dict()\n",
    "        for x in prices:\n",
    "            list_ = [k[0] for k in knn_dict[x]]\n",
    "            norm = np.array([k[1] + 1 for k in knn_dict[x]])\n",
    "            prices_new[x] = round(sum(np.array([prices[k] for\n",
    "                                            k in list_]) * norm)/sum(norm), 2)\n",
    "\n",
    "        return prices_new\n",
    "\n",
    "    @staticmethod\n",
    "    def transform(\n",
    "        embeddings: Dict[int, np.ndarray],\n",
    "        prices: Dict[int, float],\n",
    "        top: int,\n",
    "    ) -> Dict[int, float]:\n",
    "        \"\"\"Transforming input embeddings into a dictionary\n",
    "        with weighted average prices for each item.\n",
    "\n",
    "        Args:\n",
    "            embeddings (Dict[int, np.ndarray]): Items embeddings.\n",
    "            prices (Dict[int, float]): Price dict for each item.\n",
    "            top (int): Number of top neighbors to consider.\n",
    "\n",
    "        Returns:\n",
    "            Dict[int, float]: Dict with weighted average prices for each item.\n",
    "        \"\"\"\n",
    "        knn_price_dict = SimilarItems().similarity(embeddings)\n",
    "        knn_price_dict = SimilarItems().knn(knn_price_dict, top)\n",
    "        knn_price_dict = SimilarItems().knn_price(knn_price_dict, prices)\n",
    "\n",
    "        return knn_price_dict"
   ]
  },
  {
   "cell_type": "code",
   "execution_count": 5,
   "id": "45551580",
   "metadata": {
    "ExecuteTime": {
     "end_time": "2023-10-31T06:35:17.084663Z",
     "start_time": "2023-10-31T06:35:17.075149Z"
    }
   },
   "outputs": [],
   "source": [
    "k= 30\n",
    "embeddings = dict(zip([i for i in range(0, k)], [np.array([12, -22]), np.array([-3,-3]), \n",
    "                                       np.array([1,-13])]* k))"
   ]
  },
  {
   "cell_type": "code",
   "execution_count": 6,
   "id": "d6edc6b2",
   "metadata": {
    "ExecuteTime": {
     "end_time": "2023-10-31T06:35:17.757042Z",
     "start_time": "2023-10-31T06:35:17.731635Z"
    }
   },
   "outputs": [
    {
     "data": {
      "text/plain": [
       "{0: array([ 12, -22]),\n",
       " 1: array([-3, -3]),\n",
       " 2: array([  1, -13]),\n",
       " 3: array([ 12, -22]),\n",
       " 4: array([-3, -3]),\n",
       " 5: array([  1, -13]),\n",
       " 6: array([ 12, -22]),\n",
       " 7: array([-3, -3]),\n",
       " 8: array([  1, -13]),\n",
       " 9: array([ 12, -22]),\n",
       " 10: array([-3, -3]),\n",
       " 11: array([  1, -13]),\n",
       " 12: array([ 12, -22]),\n",
       " 13: array([-3, -3]),\n",
       " 14: array([  1, -13]),\n",
       " 15: array([ 12, -22]),\n",
       " 16: array([-3, -3]),\n",
       " 17: array([  1, -13]),\n",
       " 18: array([ 12, -22]),\n",
       " 19: array([-3, -3]),\n",
       " 20: array([  1, -13]),\n",
       " 21: array([ 12, -22]),\n",
       " 22: array([-3, -3]),\n",
       " 23: array([  1, -13]),\n",
       " 24: array([ 12, -22]),\n",
       " 25: array([-3, -3]),\n",
       " 26: array([  1, -13]),\n",
       " 27: array([ 12, -22]),\n",
       " 28: array([-3, -3]),\n",
       " 29: array([  1, -13])}"
      ]
     },
     "execution_count": 6,
     "metadata": {},
     "output_type": "execute_result"
    }
   ],
   "source": [
    "embeddings"
   ]
  },
  {
   "cell_type": "code",
   "execution_count": 27,
   "id": "6373fd40",
   "metadata": {
    "ExecuteTime": {
     "end_time": "2023-10-31T06:36:46.113158Z",
     "start_time": "2023-10-31T06:36:46.110482Z"
    }
   },
   "outputs": [],
   "source": [
    "prices = dict(zip(list(embeddings.keys()), [5.123123,20.22,2.333] * k))"
   ]
  },
  {
   "cell_type": "code",
   "execution_count": 9,
   "id": "91db5de3",
   "metadata": {
    "ExecuteTime": {
     "end_time": "2023-10-31T06:35:21.672502Z",
     "start_time": "2023-10-31T06:35:21.630022Z"
    }
   },
   "outputs": [],
   "source": [
    "a = SimilarItems().similarity(embeddings)"
   ]
  },
  {
   "cell_type": "code",
   "execution_count": 10,
   "id": "a92a9bdd",
   "metadata": {
    "ExecuteTime": {
     "end_time": "2023-10-31T06:35:22.520854Z",
     "start_time": "2023-10-31T06:35:22.490188Z"
    }
   },
   "outputs": [
    {
     "data": {
      "text/plain": [
       "{(0, 1): 0.28216632,\n",
       " (0, 2): 0.912036,\n",
       " (0, 3): 1,\n",
       " (0, 4): 0.28216632,\n",
       " (0, 5): 0.912036,\n",
       " (0, 6): 1,\n",
       " (0, 7): 0.28216632,\n",
       " (0, 8): 0.912036,\n",
       " (0, 9): 1,\n",
       " (0, 10): 0.28216632,\n",
       " (0, 11): 0.912036,\n",
       " (0, 12): 1,\n",
       " (0, 13): 0.28216632,\n",
       " (0, 14): 0.912036,\n",
       " (0, 15): 1,\n",
       " (0, 16): 0.28216632,\n",
       " (0, 17): 0.912036,\n",
       " (0, 18): 1,\n",
       " (0, 19): 0.28216632,\n",
       " (0, 20): 0.912036,\n",
       " (0, 21): 1,\n",
       " (0, 22): 0.28216632,\n",
       " (0, 23): 0.912036,\n",
       " (0, 24): 1,\n",
       " (0, 25): 0.28216632,\n",
       " (0, 26): 0.912036,\n",
       " (0, 27): 1,\n",
       " (0, 28): 0.28216632,\n",
       " (0, 29): 0.912036,\n",
       " (1, 2): 0.65079137,\n",
       " (1, 3): 0.28216632,\n",
       " (1, 4): 1,\n",
       " (1, 5): 0.65079137,\n",
       " (1, 6): 0.28216632,\n",
       " (1, 7): 1,\n",
       " (1, 8): 0.65079137,\n",
       " (1, 9): 0.28216632,\n",
       " (1, 10): 1,\n",
       " (1, 11): 0.65079137,\n",
       " (1, 12): 0.28216632,\n",
       " (1, 13): 1,\n",
       " (1, 14): 0.65079137,\n",
       " (1, 15): 0.28216632,\n",
       " (1, 16): 1,\n",
       " (1, 17): 0.65079137,\n",
       " (1, 18): 0.28216632,\n",
       " (1, 19): 1,\n",
       " (1, 20): 0.65079137,\n",
       " (1, 21): 0.28216632,\n",
       " (1, 22): 1,\n",
       " (1, 23): 0.65079137,\n",
       " (1, 24): 0.28216632,\n",
       " (1, 25): 1,\n",
       " (1, 26): 0.65079137,\n",
       " (1, 27): 0.28216632,\n",
       " (1, 28): 1,\n",
       " (1, 29): 0.65079137,\n",
       " (2, 3): 0.912036,\n",
       " (2, 4): 0.65079137,\n",
       " (2, 5): 1,\n",
       " (2, 6): 0.912036,\n",
       " (2, 7): 0.65079137,\n",
       " (2, 8): 1,\n",
       " (2, 9): 0.912036,\n",
       " (2, 10): 0.65079137,\n",
       " (2, 11): 1,\n",
       " (2, 12): 0.912036,\n",
       " (2, 13): 0.65079137,\n",
       " (2, 14): 1,\n",
       " (2, 15): 0.912036,\n",
       " (2, 16): 0.65079137,\n",
       " (2, 17): 1,\n",
       " (2, 18): 0.912036,\n",
       " (2, 19): 0.65079137,\n",
       " (2, 20): 1,\n",
       " (2, 21): 0.912036,\n",
       " (2, 22): 0.65079137,\n",
       " (2, 23): 1,\n",
       " (2, 24): 0.912036,\n",
       " (2, 25): 0.65079137,\n",
       " (2, 26): 1,\n",
       " (2, 27): 0.912036,\n",
       " (2, 28): 0.65079137,\n",
       " (2, 29): 1,\n",
       " (3, 4): 0.28216632,\n",
       " (3, 5): 0.912036,\n",
       " (3, 6): 1,\n",
       " (3, 7): 0.28216632,\n",
       " (3, 8): 0.912036,\n",
       " (3, 9): 1,\n",
       " (3, 10): 0.28216632,\n",
       " (3, 11): 0.912036,\n",
       " (3, 12): 1,\n",
       " (3, 13): 0.28216632,\n",
       " (3, 14): 0.912036,\n",
       " (3, 15): 1,\n",
       " (3, 16): 0.28216632,\n",
       " (3, 17): 0.912036,\n",
       " (3, 18): 1,\n",
       " (3, 19): 0.28216632,\n",
       " (3, 20): 0.912036,\n",
       " (3, 21): 1,\n",
       " (3, 22): 0.28216632,\n",
       " (3, 23): 0.912036,\n",
       " (3, 24): 1,\n",
       " (3, 25): 0.28216632,\n",
       " (3, 26): 0.912036,\n",
       " (3, 27): 1,\n",
       " (3, 28): 0.28216632,\n",
       " (3, 29): 0.912036,\n",
       " (4, 5): 0.65079137,\n",
       " (4, 6): 0.28216632,\n",
       " (4, 7): 1,\n",
       " (4, 8): 0.65079137,\n",
       " (4, 9): 0.28216632,\n",
       " (4, 10): 1,\n",
       " (4, 11): 0.65079137,\n",
       " (4, 12): 0.28216632,\n",
       " (4, 13): 1,\n",
       " (4, 14): 0.65079137,\n",
       " (4, 15): 0.28216632,\n",
       " (4, 16): 1,\n",
       " (4, 17): 0.65079137,\n",
       " (4, 18): 0.28216632,\n",
       " (4, 19): 1,\n",
       " (4, 20): 0.65079137,\n",
       " (4, 21): 0.28216632,\n",
       " (4, 22): 1,\n",
       " (4, 23): 0.65079137,\n",
       " (4, 24): 0.28216632,\n",
       " (4, 25): 1,\n",
       " (4, 26): 0.65079137,\n",
       " (4, 27): 0.28216632,\n",
       " (4, 28): 1,\n",
       " (4, 29): 0.65079137,\n",
       " (5, 6): 0.912036,\n",
       " (5, 7): 0.65079137,\n",
       " (5, 8): 1,\n",
       " (5, 9): 0.912036,\n",
       " (5, 10): 0.65079137,\n",
       " (5, 11): 1,\n",
       " (5, 12): 0.912036,\n",
       " (5, 13): 0.65079137,\n",
       " (5, 14): 1,\n",
       " (5, 15): 0.912036,\n",
       " (5, 16): 0.65079137,\n",
       " (5, 17): 1,\n",
       " (5, 18): 0.912036,\n",
       " (5, 19): 0.65079137,\n",
       " (5, 20): 1,\n",
       " (5, 21): 0.912036,\n",
       " (5, 22): 0.65079137,\n",
       " (5, 23): 1,\n",
       " (5, 24): 0.912036,\n",
       " (5, 25): 0.65079137,\n",
       " (5, 26): 1,\n",
       " (5, 27): 0.912036,\n",
       " (5, 28): 0.65079137,\n",
       " (5, 29): 1,\n",
       " (6, 7): 0.28216632,\n",
       " (6, 8): 0.912036,\n",
       " (6, 9): 1,\n",
       " (6, 10): 0.28216632,\n",
       " (6, 11): 0.912036,\n",
       " (6, 12): 1,\n",
       " (6, 13): 0.28216632,\n",
       " (6, 14): 0.912036,\n",
       " (6, 15): 1,\n",
       " (6, 16): 0.28216632,\n",
       " (6, 17): 0.912036,\n",
       " (6, 18): 1,\n",
       " (6, 19): 0.28216632,\n",
       " (6, 20): 0.912036,\n",
       " (6, 21): 1,\n",
       " (6, 22): 0.28216632,\n",
       " (6, 23): 0.912036,\n",
       " (6, 24): 1,\n",
       " (6, 25): 0.28216632,\n",
       " (6, 26): 0.912036,\n",
       " (6, 27): 1,\n",
       " (6, 28): 0.28216632,\n",
       " (6, 29): 0.912036,\n",
       " (7, 8): 0.65079137,\n",
       " (7, 9): 0.28216632,\n",
       " (7, 10): 1,\n",
       " (7, 11): 0.65079137,\n",
       " (7, 12): 0.28216632,\n",
       " (7, 13): 1,\n",
       " (7, 14): 0.65079137,\n",
       " (7, 15): 0.28216632,\n",
       " (7, 16): 1,\n",
       " (7, 17): 0.65079137,\n",
       " (7, 18): 0.28216632,\n",
       " (7, 19): 1,\n",
       " (7, 20): 0.65079137,\n",
       " (7, 21): 0.28216632,\n",
       " (7, 22): 1,\n",
       " (7, 23): 0.65079137,\n",
       " (7, 24): 0.28216632,\n",
       " (7, 25): 1,\n",
       " (7, 26): 0.65079137,\n",
       " (7, 27): 0.28216632,\n",
       " (7, 28): 1,\n",
       " (7, 29): 0.65079137,\n",
       " (8, 9): 0.912036,\n",
       " (8, 10): 0.65079137,\n",
       " (8, 11): 1,\n",
       " (8, 12): 0.912036,\n",
       " (8, 13): 0.65079137,\n",
       " (8, 14): 1,\n",
       " (8, 15): 0.912036,\n",
       " (8, 16): 0.65079137,\n",
       " (8, 17): 1,\n",
       " (8, 18): 0.912036,\n",
       " (8, 19): 0.65079137,\n",
       " (8, 20): 1,\n",
       " (8, 21): 0.912036,\n",
       " (8, 22): 0.65079137,\n",
       " (8, 23): 1,\n",
       " (8, 24): 0.912036,\n",
       " (8, 25): 0.65079137,\n",
       " (8, 26): 1,\n",
       " (8, 27): 0.912036,\n",
       " (8, 28): 0.65079137,\n",
       " (8, 29): 1,\n",
       " (9, 10): 0.28216632,\n",
       " (9, 11): 0.912036,\n",
       " (9, 12): 1,\n",
       " (9, 13): 0.28216632,\n",
       " (9, 14): 0.912036,\n",
       " (9, 15): 1,\n",
       " (9, 16): 0.28216632,\n",
       " (9, 17): 0.912036,\n",
       " (9, 18): 1,\n",
       " (9, 19): 0.28216632,\n",
       " (9, 20): 0.912036,\n",
       " (9, 21): 1,\n",
       " (9, 22): 0.28216632,\n",
       " (9, 23): 0.912036,\n",
       " (9, 24): 1,\n",
       " (9, 25): 0.28216632,\n",
       " (9, 26): 0.912036,\n",
       " (9, 27): 1,\n",
       " (9, 28): 0.28216632,\n",
       " (9, 29): 0.912036,\n",
       " (10, 11): 0.65079137,\n",
       " (10, 12): 0.28216632,\n",
       " (10, 13): 1,\n",
       " (10, 14): 0.65079137,\n",
       " (10, 15): 0.28216632,\n",
       " (10, 16): 1,\n",
       " (10, 17): 0.65079137,\n",
       " (10, 18): 0.28216632,\n",
       " (10, 19): 1,\n",
       " (10, 20): 0.65079137,\n",
       " (10, 21): 0.28216632,\n",
       " (10, 22): 1,\n",
       " (10, 23): 0.65079137,\n",
       " (10, 24): 0.28216632,\n",
       " (10, 25): 1,\n",
       " (10, 26): 0.65079137,\n",
       " (10, 27): 0.28216632,\n",
       " (10, 28): 1,\n",
       " (10, 29): 0.65079137,\n",
       " (11, 12): 0.912036,\n",
       " (11, 13): 0.65079137,\n",
       " (11, 14): 1,\n",
       " (11, 15): 0.912036,\n",
       " (11, 16): 0.65079137,\n",
       " (11, 17): 1,\n",
       " (11, 18): 0.912036,\n",
       " (11, 19): 0.65079137,\n",
       " (11, 20): 1,\n",
       " (11, 21): 0.912036,\n",
       " (11, 22): 0.65079137,\n",
       " (11, 23): 1,\n",
       " (11, 24): 0.912036,\n",
       " (11, 25): 0.65079137,\n",
       " (11, 26): 1,\n",
       " (11, 27): 0.912036,\n",
       " (11, 28): 0.65079137,\n",
       " (11, 29): 1,\n",
       " (12, 13): 0.28216632,\n",
       " (12, 14): 0.912036,\n",
       " (12, 15): 1,\n",
       " (12, 16): 0.28216632,\n",
       " (12, 17): 0.912036,\n",
       " (12, 18): 1,\n",
       " (12, 19): 0.28216632,\n",
       " (12, 20): 0.912036,\n",
       " (12, 21): 1,\n",
       " (12, 22): 0.28216632,\n",
       " (12, 23): 0.912036,\n",
       " (12, 24): 1,\n",
       " (12, 25): 0.28216632,\n",
       " (12, 26): 0.912036,\n",
       " (12, 27): 1,\n",
       " (12, 28): 0.28216632,\n",
       " (12, 29): 0.912036,\n",
       " (13, 14): 0.65079137,\n",
       " (13, 15): 0.28216632,\n",
       " (13, 16): 1,\n",
       " (13, 17): 0.65079137,\n",
       " (13, 18): 0.28216632,\n",
       " (13, 19): 1,\n",
       " (13, 20): 0.65079137,\n",
       " (13, 21): 0.28216632,\n",
       " (13, 22): 1,\n",
       " (13, 23): 0.65079137,\n",
       " (13, 24): 0.28216632,\n",
       " (13, 25): 1,\n",
       " (13, 26): 0.65079137,\n",
       " (13, 27): 0.28216632,\n",
       " (13, 28): 1,\n",
       " (13, 29): 0.65079137,\n",
       " (14, 15): 0.912036,\n",
       " (14, 16): 0.65079137,\n",
       " (14, 17): 1,\n",
       " (14, 18): 0.912036,\n",
       " (14, 19): 0.65079137,\n",
       " (14, 20): 1,\n",
       " (14, 21): 0.912036,\n",
       " (14, 22): 0.65079137,\n",
       " (14, 23): 1,\n",
       " (14, 24): 0.912036,\n",
       " (14, 25): 0.65079137,\n",
       " (14, 26): 1,\n",
       " (14, 27): 0.912036,\n",
       " (14, 28): 0.65079137,\n",
       " (14, 29): 1,\n",
       " (15, 16): 0.28216632,\n",
       " (15, 17): 0.912036,\n",
       " (15, 18): 1,\n",
       " (15, 19): 0.28216632,\n",
       " (15, 20): 0.912036,\n",
       " (15, 21): 1,\n",
       " (15, 22): 0.28216632,\n",
       " (15, 23): 0.912036,\n",
       " (15, 24): 1,\n",
       " (15, 25): 0.28216632,\n",
       " (15, 26): 0.912036,\n",
       " (15, 27): 1,\n",
       " (15, 28): 0.28216632,\n",
       " (15, 29): 0.912036,\n",
       " (16, 17): 0.65079137,\n",
       " (16, 18): 0.28216632,\n",
       " (16, 19): 1,\n",
       " (16, 20): 0.65079137,\n",
       " (16, 21): 0.28216632,\n",
       " (16, 22): 1,\n",
       " (16, 23): 0.65079137,\n",
       " (16, 24): 0.28216632,\n",
       " (16, 25): 1,\n",
       " (16, 26): 0.65079137,\n",
       " (16, 27): 0.28216632,\n",
       " (16, 28): 1,\n",
       " (16, 29): 0.65079137,\n",
       " (17, 18): 0.912036,\n",
       " (17, 19): 0.65079137,\n",
       " (17, 20): 1,\n",
       " (17, 21): 0.912036,\n",
       " (17, 22): 0.65079137,\n",
       " (17, 23): 1,\n",
       " (17, 24): 0.912036,\n",
       " (17, 25): 0.65079137,\n",
       " (17, 26): 1,\n",
       " (17, 27): 0.912036,\n",
       " (17, 28): 0.65079137,\n",
       " (17, 29): 1,\n",
       " (18, 19): 0.28216632,\n",
       " (18, 20): 0.912036,\n",
       " (18, 21): 1,\n",
       " (18, 22): 0.28216632,\n",
       " (18, 23): 0.912036,\n",
       " (18, 24): 1,\n",
       " (18, 25): 0.28216632,\n",
       " (18, 26): 0.912036,\n",
       " (18, 27): 1,\n",
       " (18, 28): 0.28216632,\n",
       " (18, 29): 0.912036,\n",
       " (19, 20): 0.65079137,\n",
       " (19, 21): 0.28216632,\n",
       " (19, 22): 1,\n",
       " (19, 23): 0.65079137,\n",
       " (19, 24): 0.28216632,\n",
       " (19, 25): 1,\n",
       " (19, 26): 0.65079137,\n",
       " (19, 27): 0.28216632,\n",
       " (19, 28): 1,\n",
       " (19, 29): 0.65079137,\n",
       " (20, 21): 0.912036,\n",
       " (20, 22): 0.65079137,\n",
       " (20, 23): 1,\n",
       " (20, 24): 0.912036,\n",
       " (20, 25): 0.65079137,\n",
       " (20, 26): 1,\n",
       " (20, 27): 0.912036,\n",
       " (20, 28): 0.65079137,\n",
       " (20, 29): 1,\n",
       " (21, 22): 0.28216632,\n",
       " (21, 23): 0.912036,\n",
       " (21, 24): 1,\n",
       " (21, 25): 0.28216632,\n",
       " (21, 26): 0.912036,\n",
       " (21, 27): 1,\n",
       " (21, 28): 0.28216632,\n",
       " (21, 29): 0.912036,\n",
       " (22, 23): 0.65079137,\n",
       " (22, 24): 0.28216632,\n",
       " (22, 25): 1,\n",
       " (22, 26): 0.65079137,\n",
       " (22, 27): 0.28216632,\n",
       " (22, 28): 1,\n",
       " (22, 29): 0.65079137,\n",
       " (23, 24): 0.912036,\n",
       " (23, 25): 0.65079137,\n",
       " (23, 26): 1,\n",
       " (23, 27): 0.912036,\n",
       " (23, 28): 0.65079137,\n",
       " (23, 29): 1,\n",
       " (24, 25): 0.28216632,\n",
       " (24, 26): 0.912036,\n",
       " (24, 27): 1,\n",
       " (24, 28): 0.28216632,\n",
       " (24, 29): 0.912036,\n",
       " (25, 26): 0.65079137,\n",
       " (25, 27): 0.28216632,\n",
       " (25, 28): 1,\n",
       " (25, 29): 0.65079137,\n",
       " (26, 27): 0.912036,\n",
       " (26, 28): 0.65079137,\n",
       " (26, 29): 1,\n",
       " (27, 28): 0.28216632,\n",
       " (27, 29): 0.912036,\n",
       " (28, 29): 0.65079137}"
      ]
     },
     "execution_count": 10,
     "metadata": {},
     "output_type": "execute_result"
    }
   ],
   "source": [
    "a"
   ]
  },
  {
   "cell_type": "code",
   "execution_count": 11,
   "id": "3abe0c23",
   "metadata": {
    "ExecuteTime": {
     "end_time": "2023-10-31T06:35:25.149899Z",
     "start_time": "2023-10-31T06:35:25.145499Z"
    }
   },
   "outputs": [],
   "source": [
    "sim = a"
   ]
  },
  {
   "cell_type": "code",
   "execution_count": 67,
   "id": "8ba6aca7",
   "metadata": {
    "ExecuteTime": {
     "end_time": "2023-10-31T06:50:01.236254Z",
     "start_time": "2023-10-31T06:50:01.226839Z"
    }
   },
   "outputs": [],
   "source": [
    "knn_dict = dict()\n",
    "asd = np.unique(list(sim.keys()))\n",
    "\n",
    "for i in asd:\n",
    "    a_vect = np.array(list(sim.keys()))\n",
    "    ind = list(np.where(np.any(a_vect == i, axis=1))[0])\n",
    "    val = np.array(list(sim.values()))[ind]\n",
    "    \n",
    "    knn_dict[i] = list(\n",
    "        zip(list(a_vect[ind][a_vect[ind] != i]), list(val)))\n",
    "knn_dict = {int(x): sorted(knn_dict[x],\n",
    "                           key=lambda x: x[1], reverse=True)[:2] for x in knn_dict}"
   ]
  },
  {
   "cell_type": "code",
   "execution_count": 42,
   "id": "9fe57b1e",
   "metadata": {
    "ExecuteTime": {
     "end_time": "2023-10-31T06:43:02.666137Z",
     "start_time": "2023-10-31T06:43:02.655780Z"
    }
   },
   "outputs": [
    {
     "data": {
      "text/plain": [
       "array([28, 29])"
      ]
     },
     "execution_count": 42,
     "metadata": {},
     "output_type": "execute_result"
    }
   ],
   "source": [
    "a_vect[434]"
   ]
  },
  {
   "cell_type": "code",
   "execution_count": 68,
   "id": "b9b35e53",
   "metadata": {
    "ExecuteTime": {
     "end_time": "2023-10-31T06:50:07.006179Z",
     "start_time": "2023-10-31T06:50:06.986314Z"
    }
   },
   "outputs": [
    {
     "data": {
      "text/plain": [
       "{0: [(3, 1.0), (6, 1.0)],\n",
       " 1: [(4, 1.0), (7, 1.0)],\n",
       " 2: [(5, 1.0), (8, 1.0)],\n",
       " 3: [(0, 1.0), (6, 1.0)],\n",
       " 4: [(1, 1.0), (7, 1.0)],\n",
       " 5: [(2, 1.0), (8, 1.0)],\n",
       " 6: [(0, 1.0), (3, 1.0)],\n",
       " 7: [(1, 1.0), (4, 1.0)],\n",
       " 8: [(2, 1.0), (5, 1.0)],\n",
       " 9: [(0, 1.0), (3, 1.0)],\n",
       " 10: [(1, 1.0), (4, 1.0)],\n",
       " 11: [(2, 1.0), (5, 1.0)],\n",
       " 12: [(0, 1.0), (3, 1.0)],\n",
       " 13: [(1, 1.0), (4, 1.0)],\n",
       " 14: [(2, 1.0), (5, 1.0)],\n",
       " 15: [(0, 1.0), (3, 1.0)],\n",
       " 16: [(1, 1.0), (4, 1.0)],\n",
       " 17: [(2, 1.0), (5, 1.0)],\n",
       " 18: [(0, 1.0), (3, 1.0)],\n",
       " 19: [(1, 1.0), (4, 1.0)],\n",
       " 20: [(2, 1.0), (5, 1.0)],\n",
       " 21: [(0, 1.0), (3, 1.0)],\n",
       " 22: [(1, 1.0), (4, 1.0)],\n",
       " 23: [(2, 1.0), (5, 1.0)],\n",
       " 24: [(0, 1.0), (3, 1.0)],\n",
       " 25: [(1, 1.0), (4, 1.0)],\n",
       " 26: [(2, 1.0), (5, 1.0)],\n",
       " 27: [(0, 1.0), (3, 1.0)],\n",
       " 28: [(1, 1.0), (4, 1.0)],\n",
       " 29: [(2, 1.0), (5, 1.0)]}"
      ]
     },
     "execution_count": 68,
     "metadata": {},
     "output_type": "execute_result"
    }
   ],
   "source": [
    "knn_dict"
   ]
  },
  {
   "cell_type": "code",
   "execution_count": 61,
   "id": "075392ea",
   "metadata": {
    "ExecuteTime": {
     "end_time": "2023-10-31T06:46:29.065667Z",
     "start_time": "2023-10-31T06:46:29.051479Z"
    }
   },
   "outputs": [
    {
     "data": {
      "text/plain": [
       "array([ 0,  1,  2,  3,  4,  5,  6,  7,  8,  9, 10, 11, 12, 13, 14, 15, 16,\n",
       "       17, 18, 19, 20, 21, 22, 23, 24, 25, 26, 27, 28])"
      ]
     },
     "execution_count": 61,
     "metadata": {},
     "output_type": "execute_result"
    }
   ],
   "source": [
    "a_vect[ind][a_vect[ind] != 29]"
   ]
  },
  {
   "cell_type": "code",
   "execution_count": 59,
   "id": "b2be7cb1",
   "metadata": {
    "ExecuteTime": {
     "end_time": "2023-10-31T06:45:39.211391Z",
     "start_time": "2023-10-31T06:45:39.205086Z"
    }
   },
   "outputs": [
    {
     "data": {
      "text/plain": [
       "array([0.912036  , 0.65079137, 1.        , 0.912036  , 0.65079137,\n",
       "       1.        , 0.912036  , 0.65079137, 1.        , 0.912036  ,\n",
       "       0.65079137, 1.        , 0.912036  , 0.65079137, 1.        ,\n",
       "       0.912036  , 0.65079137, 1.        , 0.912036  , 0.65079137,\n",
       "       1.        , 0.912036  , 0.65079137, 1.        , 0.912036  ,\n",
       "       0.65079137, 1.        , 0.912036  , 0.65079137])"
      ]
     },
     "execution_count": 59,
     "metadata": {},
     "output_type": "execute_result"
    }
   ],
   "source": [
    "np.array(list(sim.values()))[ind]"
   ]
  },
  {
   "cell_type": "code",
   "execution_count": 45,
   "id": "c8a84c2f",
   "metadata": {
    "ExecuteTime": {
     "end_time": "2023-10-31T06:43:45.181985Z",
     "start_time": "2023-10-31T06:43:45.176499Z"
    }
   },
   "outputs": [],
   "source": [
    "ind = list(np.where(np.any(a_vect == 29, axis=1))[0])"
   ]
  },
  {
   "cell_type": "code",
   "execution_count": 17,
   "id": "9db1e718",
   "metadata": {
    "ExecuteTime": {
     "end_time": "2023-10-31T06:35:44.249636Z",
     "start_time": "2023-10-31T06:35:44.235177Z"
    }
   },
   "outputs": [
    {
     "data": {
      "text/plain": [
       "{0: [(2, 0.912036), (1, 0.28216632)],\n",
       " 1: [(2, 0.65079137), (0, 0.28216632)],\n",
       " 2: [(0, 0.912036), (1, 0.65079137)],\n",
       " 3: [(0, 1.0), (1, 0.28216632)],\n",
       " 4: [(1, 1.0), (0, 0.28216632)],\n",
       " 5: [(0, 0.912036), (1, 0.65079137)],\n",
       " 6: [(0, 1.0), (1, 0.28216632)],\n",
       " 7: [(1, 1.0), (0, 0.28216632)],\n",
       " 8: [(0, 0.912036), (1, 0.65079137)],\n",
       " 9: [(0, 1.0), (1, 0.28216632)],\n",
       " 10: [(1, 1.0), (0, 0.28216632)],\n",
       " 11: [(0, 0.912036), (1, 0.65079137)],\n",
       " 12: [(0, 1.0), (1, 0.28216632)],\n",
       " 13: [(1, 1.0), (0, 0.28216632)],\n",
       " 14: [(0, 0.912036), (1, 0.65079137)],\n",
       " 15: [(0, 1.0), (1, 0.28216632)],\n",
       " 16: [(1, 1.0), (0, 0.28216632)],\n",
       " 17: [(0, 0.912036), (1, 0.65079137)],\n",
       " 18: [(0, 1.0), (1, 0.28216632)],\n",
       " 19: [(1, 1.0), (0, 0.28216632)],\n",
       " 20: [(0, 0.912036), (1, 0.65079137)],\n",
       " 21: [(0, 1.0), (1, 0.28216632)],\n",
       " 22: [(1, 1.0), (0, 0.28216632)],\n",
       " 23: [(0, 0.912036), (1, 0.65079137)],\n",
       " 24: [(0, 1.0), (1, 0.28216632)],\n",
       " 25: [(1, 1.0), (0, 0.28216632)],\n",
       " 26: [(0, 0.912036), (1, 0.65079137)],\n",
       " 27: [(0, 1.0), (1, 0.28216632)],\n",
       " 28: [(1, 1.0), (0, 0.28216632)],\n",
       " 29: [(0, 0.912036), (1, 0.65079137)]}"
      ]
     },
     "execution_count": 17,
     "metadata": {},
     "output_type": "execute_result"
    }
   ],
   "source": [
    "knn_dict"
   ]
  },
  {
   "cell_type": "code",
   "execution_count": 30,
   "id": "37cdb848",
   "metadata": {
    "ExecuteTime": {
     "end_time": "2023-10-31T06:36:50.726244Z",
     "start_time": "2023-10-31T06:36:50.703435Z"
    }
   },
   "outputs": [
    {
     "name": "stdout",
     "output_type": "stream",
     "text": [
      "CPU times: user 19.6 ms, sys: 0 ns, total: 19.6 ms\n",
      "Wall time: 19.1 ms\n"
     ]
    },
    {
     "data": {
      "text/plain": [
       "{0: 9.51,\n",
       " 1: 3.55,\n",
       " 2: 12.12,\n",
       " 3: 11.02,\n",
       " 4: 14.32,\n",
       " 5: 12.12,\n",
       " 6: 11.02,\n",
       " 7: 14.32,\n",
       " 8: 12.12,\n",
       " 9: 11.02,\n",
       " 10: 14.32,\n",
       " 11: 12.12,\n",
       " 12: 11.02,\n",
       " 13: 14.32,\n",
       " 14: 12.12,\n",
       " 15: 11.02,\n",
       " 16: 14.32,\n",
       " 17: 12.12,\n",
       " 18: 11.02,\n",
       " 19: 14.32,\n",
       " 20: 12.12,\n",
       " 21: 11.02,\n",
       " 22: 14.32,\n",
       " 23: 12.12,\n",
       " 24: 11.02,\n",
       " 25: 14.32,\n",
       " 26: 12.12,\n",
       " 27: 11.02,\n",
       " 28: 14.32,\n",
       " 29: 12.12}"
      ]
     },
     "execution_count": 30,
     "metadata": {},
     "output_type": "execute_result"
    }
   ],
   "source": [
    "%%time\n",
    "SimilarItems().transform(embeddings, prices, top = 2)"
   ]
  }
 ],
 "metadata": {
  "kernelspec": {
   "display_name": "Python 3 (ipykernel)",
   "language": "python",
   "name": "python3"
  },
  "language_info": {
   "codemirror_mode": {
    "name": "ipython",
    "version": 3
   },
   "file_extension": ".py",
   "mimetype": "text/x-python",
   "name": "python",
   "nbconvert_exporter": "python",
   "pygments_lexer": "ipython3",
   "version": "3.10.12"
  },
  "varInspector": {
   "cols": {
    "lenName": 16,
    "lenType": 16,
    "lenVar": 40
   },
   "kernels_config": {
    "python": {
     "delete_cmd_postfix": "",
     "delete_cmd_prefix": "del ",
     "library": "var_list.py",
     "varRefreshCmd": "print(var_dic_list())"
    },
    "r": {
     "delete_cmd_postfix": ") ",
     "delete_cmd_prefix": "rm(",
     "library": "var_list.r",
     "varRefreshCmd": "cat(var_dic_list()) "
    }
   },
   "types_to_exclude": [
    "module",
    "function",
    "builtin_function_or_method",
    "instance",
    "_Feature"
   ],
   "window_display": false
  }
 },
 "nbformat": 4,
 "nbformat_minor": 5
}
