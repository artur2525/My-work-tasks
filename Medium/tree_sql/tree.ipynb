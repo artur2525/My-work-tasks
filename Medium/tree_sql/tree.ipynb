{
 "cells": [
  {
   "cell_type": "code",
   "execution_count": 1,
   "id": "32071d41",
   "metadata": {
    "ExecuteTime": {
     "end_time": "2023-09-25T11:36:48.922089Z",
     "start_time": "2023-09-25T11:36:48.536886Z"
    }
   },
   "outputs": [],
   "source": [
    "import json\n",
    "from sklearn.tree import DecisionTreeClassifier\n",
    "from sklearn.datasets import  make_classification\n",
    "\n",
    "\n"
   ]
  },
  {
   "cell_type": "code",
   "execution_count": 2,
   "id": "b756267e",
   "metadata": {
    "ExecuteTime": {
     "end_time": "2023-09-25T11:36:49.758450Z",
     "start_time": "2023-09-25T11:36:49.748888Z"
    }
   },
   "outputs": [],
   "source": [
    "X, y = make_classification(100)"
   ]
  },
  {
   "cell_type": "code",
   "execution_count": 3,
   "id": "44bcb016",
   "metadata": {
    "ExecuteTime": {
     "end_time": "2023-09-25T11:36:51.786696Z",
     "start_time": "2023-09-25T11:36:51.772540Z"
    }
   },
   "outputs": [],
   "source": [
    "model = DecisionTreeClassifier().fit(X, y, 3)"
   ]
  },
  {
   "cell_type": "code",
   "execution_count": 4,
   "id": "5968caaa",
   "metadata": {
    "ExecuteTime": {
     "end_time": "2023-09-25T11:23:34.278369Z",
     "start_time": "2023-09-25T11:23:34.273020Z"
    }
   },
   "outputs": [
    {
     "ename": "SyntaxError",
     "evalue": "invalid syntax (1300801892.py, line 1)",
     "output_type": "error",
     "traceback": [
      "\u001b[0;36m  Cell \u001b[0;32mIn[4], line 1\u001b[0;36m\u001b[0m\n\u001b[0;31m    def _as_json(node decimals: int = 2) -> str:\u001b[0m\n\u001b[0m                      ^\u001b[0m\n\u001b[0;31mSyntaxError\u001b[0m\u001b[0;31m:\u001b[0m invalid syntax\n"
     ]
    }
   ],
   "source": [
    "def _as_json(node decimals: int = 2) -> str:\n",
    "        \n",
    "        feature = 0\n",
    "        threshold = 0\n",
    "        n_samples = 0\n",
    "        \n",
    "        if node.left is None and node.right is None:\n",
    "            # If it's a leaf, create a JSON-like string for the leaf\n",
    "            return f'{{\"value\": {int(node.value)}, \"n_samples\": {node.n_samples}, \"mse\": {round(float(node.mse), decimals)}}}'\n",
    "\n",
    "        # Convert NumPy integers to Python integers\n",
    "        feature = int(node.feature)\n",
    "        threshold = int(node.threshold)\n",
    "        n_samples = int(node.n_samples)\n",
    "\n",
    "        # Create a JSON-like string for the current node and recursively for left and right subtrees\n",
    "        return f'{{\"feature\": {feature}, \"threshold\": {round(threshold, decimals)}, \"n_samples\": {n_samples}, \"mse\": {round(float(node.mse), decimals)}, ' \\\n",
    "               f'\"left\": {self._as_json(node.left, decimals=decimals)}, \"right\": {self._as_json(node.right, decimals=decimals)}}}'"
   ]
  },
  {
   "cell_type": "code",
   "execution_count": 2,
   "id": "235e2a14",
   "metadata": {
    "ExecuteTime": {
     "end_time": "2023-09-19T14:04:02.039875Z",
     "start_time": "2023-09-19T14:04:02.009187Z"
    }
   },
   "outputs": [
    {
     "ename": "NameError",
     "evalue": "name 'model' is not defined",
     "output_type": "error",
     "traceback": [
      "\u001b[0;31m---------------------------------------------------------------------------\u001b[0m",
      "\u001b[0;31mNameError\u001b[0m                                 Traceback (most recent call last)",
      "Cell \u001b[0;32mIn[2], line 1\u001b[0m\n\u001b[0;32m----> 1\u001b[0m (\u001b[43mmodel\u001b[49m\u001b[38;5;241m.\u001b[39mtree_\u001b[38;5;241m.\u001b[39mchildren_left[\u001b[38;5;241m22\u001b[39m] \u001b[38;5;241m==\u001b[39m \u001b[38;5;241m-\u001b[39m\u001b[38;5;241m1\u001b[39m\\\n\u001b[1;32m      2\u001b[0m                     \u001b[38;5;129;01mand\u001b[39;00m model\u001b[38;5;241m.\u001b[39mtree_\u001b[38;5;241m.\u001b[39mchildren_right[\u001b[38;5;241m22\u001b[39m] \u001b[38;5;241m==\u001b[39m \u001b[38;5;241m-\u001b[39m\u001b[38;5;241m1\u001b[39m)\n",
      "\u001b[0;31mNameError\u001b[0m: name 'model' is not defined"
     ]
    }
   ],
   "source": [
    "(model.tree_.children_left[22] == -1\\\n",
    "                    and model.tree_.children_right[22] == -1)"
   ]
  },
  {
   "cell_type": "code",
   "execution_count": 35,
   "id": "a0e6c6f5",
   "metadata": {
    "ExecuteTime": {
     "end_time": "2023-09-19T14:22:51.617015Z",
     "start_time": "2023-09-19T14:22:51.614711Z"
    }
   },
   "outputs": [],
   "source": [
    "node_index = model.tree_.node_count "
   ]
  },
  {
   "cell_type": "code",
   "execution_count": 34,
   "id": "2e01b068",
   "metadata": {
    "ExecuteTime": {
     "end_time": "2023-09-19T14:22:47.782647Z",
     "start_time": "2023-09-19T14:22:47.768667Z"
    }
   },
   "outputs": [
    {
     "ename": "IndexError",
     "evalue": "index 22 is out of bounds for axis 0 with size 21",
     "output_type": "error",
     "traceback": [
      "\u001b[0;31m---------------------------------------------------------------------------\u001b[0m",
      "\u001b[0;31mIndexError\u001b[0m                                Traceback (most recent call last)",
      "Cell \u001b[0;32mIn[34], line 1\u001b[0m\n\u001b[0;32m----> 1\u001b[0m \u001b[43mmodel\u001b[49m\u001b[38;5;241;43m.\u001b[39;49m\u001b[43mtree_\u001b[49m\u001b[38;5;241;43m.\u001b[39;49m\u001b[43mchildren_left\u001b[49m\u001b[43m[\u001b[49m\u001b[43mnode_index\u001b[49m\u001b[43m]\u001b[49m \u001b[38;5;241m==\u001b[39m \u001b[38;5;241m-\u001b[39m\u001b[38;5;241m1\u001b[39m\\\n\u001b[1;32m      2\u001b[0m             \u001b[38;5;129;01mand\u001b[39;00m model\u001b[38;5;241m.\u001b[39mtree_\u001b[38;5;241m.\u001b[39mchildren_right[node_index] \u001b[38;5;241m==\u001b[39m \u001b[38;5;241m-\u001b[39m\u001b[38;5;241m1\u001b[39m\n",
      "\u001b[0;31mIndexError\u001b[0m: index 22 is out of bounds for axis 0 with size 21"
     ]
    }
   ],
   "source": [
    "model.tree_.children_left[node_index] == -1\\\n",
    "            and model.tree_.children_right[node_index] == -1"
   ]
  },
  {
   "cell_type": "code",
   "execution_count": 30,
   "id": "588014f7",
   "metadata": {
    "ExecuteTime": {
     "end_time": "2023-09-25T11:32:35.630598Z",
     "start_time": "2023-09-25T11:32:35.615100Z"
    }
   },
   "outputs": [
    {
     "data": {
      "text/plain": [
       "{'max_depth': 5,\n",
       " 'node_count': 17,\n",
       " 'nodes': array([( 1, 10,  1, -0.09715516, 0.5       , 100, 300.),\n",
       "        ( 2,  3,  1, -0.8215712 , 0.17087932,  53, 159.),\n",
       "        (-1, -1, -2, -2.        , 0.        ,  39, 117.),\n",
       "        ( 4,  5, 16,  0.0209375 , 0.45918367,  14,  42.),\n",
       "        (-1, -1, -2, -2.        , 0.        ,   6,  18.),\n",
       "        ( 6,  9,  6,  1.31068486, 0.46875   ,   8,  24.),\n",
       "        ( 7,  8, 13,  1.1610173 , 0.27777778,   6,  18.),\n",
       "        (-1, -1, -2, -2.        , 0.        ,   5,  15.),\n",
       "        (-1, -1, -2, -2.        , 0.        ,   1,   3.),\n",
       "        (-1, -1, -2, -2.        , 0.        ,   2,   6.),\n",
       "        (11, 16, 10,  2.01289433, 0.08148483,  47, 141.),\n",
       "        (12, 13,  0,  2.15341163, 0.04253308,  46, 138.),\n",
       "        (-1, -1, -2, -2.        , 0.        ,  44, 132.),\n",
       "        (14, 15, 14,  0.26362146, 0.5       ,   2,   6.),\n",
       "        (-1, -1, -2, -2.        , 0.        ,   1,   3.),\n",
       "        (-1, -1, -2, -2.        , 0.        ,   1,   3.),\n",
       "        (-1, -1, -2, -2.        , 0.        ,   1,   3.)],\n",
       "       dtype=[('left_child', '<i8'), ('right_child', '<i8'), ('feature', '<i8'), ('threshold', '<f8'), ('impurity', '<f8'), ('n_node_samples', '<i8'), ('weighted_n_node_samples', '<f8')]),\n",
       " 'values': array([[[150., 150.]],\n",
       " \n",
       "        [[144.,  15.]],\n",
       " \n",
       "        [[117.,   0.]],\n",
       " \n",
       "        [[ 27.,  15.]],\n",
       " \n",
       "        [[ 18.,   0.]],\n",
       " \n",
       "        [[  9.,  15.]],\n",
       " \n",
       "        [[  3.,  15.]],\n",
       " \n",
       "        [[  0.,  15.]],\n",
       " \n",
       "        [[  3.,   0.]],\n",
       " \n",
       "        [[  6.,   0.]],\n",
       " \n",
       "        [[  6., 135.]],\n",
       " \n",
       "        [[  3., 135.]],\n",
       " \n",
       "        [[  0., 132.]],\n",
       " \n",
       "        [[  3.,   3.]],\n",
       " \n",
       "        [[  0.,   3.]],\n",
       " \n",
       "        [[  3.,   0.]],\n",
       " \n",
       "        [[  3.,   0.]]])}"
      ]
     },
     "execution_count": 30,
     "metadata": {},
     "output_type": "execute_result"
    }
   ],
   "source": [
    "model.tree_.__getstate__()"
   ]
  },
  {
   "cell_type": "code",
   "execution_count": 4,
   "id": "1d82be5b",
   "metadata": {
    "ExecuteTime": {
     "end_time": "2023-09-25T11:36:56.632983Z",
     "start_time": "2023-09-25T11:36:56.619070Z"
    }
   },
   "outputs": [],
   "source": [
    "def convert_tree_to_json(tree, feature_names=None, node_index=0):\n",
    "    \"\"\"hello kitty\"\"\"\n",
    "    tree = tree.tree_\n",
    "    feature_names = feature_names or [\n",
    "        f\"feature_{i}\" for i in range(tree.n_features)]\n",
    "\n",
    "    def recurse(node):\n",
    "        if tree.children_left[node] != tree.children_right[node]:\n",
    "            feature_index = tree.feature[node]\n",
    "            threshold = round(tree.threshold[node], 4)\n",
    "            left = recurse(tree.children_left[node])\n",
    "            right = recurse(tree.children_right[node])\n",
    "\n",
    "            return (f'{{ \"feature_index\": {feature_index},'\n",
    "                    f' \"threshold\": {threshold},'\n",
    "                    f'\"left\": {left}, \"right\": {right} }}')\n",
    "\n",
    "        else:\n",
    "            class_label = int(tree.value[node].argmax())\n",
    "\n",
    "            return f'{{ \"class\": {class_label} }}'\n",
    "\n",
    "    tree_str = recurse(node_index)\n",
    "    return tree_str"
   ]
  },
  {
   "cell_type": "code",
   "execution_count": 5,
   "id": "ed5b7996",
   "metadata": {
    "ExecuteTime": {
     "end_time": "2023-09-25T11:36:57.618711Z",
     "start_time": "2023-09-25T11:36:57.606939Z"
    }
   },
   "outputs": [
    {
     "data": {
      "text/plain": [
       "'{ \"feature_index\": 9, \"threshold\": -0.242,\"left\": { \"feature_index\": 11, \"threshold\": 1.2294,\"left\": { \"feature_index\": 15, \"threshold\": -1.2437,\"left\": { \"feature_index\": 11, \"threshold\": 0.16,\"left\": { \"class\": 0 }, \"right\": { \"class\": 1 } }, \"right\": { \"class\": 0 } }, \"right\": { \"feature_index\": 9, \"threshold\": -1.3069,\"left\": { \"class\": 0 }, \"right\": { \"class\": 1 } } }, \"right\": { \"feature_index\": 14, \"threshold\": 1.995,\"left\": { \"class\": 1 }, \"right\": { \"class\": 0 } } }'"
      ]
     },
     "execution_count": 5,
     "metadata": {},
     "output_type": "execute_result"
    }
   ],
   "source": [
    "convert_tree_to_json(model)"
   ]
  },
  {
   "cell_type": "code",
   "execution_count": 6,
   "id": "9ebff66b",
   "metadata": {
    "ExecuteTime": {
     "end_time": "2023-09-25T11:37:06.355193Z",
     "start_time": "2023-09-25T11:37:06.349704Z"
    }
   },
   "outputs": [],
   "source": [
    "def convert_tree_to_json(tree, feature_names=None, node_index=0):\n",
    "    \"\"\"hello kitty\"\"\"\n",
    "    tree = tree.tree_\n",
    "    feature_names = feature_names or [\n",
    "        f\"feature_{i}\" for i in range(tree.n_features)]\n",
    "\n",
    "    def recurse(node):\n",
    "        if tree.children_left[node] != tree.children_right[node]:\n",
    "            feature_index = tree.feature[node]\n",
    "            threshold = round(tree.threshold[node], 4)\n",
    "            left = recurse(tree.children_left[node])\n",
    "            right = recurse(tree.children_right[node])\n",
    "\n",
    "            return str(f'{{ \"feature_index\": {feature_index},'\n",
    "                    f' \"threshold\": {threshold},'\n",
    "                    f'\"left\": {left}, \"right\": {right} }}')\n",
    "                \n",
    "        else:\n",
    "            class_label = int(tree.value[node].argmax())\n",
    "\n",
    "            return f'{{ \"class\": {class_label} }}'\n",
    "\n",
    "    tree_str = recurse(node_index)\n",
    "    return tree_str\n"
   ]
  },
  {
   "cell_type": "code",
   "execution_count": 28,
   "id": "e76edb43",
   "metadata": {
    "ExecuteTime": {
     "end_time": "2023-09-25T11:50:17.098900Z",
     "start_time": "2023-09-25T11:50:17.092652Z"
    }
   },
   "outputs": [],
   "source": [
    "import json\n",
    "\n",
    "\n",
    "def convert_tree_to_json(tree, feature_names=None, node_index=0):\n",
    "    \"\"\"hello kitty\"\"\"\n",
    "    tree = tree.tree_\n",
    "    feature_names = feature_names or [\n",
    "        f\"feature_{i}\" for i in range(tree.n_features)]\n",
    "\n",
    "    def recurse(node):\n",
    "        if tree.children_left[node] != tree.children_right[node]:\n",
    "            feature_index = tree.feature[node]\n",
    "            threshold = round(tree.threshold[node], 4)\n",
    "            left = recurse(tree.children_left[node])\n",
    "            right = recurse(tree.children_right[node])\n",
    "\n",
    "            return (f'{{ \"feature_index\": {feature_index},'\n",
    "                    f' \"threshold\": {threshold},'\n",
    "                    f'\"left\": {left}, \"right\": {right} }}')\n",
    "\n",
    "        else:\n",
    "            class_label = int(tree.value[node].argmax())\n",
    "\n",
    "            return f'{{ \"class\": {class_label} }}'\n",
    "\n",
    "    tree_str = recurse(node_index)\n",
    "    return tree_str\n",
    "\n",
    "\n",
    "def generate_sql_query(tree_json_str: str, feature_names: list) -> str:\n",
    "    def parse_json(node_str):\n",
    "        node = eval(str(node_str))  # Используем eval для разбора JSON-строки\n",
    "        if \"feature_index\" in node:\n",
    "            feature_name = feature_names[node[\"feature_index\"]]\n",
    "            threshold = node[\"threshold\"]\n",
    "            left = parse_json(node[\"left\"])\n",
    "            right = parse_json(node[\"right\"])\n",
    "            return f\"CASE WHEN {feature_name} > {threshold} THEN {left} ELSE {right} END\"\n",
    "        elif \"class\" in node:\n",
    "            class_label = class_labels[node[\"class\"]]\n",
    "            return str(class_label)\n",
    "        else:\n",
    "            raise ValueError(\"Неверный формат JSON\")\n",
    "\n",
    "    class_labels = {0: \"0\", 1: \"1\"}  # Замените на ваше представление классов\n",
    "    where_clause = parse_json(tree_json_str)\n",
    "    sql_query = f\"SELECT {where_clause} AS CLASS_LABEL;\"\n",
    "    return sql_query\n",
    "\n"
   ]
  },
  {
   "cell_type": "code",
   "execution_count": 19,
   "id": "2de0a4c3",
   "metadata": {
    "ExecuteTime": {
     "end_time": "2023-09-25T11:47:19.572733Z",
     "start_time": "2023-09-25T11:47:19.569937Z"
    }
   },
   "outputs": [],
   "source": [
    "mod = convert_tree_to_json(model)"
   ]
  },
  {
   "cell_type": "code",
   "execution_count": 27,
   "id": "fcca00e7",
   "metadata": {
    "ExecuteTime": {
     "end_time": "2023-09-25T11:49:17.667755Z",
     "start_time": "2023-09-25T11:49:17.661219Z"
    }
   },
   "outputs": [
    {
     "data": {
      "text/plain": [
       "{'feature_index': 9,\n",
       " 'threshold': -0.242,\n",
       " 'left': {'feature_index': 11,\n",
       "  'threshold': 1.2294,\n",
       "  'left': {'feature_index': 15,\n",
       "   'threshold': -1.2437,\n",
       "   'left': {'feature_index': 11,\n",
       "    'threshold': 0.16,\n",
       "    'left': {'class': 0},\n",
       "    'right': {'class': 1}},\n",
       "   'right': {'class': 0}},\n",
       "  'right': {'feature_index': 9,\n",
       "   'threshold': -1.3069,\n",
       "   'left': {'class': 0},\n",
       "   'right': {'class': 1}}},\n",
       " 'right': {'feature_index': 14,\n",
       "  'threshold': 1.995,\n",
       "  'left': {'class': 1},\n",
       "  'right': {'class': 0}}}"
      ]
     },
     "execution_count": 27,
     "metadata": {},
     "output_type": "execute_result"
    }
   ],
   "source": [
    "eval(mod)"
   ]
  },
  {
   "cell_type": "code",
   "execution_count": 29,
   "id": "672a6893",
   "metadata": {
    "ExecuteTime": {
     "end_time": "2023-09-25T11:50:19.640950Z",
     "start_time": "2023-09-25T11:50:19.627831Z"
    }
   },
   "outputs": [
    {
     "name": "stdout",
     "output_type": "stream",
     "text": [
      "9\n",
      "11\n",
      "15\n",
      "11\n",
      "9\n",
      "14\n",
      "SELECT CASE WHEN FEATURE_0 > -0.242 THEN CASE WHEN FEATURE_0 > 1.2294 THEN CASE WHEN FEATURE_0 > -1.2437 THEN CASE WHEN FEATURE_0 > 0.16 THEN 0 ELSE 1 END ELSE 0 END ELSE CASE WHEN FEATURE_0 > -1.3069 THEN 0 ELSE 1 END END ELSE CASE WHEN FEATURE_0 > 1.995 THEN 1 ELSE 0 END END AS CLASS_LABEL;\n"
     ]
    }
   ],
   "source": [
    "feature_names = [\"FEATURE_0\"] * 100\n",
    "\n",
    "sql_query = generate_sql_query(mod, feature_names)\n",
    "print(sql_query)"
   ]
  },
  {
   "cell_type": "code",
   "execution_count": 159,
   "id": "3f536b02",
   "metadata": {
    "ExecuteTime": {
     "end_time": "2023-09-19T16:43:18.994665Z",
     "start_time": "2023-09-19T16:43:18.989512Z"
    }
   },
   "outputs": [
    {
     "data": {
      "text/plain": [
       "False"
      ]
     },
     "execution_count": 159,
     "metadata": {},
     "output_type": "execute_result"
    },
    {
     "data": {
      "text/plain": [
       "False"
      ]
     },
     "execution_count": 159,
     "metadata": {},
     "output_type": "execute_result"
    }
   ],
   "source": [
    "'SELECT CASE WHEN FEATURE_1 > 0.3283 THEN CASE WHEN FEATURE_2 > 0.3727 THEN 0 ELSE CASE WHEN FEATURE_1 > -0.0435 THEN 1 ELSE CASE WHEN FEATURE_1 > 0.2302 THEN 0 ELSE 1 END END END ELSE CASE WHEN FEATURE_2 > 1.889 THEN CASE WHEN FEATURE_2 > 0.101 THEN CASE WHEN FEATURE_1 > 0.6383 THEN 0 ELSE 1 END ELSE CASE WHEN FEATURE_1 > 1.6105 THEN 1 ELSE CASE WHEN FEATURE_1 > 1.6258 THEN 0 ELSE 1 END END END ELSE 0 END END AS CLASS_LABEL. ' == \\\n",
    "'SELECT CASE WHEN FEATURE_1 > 0.3283 THEN CASE WHEN FEATURE_2 > 1.889 THEN 0 ELSE CASE WHEN FEATURE_2 > 0.101 THEN CASE WHEN FEATURE_1 > 1.6105 THEN CASE WHEN FEATURE_1 > 1.6258 THEN 1 ELSE 0 END ELSE 1 END ELSE CASE WHEN FEATURE_1 > 0.6383 THEN 1 ELSE 0 END END END ELSE CASE WHEN FEATURE_2 > 0.3727 THEN CASE WHEN FEATURE_1 > -0.0435 THEN CASE WHEN FEATURE_1 > 0.2302 THEN 1 ELSE 0 END ELSE 1 END ELSE 0 END END AS CLASS_LABEL.'"
   ]
  },
  {
   "cell_type": "code",
   "execution_count": 31,
   "id": "f6e930f6",
   "metadata": {
    "ExecuteTime": {
     "end_time": "2023-09-25T11:32:40.882726Z",
     "start_time": "2023-09-25T11:32:40.810450Z"
    }
   },
   "outputs": [
    {
     "ename": "TypeError",
     "evalue": "Object of type longlong is not JSON serializable",
     "output_type": "error",
     "traceback": [
      "\u001b[0;31m---------------------------------------------------------------------------\u001b[0m",
      "\u001b[0;31mTypeError\u001b[0m                                 Traceback (most recent call last)",
      "Cell \u001b[0;32mIn[31], line 1\u001b[0m\n\u001b[0;32m----> 1\u001b[0m \u001b[43mconvert_tree_to_json\u001b[49m\u001b[43m(\u001b[49m\u001b[43mmodel\u001b[49m\u001b[43m)\u001b[49m\n",
      "Cell \u001b[0;32mIn[28], line 28\u001b[0m, in \u001b[0;36mconvert_tree_to_json\u001b[0;34m(tree, feature_names, node_index)\u001b[0m\n\u001b[1;32m     23\u001b[0m         \u001b[38;5;28;01mreturn\u001b[39;00m {\n\u001b[1;32m     24\u001b[0m             \u001b[38;5;124m\"\u001b[39m\u001b[38;5;124mclass\u001b[39m\u001b[38;5;124m\"\u001b[39m: class_label\n\u001b[1;32m     25\u001b[0m         }\n\u001b[1;32m     27\u001b[0m tree_json \u001b[38;5;241m=\u001b[39m recurse(node_index)\n\u001b[0;32m---> 28\u001b[0m \u001b[38;5;28;01mreturn\u001b[39;00m \u001b[43mjson\u001b[49m\u001b[38;5;241;43m.\u001b[39;49m\u001b[43mdumps\u001b[49m\u001b[43m(\u001b[49m\u001b[43mtree_json\u001b[49m\u001b[43m)\u001b[49m\n",
      "File \u001b[0;32m/usr/lib/python3.10/json/__init__.py:231\u001b[0m, in \u001b[0;36mdumps\u001b[0;34m(obj, skipkeys, ensure_ascii, check_circular, allow_nan, cls, indent, separators, default, sort_keys, **kw)\u001b[0m\n\u001b[1;32m    226\u001b[0m \u001b[38;5;66;03m# cached encoder\u001b[39;00m\n\u001b[1;32m    227\u001b[0m \u001b[38;5;28;01mif\u001b[39;00m (\u001b[38;5;129;01mnot\u001b[39;00m skipkeys \u001b[38;5;129;01mand\u001b[39;00m ensure_ascii \u001b[38;5;129;01mand\u001b[39;00m\n\u001b[1;32m    228\u001b[0m     check_circular \u001b[38;5;129;01mand\u001b[39;00m allow_nan \u001b[38;5;129;01mand\u001b[39;00m\n\u001b[1;32m    229\u001b[0m     \u001b[38;5;28mcls\u001b[39m \u001b[38;5;129;01mis\u001b[39;00m \u001b[38;5;28;01mNone\u001b[39;00m \u001b[38;5;129;01mand\u001b[39;00m indent \u001b[38;5;129;01mis\u001b[39;00m \u001b[38;5;28;01mNone\u001b[39;00m \u001b[38;5;129;01mand\u001b[39;00m separators \u001b[38;5;129;01mis\u001b[39;00m \u001b[38;5;28;01mNone\u001b[39;00m \u001b[38;5;129;01mand\u001b[39;00m\n\u001b[1;32m    230\u001b[0m     default \u001b[38;5;129;01mis\u001b[39;00m \u001b[38;5;28;01mNone\u001b[39;00m \u001b[38;5;129;01mand\u001b[39;00m \u001b[38;5;129;01mnot\u001b[39;00m sort_keys \u001b[38;5;129;01mand\u001b[39;00m \u001b[38;5;129;01mnot\u001b[39;00m kw):\n\u001b[0;32m--> 231\u001b[0m     \u001b[38;5;28;01mreturn\u001b[39;00m \u001b[43m_default_encoder\u001b[49m\u001b[38;5;241;43m.\u001b[39;49m\u001b[43mencode\u001b[49m\u001b[43m(\u001b[49m\u001b[43mobj\u001b[49m\u001b[43m)\u001b[49m\n\u001b[1;32m    232\u001b[0m \u001b[38;5;28;01mif\u001b[39;00m \u001b[38;5;28mcls\u001b[39m \u001b[38;5;129;01mis\u001b[39;00m \u001b[38;5;28;01mNone\u001b[39;00m:\n\u001b[1;32m    233\u001b[0m     \u001b[38;5;28mcls\u001b[39m \u001b[38;5;241m=\u001b[39m JSONEncoder\n",
      "File \u001b[0;32m/usr/lib/python3.10/json/encoder.py:199\u001b[0m, in \u001b[0;36mJSONEncoder.encode\u001b[0;34m(self, o)\u001b[0m\n\u001b[1;32m    195\u001b[0m         \u001b[38;5;28;01mreturn\u001b[39;00m encode_basestring(o)\n\u001b[1;32m    196\u001b[0m \u001b[38;5;66;03m# This doesn't pass the iterator directly to ''.join() because the\u001b[39;00m\n\u001b[1;32m    197\u001b[0m \u001b[38;5;66;03m# exceptions aren't as detailed.  The list call should be roughly\u001b[39;00m\n\u001b[1;32m    198\u001b[0m \u001b[38;5;66;03m# equivalent to the PySequence_Fast that ''.join() would do.\u001b[39;00m\n\u001b[0;32m--> 199\u001b[0m chunks \u001b[38;5;241m=\u001b[39m \u001b[38;5;28;43mself\u001b[39;49m\u001b[38;5;241;43m.\u001b[39;49m\u001b[43miterencode\u001b[49m\u001b[43m(\u001b[49m\u001b[43mo\u001b[49m\u001b[43m,\u001b[49m\u001b[43m \u001b[49m\u001b[43m_one_shot\u001b[49m\u001b[38;5;241;43m=\u001b[39;49m\u001b[38;5;28;43;01mTrue\u001b[39;49;00m\u001b[43m)\u001b[49m\n\u001b[1;32m    200\u001b[0m \u001b[38;5;28;01mif\u001b[39;00m \u001b[38;5;129;01mnot\u001b[39;00m \u001b[38;5;28misinstance\u001b[39m(chunks, (\u001b[38;5;28mlist\u001b[39m, \u001b[38;5;28mtuple\u001b[39m)):\n\u001b[1;32m    201\u001b[0m     chunks \u001b[38;5;241m=\u001b[39m \u001b[38;5;28mlist\u001b[39m(chunks)\n",
      "File \u001b[0;32m/usr/lib/python3.10/json/encoder.py:257\u001b[0m, in \u001b[0;36mJSONEncoder.iterencode\u001b[0;34m(self, o, _one_shot)\u001b[0m\n\u001b[1;32m    252\u001b[0m \u001b[38;5;28;01melse\u001b[39;00m:\n\u001b[1;32m    253\u001b[0m     _iterencode \u001b[38;5;241m=\u001b[39m _make_iterencode(\n\u001b[1;32m    254\u001b[0m         markers, \u001b[38;5;28mself\u001b[39m\u001b[38;5;241m.\u001b[39mdefault, _encoder, \u001b[38;5;28mself\u001b[39m\u001b[38;5;241m.\u001b[39mindent, floatstr,\n\u001b[1;32m    255\u001b[0m         \u001b[38;5;28mself\u001b[39m\u001b[38;5;241m.\u001b[39mkey_separator, \u001b[38;5;28mself\u001b[39m\u001b[38;5;241m.\u001b[39mitem_separator, \u001b[38;5;28mself\u001b[39m\u001b[38;5;241m.\u001b[39msort_keys,\n\u001b[1;32m    256\u001b[0m         \u001b[38;5;28mself\u001b[39m\u001b[38;5;241m.\u001b[39mskipkeys, _one_shot)\n\u001b[0;32m--> 257\u001b[0m \u001b[38;5;28;01mreturn\u001b[39;00m \u001b[43m_iterencode\u001b[49m\u001b[43m(\u001b[49m\u001b[43mo\u001b[49m\u001b[43m,\u001b[49m\u001b[43m \u001b[49m\u001b[38;5;241;43m0\u001b[39;49m\u001b[43m)\u001b[49m\n",
      "File \u001b[0;32m/usr/lib/python3.10/json/encoder.py:179\u001b[0m, in \u001b[0;36mJSONEncoder.default\u001b[0;34m(self, o)\u001b[0m\n\u001b[1;32m    160\u001b[0m \u001b[38;5;28;01mdef\u001b[39;00m \u001b[38;5;21mdefault\u001b[39m(\u001b[38;5;28mself\u001b[39m, o):\n\u001b[1;32m    161\u001b[0m \u001b[38;5;250m    \u001b[39m\u001b[38;5;124;03m\"\"\"Implement this method in a subclass such that it returns\u001b[39;00m\n\u001b[1;32m    162\u001b[0m \u001b[38;5;124;03m    a serializable object for ``o``, or calls the base implementation\u001b[39;00m\n\u001b[1;32m    163\u001b[0m \u001b[38;5;124;03m    (to raise a ``TypeError``).\u001b[39;00m\n\u001b[0;32m   (...)\u001b[0m\n\u001b[1;32m    177\u001b[0m \n\u001b[1;32m    178\u001b[0m \u001b[38;5;124;03m    \"\"\"\u001b[39;00m\n\u001b[0;32m--> 179\u001b[0m     \u001b[38;5;28;01mraise\u001b[39;00m \u001b[38;5;167;01mTypeError\u001b[39;00m(\u001b[38;5;124mf\u001b[39m\u001b[38;5;124m'\u001b[39m\u001b[38;5;124mObject of type \u001b[39m\u001b[38;5;132;01m{\u001b[39;00mo\u001b[38;5;241m.\u001b[39m\u001b[38;5;18m__class__\u001b[39m\u001b[38;5;241m.\u001b[39m\u001b[38;5;18m__name__\u001b[39m\u001b[38;5;132;01m}\u001b[39;00m\u001b[38;5;124m \u001b[39m\u001b[38;5;124m'\u001b[39m\n\u001b[1;32m    180\u001b[0m                     \u001b[38;5;124mf\u001b[39m\u001b[38;5;124m'\u001b[39m\u001b[38;5;124mis not JSON serializable\u001b[39m\u001b[38;5;124m'\u001b[39m)\n",
      "\u001b[0;31mTypeError\u001b[0m: Object of type longlong is not JSON serializable"
     ]
    }
   ],
   "source": [
    "convert_tree_to_json(model)"
   ]
  }
 ],
 "metadata": {
  "kernelspec": {
   "display_name": "Python 3 (ipykernel)",
   "language": "python",
   "name": "python3"
  },
  "language_info": {
   "codemirror_mode": {
    "name": "ipython",
    "version": 3
   },
   "file_extension": ".py",
   "mimetype": "text/x-python",
   "name": "python",
   "nbconvert_exporter": "python",
   "pygments_lexer": "ipython3",
   "version": "3.10.12"
  },
  "varInspector": {
   "cols": {
    "lenName": 16,
    "lenType": 16,
    "lenVar": 40
   },
   "kernels_config": {
    "python": {
     "delete_cmd_postfix": "",
     "delete_cmd_prefix": "del ",
     "library": "var_list.py",
     "varRefreshCmd": "print(var_dic_list())"
    },
    "r": {
     "delete_cmd_postfix": ") ",
     "delete_cmd_prefix": "rm(",
     "library": "var_list.r",
     "varRefreshCmd": "cat(var_dic_list()) "
    }
   },
   "types_to_exclude": [
    "module",
    "function",
    "builtin_function_or_method",
    "instance",
    "_Feature"
   ],
   "window_display": false
  }
 },
 "nbformat": 4,
 "nbformat_minor": 5
}
