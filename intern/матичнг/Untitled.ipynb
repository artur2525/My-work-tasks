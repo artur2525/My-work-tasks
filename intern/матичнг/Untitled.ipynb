{
 "cells": [
  {
   "cell_type": "code",
   "execution_count": 1,
   "id": "daff62e5",
   "metadata": {
    "ExecuteTime": {
     "end_time": "2023-08-24T09:53:04.538695Z",
     "start_time": "2023-08-24T09:53:04.517518Z"
    }
   },
   "outputs": [],
   "source": [
    "from typing import List\n",
    "from typing import Tuple\n",
    "\n",
    "\n",
    "def extend_matches(pairs: List[Tuple[int, int]]) -> List[Tuple[int, int]]:\n",
    "    ''' return real pairs '''\n",
    "    if pairs == []:\n",
    "\n",
    "        return []\n",
    "\n",
    "    elif len(pairs) == 1:\n",
    "\n",
    "        return pairs\n",
    "\n",
    "    else:\n",
    "        unique_values = list(set(val for tup in pairs for val in tup))\n",
    "        print(unique_values)\n",
    "        dict_pairs = {}\n",
    "        values = []\n",
    "        for i in unique_values:\n",
    "            for j in pairs:\n",
    "                if i in j:\n",
    "                    (num1, num2) = j\n",
    "                    values.append(num1)\n",
    "                    values.append(num2)\n",
    "\n",
    "            dict_pairs[i] = set(values)\n",
    "            values = []\n",
    "        print(dict_pairs)    \n",
    "        new_pairs = [] \n",
    "        \n",
    "        for i in dict_pairs:\n",
    "            for j in dict_pairs:\n",
    "                if dict_pairs[i].isdisjoint(dict_pairs[j]) == False:\n",
    "                    abd = dict_pairs[i] | dict_pairs[j]\n",
    "                    #if len(abd) < len(set(dict_pairs[i] | dict_pairs[j])) and abd != set():\n",
    "                    for k in abd:\n",
    "                        if i < k:\n",
    "                            new_pairs.append((i, k)) \n",
    "        \n",
    "        return sorted(list(set(new_pairs)))"
   ]
  },
  {
   "cell_type": "code",
   "execution_count": 16,
   "id": "7d3a8a0a",
   "metadata": {
    "ExecuteTime": {
     "end_time": "2023-08-24T10:02:30.771558Z",
     "start_time": "2023-08-24T10:02:30.766408Z"
    }
   },
   "outputs": [],
   "source": [
    "from typing import Callable\n",
    "import functools\n",
    "import hashlib\n",
    "import pickle\n",
    "\n",
    "def memoize(func: Callable) -> Callable:\n",
    "    \"\"\"Memoize function\"\"\"\n",
    "    cache = {}\n",
    "    \n",
    "    @functools.wraps(func)\n",
    "    def wrapper(*args, **kwargs):\n",
    "        \"\"\"Создаем уникальный хеш из аргументов\"\"\"\n",
    "        key = hashlib.sha256(pickle.dumps((args, kwargs))).hexdigest()\n",
    "        # Проверяем, есть ли сохраненное значение для данного хеша\n",
    "        if key not in cache:\n",
    "            # Вызываем функцию и сохраняем результат в кэше\n",
    "            cache[key] = func(*args, **kwargs)\n",
    "\n",
    "        return cache[key]\n",
    "\n",
    "    return wrapper"
   ]
  },
  {
   "cell_type": "code",
   "execution_count": 17,
   "id": "1de3aa70",
   "metadata": {
    "ExecuteTime": {
     "end_time": "2023-08-24T10:02:31.870652Z",
     "start_time": "2023-08-24T10:02:31.855759Z"
    }
   },
   "outputs": [],
   "source": [
    "from typing import List\n",
    "from typing import Tuple\n",
    "\n",
    "@memoize\n",
    "def extend_matches(pairs: List[Tuple[int, int]]) -> List[Tuple[int, int]]:\n",
    "    '''return real pairs'''\n",
    "    if pairs == []:\n",
    "\n",
    "        return []\n",
    "\n",
    "    elif len(pairs) == 1:\n",
    "\n",
    "        return pairs\n",
    "\n",
    "    else:\n",
    "        def sor(pairs):\n",
    "            new_pairs = []\n",
    "            values = []\n",
    "            for i in pairs:\n",
    "                for j in pairs:\n",
    "                    if set(i).isdisjoint(set(j)) == False:\n",
    "                        abd = tuple(set(i) | set(j))\n",
    "                        values.append(abd)\n",
    "                new_pairs.append(max(values, key=lambda i: len(i)))\n",
    "                values = []\n",
    "            return new_pairs\n",
    "\n",
    "        return sorted(set([ tuple(sorted(list(values)))\n",
    "                           for values in sor(sor(pairs)) ]))"
   ]
  },
  {
   "cell_type": "code",
   "execution_count": 18,
   "id": "ba99cec2",
   "metadata": {
    "ExecuteTime": {
     "end_time": "2023-08-24T10:02:33.356553Z",
     "start_time": "2023-08-24T10:02:33.349798Z"
    }
   },
   "outputs": [
    {
     "data": {
      "text/plain": [
       "[(1, 2, 7), (3, 4, 5, 8)]"
      ]
     },
     "execution_count": 18,
     "metadata": {},
     "output_type": "execute_result"
    }
   ],
   "source": [
    "pairs = [(5, 3, 4, 8), (1, 2), (7, 2)]\n",
    "# [(1, 2, 7), (3, 4, 5, 8)]\n",
    "extend_matches(pairs)"
   ]
  },
  {
   "cell_type": "code",
   "execution_count": 12,
   "id": "c12e495f",
   "metadata": {
    "ExecuteTime": {
     "end_time": "2023-08-28T19:07:00.173278Z",
     "start_time": "2023-08-28T19:07:00.165660Z"
    }
   },
   "outputs": [],
   "source": [
    "text = [['a b c', 'a b', 'a'], ['a b c', 'a b c', 'a b', 'a'], ['c c', 'b c', 'a']]"
   ]
  },
  {
   "cell_type": "code",
   "execution_count": 13,
   "id": "8aa4c6ef",
   "metadata": {
    "ExecuteTime": {
     "end_time": "2023-08-28T19:07:01.016897Z",
     "start_time": "2023-08-28T19:07:01.006375Z"
    }
   },
   "outputs": [],
   "source": [
    "def word_count(batch, count = None):\n",
    "    '''create right func'''\n",
    "    count = {}\n",
    "    for texts in batch:\n",
    "        for text in texts:\n",
    "            for words in text:\n",
    "                for word in words:\n",
    "                    if word != ' ': \n",
    "                    \tcount[word] = count.get(word, 0) + 1\n",
    "    return count"
   ]
  },
  {
   "cell_type": "code",
   "execution_count": 14,
   "id": "93eedbdc",
   "metadata": {
    "ExecuteTime": {
     "end_time": "2023-08-28T19:07:01.840920Z",
     "start_time": "2023-08-28T19:07:01.834445Z"
    }
   },
   "outputs": [],
   "source": [
    "count = {}"
   ]
  },
  {
   "cell_type": "code",
   "execution_count": 18,
   "id": "60b80409",
   "metadata": {
    "ExecuteTime": {
     "end_time": "2023-08-28T19:07:04.472986Z",
     "start_time": "2023-08-28T19:07:04.462537Z"
    }
   },
   "outputs": [
    {
     "data": {
      "text/plain": [
       "{'a': 8, 'b': 6, 'c': 6}"
      ]
     },
     "execution_count": 18,
     "metadata": {},
     "output_type": "execute_result"
    }
   ],
   "source": [
    "word_count(text,count)"
   ]
  },
  {
   "cell_type": "code",
   "execution_count": 42,
   "id": "41b53d98",
   "metadata": {
    "ExecuteTime": {
     "end_time": "2023-08-29T09:13:23.612126Z",
     "start_time": "2023-08-29T09:13:23.594813Z"
    }
   },
   "outputs": [],
   "source": [
    "import numpy as np\n",
    "from typing import List\n",
    "\n",
    "\n",
    "def recall_at_k(labels: List[int], scores: List[float], k=5) -> float:\n",
    "    '''top k metrics'''\n",
    "\n",
    "    sorted_predictions = sorted(\n",
    "        zip(scores, labels), key=lambda x: x[0], reverse=True)\n",
    "    labels = np.array([x[1] for x in sorted_predictions])\n",
    "    tp = len(labels[:k][labels[:k] == 1])\n",
    "    fn = len(labels[k:][labels[k:] == 1])\n",
    "    df = tp / (tp + fn)\n",
    "\n",
    "    return df\n",
    "\n",
    "\n",
    "def precision_at_k(labels: List[int], scores: List[float], k=5) -> float:\n",
    "    '''top k metrics'''\n",
    "    sorted_predictions = sorted(\n",
    "        zip(scores, labels), key=lambda x: x[0], reverse=True)\n",
    "    labels = np.array([x[1] for x in sorted_predictions])\n",
    "    tp = len(labels[:k][labels[:k] == 1])\n",
    "    fp = len(labels[:k][labels[:k] == 0])\n",
    "    df = tp / (tp + fp)\n",
    "\n",
    "    return df\n",
    "\n",
    "\n",
    "def specificity_at_k(labels: List[int], scores: List[float], k=5) -> float:\n",
    "    '''top k metrics'''\n",
    "    sorted_predictions = sorted(\n",
    "        zip(scores, labels), key=lambda x: x[0], reverse=True)\n",
    "    labels = np.array([x[1] for x in sorted_predictions])\n",
    "    tn = len(labels[k:][labels[k:] == 0])\n",
    "    fp = len(labels[:k][labels[:k] == 0])\n",
    "    if tn + fp == 0:\n",
    "        return 0\n",
    "    else:\n",
    "        df = tn / (tn + fp)\n",
    "\n",
    "    return df\n",
    "\n",
    "\n",
    "def f1_at_k(labels: List[int], scores: List[float], k=5) -> float:\n",
    "    '''top k metrics'''\n",
    "    pres = precision_at_k(labels, scores, k)\n",
    "    rec = recall_at_k(labels, scores, k)\n",
    "    if pres + rec == 0:\n",
    "        return 0\n",
    "    else:\n",
    "        df = (2 * pres * rec) / (pres + rec)\n",
    "\n",
    "    return df"
   ]
  },
  {
   "cell_type": "code",
   "execution_count": 46,
   "id": "6e69fc7b",
   "metadata": {
    "ExecuteTime": {
     "end_time": "2023-08-29T09:13:40.318946Z",
     "start_time": "2023-08-29T09:13:40.308702Z"
    }
   },
   "outputs": [],
   "source": [
    "labels = np.array([1, 0, 0, 1, 1, 0 ,0 ,0 ,0])\n",
    "scores = np.array([0.9, 0.8, 0.7, 0.6, 0.5])"
   ]
  },
  {
   "cell_type": "code",
   "execution_count": 28,
   "id": "dc9403df",
   "metadata": {
    "ExecuteTime": {
     "end_time": "2023-08-29T08:51:49.673901Z",
     "start_time": "2023-08-29T08:51:49.664025Z"
    }
   },
   "outputs": [
    {
     "data": {
      "text/plain": [
       "0.6"
      ]
     },
     "execution_count": 28,
     "metadata": {},
     "output_type": "execute_result"
    }
   ],
   "source": [
    "3 / (2 + 3)"
   ]
  },
  {
   "cell_type": "code",
   "execution_count": 56,
   "id": "fdc294c8",
   "metadata": {
    "ExecuteTime": {
     "end_time": "2023-08-29T09:19:49.247129Z",
     "start_time": "2023-08-29T09:19:49.237480Z"
    }
   },
   "outputs": [
    {
     "data": {
      "text/plain": [
       "array([1, 1, 1])"
      ]
     },
     "execution_count": 56,
     "metadata": {},
     "output_type": "execute_result"
    }
   ],
   "source": [
    "labels[:5][labels[:5] == 1]"
   ]
  },
  {
   "cell_type": "code",
   "execution_count": 10,
   "id": "7986c0c2",
   "metadata": {
    "ExecuteTime": {
     "end_time": "2023-08-29T08:37:20.071603Z",
     "start_time": "2023-08-29T08:37:20.061803Z"
    }
   },
   "outputs": [
    {
     "data": {
      "text/plain": [
       "1"
      ]
     },
     "execution_count": 10,
     "metadata": {},
     "output_type": "execute_result"
    }
   ],
   "source": [
    "labels[labels == 1]"
   ]
  },
  {
   "cell_type": "code",
   "execution_count": 47,
   "id": "a6f672ad",
   "metadata": {
    "ExecuteTime": {
     "end_time": "2023-08-29T09:13:42.386392Z",
     "start_time": "2023-08-29T09:13:42.376800Z"
    }
   },
   "outputs": [
    {
     "data": {
      "text/plain": [
       "0.0"
      ]
     },
     "execution_count": 47,
     "metadata": {},
     "output_type": "execute_result"
    }
   ],
   "source": [
    "specificity_at_k(labels, scores)"
   ]
  }
 ],
 "metadata": {
  "kernelspec": {
   "display_name": "Python 3 (ipykernel)",
   "language": "python",
   "name": "python3"
  },
  "language_info": {
   "codemirror_mode": {
    "name": "ipython",
    "version": 3
   },
   "file_extension": ".py",
   "mimetype": "text/x-python",
   "name": "python",
   "nbconvert_exporter": "python",
   "pygments_lexer": "ipython3",
   "version": "3.10.12"
  },
  "varInspector": {
   "cols": {
    "lenName": 16,
    "lenType": 16,
    "lenVar": 40
   },
   "kernels_config": {
    "python": {
     "delete_cmd_postfix": "",
     "delete_cmd_prefix": "del ",
     "library": "var_list.py",
     "varRefreshCmd": "print(var_dic_list())"
    },
    "r": {
     "delete_cmd_postfix": ") ",
     "delete_cmd_prefix": "rm(",
     "library": "var_list.r",
     "varRefreshCmd": "cat(var_dic_list()) "
    }
   },
   "types_to_exclude": [
    "module",
    "function",
    "builtin_function_or_method",
    "instance",
    "_Feature"
   ],
   "window_display": false
  }
 },
 "nbformat": 4,
 "nbformat_minor": 5
}
