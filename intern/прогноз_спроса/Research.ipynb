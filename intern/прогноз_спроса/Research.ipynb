{
 "cells": [
  {
   "cell_type": "code",
   "execution_count": 3,
   "id": "03397984",
   "metadata": {
    "ExecuteTime": {
     "end_time": "2023-08-22T11:36:24.477988Z",
     "start_time": "2023-08-22T11:36:24.474439Z"
    }
   },
   "outputs": [],
   "source": [
    "''' Мы работаем в компании X6. Наша задача – прогноз товарооборота бытовой техники: нужно понять, сколько каждого товара привезти на ту или иную точку для продажи. Допустим, поставки осуществляются раз в 3 месяца. Если привезем слишком мало, то весь товар скупят и новые клиенты не смогут купить нужную им технику. Из-за чего мы потеряем потенциальную прибыль (missed profit), так как не смогли покрыть спрос. Если привозим слишком много (а зачастую бытовая техника – крупногабаритный товар), то это ведёт к переполнению склада, что затрудняет ввоз более новых моделей техники.\n",
    "\n",
    "Что в данной ситуации предпочтительнее: привезти на склад больше чем нужно или меньше?\n",
    "\n",
    "Вам необходимо придумать функцию потерь, которая была бы адекватная для данной бизнес-задачи:\n",
    "'''\n",
    "import numpy as np\n",
    "\n",
    "\n",
    "def turnover_error(y_true: np.array, y_pred: np.array) -> float:\n",
    "    ''' метрика штрафующая за недобор'''\n",
    "    error = ((y_true - y_pred)/y_pred) ** 2\n",
    "\n",
    "    return np.mean(error)"
   ]
  },
  {
   "cell_type": "code",
   "execution_count": 4,
   "id": "ef1f0a94",
   "metadata": {
    "ExecuteTime": {
     "end_time": "2023-08-22T11:36:26.199690Z",
     "start_time": "2023-08-22T11:36:26.187688Z"
    }
   },
   "outputs": [
    {
     "data": {
      "text/plain": [
       "0.004504145408163265"
      ]
     },
     "execution_count": 4,
     "metadata": {},
     "output_type": "execute_result"
    }
   ],
   "source": [
    "turnover_error(np.array([30,30]), np.array([32,28]))"
   ]
  },
  {
   "cell_type": "code",
   "execution_count": 75,
   "id": "6e34aeee",
   "metadata": {
    "ExecuteTime": {
     "end_time": "2023-07-11T10:58:47.378254Z",
     "start_time": "2023-07-11T10:58:47.365610Z"
    }
   },
   "outputs": [
    {
     "data": {
      "text/plain": [
       "'Мы B2B финтех стартап – предоставляем депозиты/кредиты, куплю/продажу ценных бумаг и другие финансовые инструменты. У нас небольшое число очень крупных клиентов. Мы заключаем контракты минимум на 1 год и для принятия решения о сотрудничестве, мы разрабатываем модель, которая для потенциального клиента прогнозирует LTV (LifeTime Value, сколько денег нам принесёт клиент за всё время, что будет пользоваться нашим сервисом).\\n\\nПодумайте, что предпочтительнее: недооценить или переоценить стоимость потенциального клиента?\\n\\nВам необходимо выбрать или разработать функцию, отражающую ошибку для оценки модели прогноза LTV.'"
      ]
     },
     "execution_count": 75,
     "metadata": {},
     "output_type": "execute_result"
    },
    {
     "data": {
      "text/plain": [
       "'Мы B2B финтех стартап – предоставляем депозиты/кредиты, куплю/продажу ценных бумаг и другие финансовые инструменты. У нас небольшое число очень крупных клиентов. Мы заключаем контракты минимум на 1 год и для принятия решения о сотрудничестве, мы разрабатываем модель, которая для потенциального клиента прогнозирует LTV (LifeTime Value, сколько денег нам принесёт клиент за всё время, что будет пользоваться нашим сервисом).\\n\\nПодумайте, что предпочтительнее: недооценить или переоценить стоимость потенциального клиента?\\n\\nВам необходимо выбрать или разработать функцию, отражающую ошибку для оценки модели прогноза LTV.'"
      ]
     },
     "execution_count": 75,
     "metadata": {},
     "output_type": "execute_result"
    }
   ],
   "source": [
    "'''Мы B2B финтех стартап – предоставляем депозиты/кредиты, куплю/продажу ценных бумаг и другие финансовые инструменты. У нас небольшое число очень крупных клиентов. Мы заключаем контракты минимум на 1 год и для принятия решения о сотрудничестве, мы разрабатываем модель, которая для потенциального клиента прогнозирует LTV (LifeTime Value, сколько денег нам принесёт клиент за всё время, что будет пользоваться нашим сервисом).\n",
    "\n",
    "Подумайте, что предпочтительнее: недооценить или переоценить стоимость потенциального клиента?\n",
    "\n",
    "Вам необходимо выбрать или разработать функцию, отражающую ошибку для оценки модели прогноза LTV.'''"
   ]
  },
  {
   "cell_type": "code",
   "execution_count": 79,
   "id": "043a549d",
   "metadata": {
    "ExecuteTime": {
     "end_time": "2023-07-11T11:02:16.640091Z",
     "start_time": "2023-07-11T11:02:16.618155Z"
    }
   },
   "outputs": [
    {
     "data": {
      "text/plain": [
       "['Even', 'Odd', 'Even', 'Odd', 'Even', 'Odd', 'Even', 'Odd', 'Even', 'Odd']"
      ]
     },
     "execution_count": 79,
     "metadata": {},
     "output_type": "execute_result"
    }
   ],
   "source": [
    "[\"Even\" if i%2==0 else \"Odd\" for i in range(10)]"
   ]
  },
  {
   "cell_type": "code",
   "execution_count": 98,
   "id": "40721ee4",
   "metadata": {
    "ExecuteTime": {
     "end_time": "2023-07-11T11:08:08.039376Z",
     "start_time": "2023-07-11T11:08:08.036121Z"
    }
   },
   "outputs": [],
   "source": [
    "import numpy as np\n",
    "\n",
    "def ltv_error(y_true: np.array, y_pred: np.array) -> float:\n",
    "    '''метрика штрафующая за недобор'''\n",
    "    error = -1 * (y_true - y_pred) / y_pred\n",
    "    error = [0.000000001 if f < 0 else f for f in error]\n",
    "    return np.mean(error)"
   ]
  },
  {
   "cell_type": "code",
   "execution_count": 99,
   "id": "98e1b71e",
   "metadata": {
    "ExecuteTime": {
     "end_time": "2023-07-11T11:08:08.778260Z",
     "start_time": "2023-07-11T11:08:08.774493Z"
    }
   },
   "outputs": [
    {
     "data": {
      "text/plain": [
       "[0.0625, 0]"
      ]
     },
     "execution_count": 99,
     "metadata": {},
     "output_type": "execute_result"
    }
   ],
   "source": [
    "turnover_error(np.array([30, 30]), np.array([32, 28]))"
   ]
  }
 ],
 "metadata": {
  "kernelspec": {
   "display_name": "Python 3 (ipykernel)",
   "language": "python",
   "name": "python3"
  },
  "language_info": {
   "codemirror_mode": {
    "name": "ipython",
    "version": 3
   },
   "file_extension": ".py",
   "mimetype": "text/x-python",
   "name": "python",
   "nbconvert_exporter": "python",
   "pygments_lexer": "ipython3",
   "version": "3.10.12"
  },
  "varInspector": {
   "cols": {
    "lenName": 16,
    "lenType": 16,
    "lenVar": 40
   },
   "kernels_config": {
    "python": {
     "delete_cmd_postfix": "",
     "delete_cmd_prefix": "del ",
     "library": "var_list.py",
     "varRefreshCmd": "print(var_dic_list())"
    },
    "r": {
     "delete_cmd_postfix": ") ",
     "delete_cmd_prefix": "rm(",
     "library": "var_list.r",
     "varRefreshCmd": "cat(var_dic_list()) "
    }
   },
   "position": {
    "height": "161.85px",
    "left": "1977px",
    "right": "20px",
    "top": "154px",
    "width": "352.5px"
   },
   "types_to_exclude": [
    "module",
    "function",
    "builtin_function_or_method",
    "instance",
    "_Feature"
   ],
   "window_display": true
  }
 },
 "nbformat": 4,
 "nbformat_minor": 5
}
