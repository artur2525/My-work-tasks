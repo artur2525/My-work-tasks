{
 "cells": [
  {
   "cell_type": "markdown",
   "id": "45a636ea",
   "metadata": {},
   "source": [
    "Cumulative Gain\n",
    "\n",
    "Что бы понять какая модель ранжирует лучше давайте для двух версий CyberTolya сложим численные оценки релевантности, которые мы ввели ранее.\n",
    "\n",
    "CG@k=∑i=1k​reli​\n",
    "\n",
    "\n",
    "Представим, что мы взяли первые три видео по запросу `System design Валерий Бабушкин`\n",
    "у модели первый версии релевантности которых равны [0.99, 0.91, 0.83] и для второй версии соответственно [0.99, 0.94, 0.88].\n",
    "\n",
    "Тогда  для первой версии CGv1​=0.99+0.91+0.83=2.73, а для второй CGv2​=0.99+0.94+0.88=2.81\n",
    "\n",
    "Ура, теперь мы можем сравнить Анатолиев!  "
   ]
  },
  {
   "cell_type": "code",
   "execution_count": 1,
   "id": "e8ddf38a",
   "metadata": {
    "ExecuteTime": {
     "end_time": "2023-07-18T14:22:20.102243Z",
     "start_time": "2023-07-18T14:22:20.092508Z"
    }
   },
   "outputs": [],
   "source": [
    "from typing import List\n",
    "\n",
    "import numpy as np\n",
    "\n",
    "\n",
    "def cumulative_gain(relevance: List[float], k: int) -> float:\n",
    "    \"\"\"Score is cumulative gain at k (CG@k)\n",
    "\n",
    "    Parameters\n",
    "    ----------\n",
    "    relevance:  `List[float]`\n",
    "        Relevance labels (Ranks)\n",
    "    k : `int`\n",
    "        Number of elements to be counted\n",
    "\n",
    "    Returns\n",
    "    -------\n",
    "    score : float\n",
    "    \"\"\"\n",
    "    \n",
    "    score = np.sum(relevance[:k])\n",
    "    \n",
    "    return score\n"
   ]
  },
  {
   "cell_type": "code",
   "execution_count": 2,
   "id": "799338f8",
   "metadata": {
    "ExecuteTime": {
     "end_time": "2023-07-18T14:22:21.695808Z",
     "start_time": "2023-07-18T14:22:21.690268Z"
    }
   },
   "outputs": [
    {
     "name": "stdout",
     "output_type": "stream",
     "text": [
      "4.26\n"
     ]
    }
   ],
   "source": [
    "relevance = [0.99, 0.94, 0.88, 0.74, 0.71, 0.68]\n",
    "k = 5\n",
    "print(cumulative_gain(relevance, k))"
   ]
  },
  {
   "cell_type": "markdown",
   "id": "6dfac5be",
   "metadata": {},
   "source": [
    "Discounted Cumulative Gain\n",
    "\n",
    "Здесь на помощь приходит метрика DCG. Суть её довольно проста: давайте будем добавлять штраф к релевантности если важный документ попал в конец списка или добавлять вес если этот документ попал в начало списка выдачи.  \n",
    "\n",
    "DCG@k=∑i=1k​log2​(i+1)reli​​\n",
    "\n",
    "Давайте рассмотрим пример по запросу `Собеседование System design`:\n",
    "\n",
    "Релевантность документов для первой версии модели [0.99, 0.94, 0.88];\n",
    "\n",
    "Для второй версии: [0.99, 0.83, 0.89]. \n",
    "\n",
    "Тогда для первой версии DCGv1​=log2​(2)0.99​+ log2​(3)0.94​+ log2​(4)0.88​=2,023  \n",
    "\n",
    "И для второй версии DCGv2​=log2​(2)0.99​+ log2​(3)0.83​+ log2​(4)0.89​=1,958"
   ]
  },
  {
   "cell_type": "code",
   "execution_count": 8,
   "id": "76d7023d",
   "metadata": {
    "ExecuteTime": {
     "end_time": "2023-07-18T14:23:01.488708Z",
     "start_time": "2023-07-18T14:23:01.472986Z"
    }
   },
   "outputs": [],
   "source": [
    "from typing import List\n",
    "\n",
    "import numpy as np\n",
    "\n",
    "\n",
    "def discounted_cumulative_gain(relevance: List[float], k: int, method: str = \"standard\") -> float:\n",
    "    \"\"\"Discounted Cumulative Gain\n",
    "\n",
    "    Parameters\n",
    "    ----------\n",
    "    relevance : `List[float]`\n",
    "        Video relevance list\n",
    "    k : `int`\n",
    "        Count relevance to compute\n",
    "    method : `str`, optional\n",
    "        Metric implementation method, takes the values​​\n",
    "        `standard` - adds weight to the denominator\n",
    "        `industry` - adds weights to the numerator and denominator\n",
    "        `raise ValueError` - for any value\n",
    "\n",
    "    Returns\n",
    "    -------\n",
    "    score : `float`\n",
    "        Metric score\n",
    "    \"\"\"\n",
    "    try:\n",
    "        if method == \"standard\":\n",
    "            score = []\n",
    "            for j, i in enumerate(relevance[:k]):\n",
    "                score.append(i/np.log2(j + 1 + 1))\n",
    "            score = np.sum(score)\n",
    "\n",
    "        if method == \"industry\":\n",
    "            score = []\n",
    "            for j, i in enumerate(relevance[:k]):\n",
    "                score.append((2*i - 1)/np.log2(j + 1 + 1))\n",
    "            score = np.sum(score)\n",
    "\n",
    "        return score\n",
    "    except:\n",
    "        raise ValueError"
   ]
  },
  {
   "cell_type": "code",
   "execution_count": 9,
   "id": "26937b83",
   "metadata": {
    "ExecuteTime": {
     "end_time": "2023-07-18T14:23:05.988841Z",
     "start_time": "2023-07-18T14:23:05.906089Z"
    }
   },
   "outputs": [
    {
     "ename": "ValueError",
     "evalue": "",
     "output_type": "error",
     "traceback": [
      "\u001b[0;31m---------------------------------------------------------------------------\u001b[0m",
      "\u001b[0;31mUnboundLocalError\u001b[0m                         Traceback (most recent call last)",
      "Cell \u001b[0;32mIn[8], line 39\u001b[0m, in \u001b[0;36mdiscounted_cumulative_gain\u001b[0;34m(relevance, k, method)\u001b[0m\n\u001b[1;32m     37\u001b[0m         score \u001b[38;5;241m=\u001b[39m np\u001b[38;5;241m.\u001b[39msum(score)\n\u001b[0;32m---> 39\u001b[0m     \u001b[38;5;28;01mreturn\u001b[39;00m \u001b[43mscore\u001b[49m\n\u001b[1;32m     40\u001b[0m \u001b[38;5;28;01mexcept\u001b[39;00m:\n",
      "\u001b[0;31mUnboundLocalError\u001b[0m: local variable 'score' referenced before assignment",
      "\nDuring handling of the above exception, another exception occurred:\n",
      "\u001b[0;31mValueError\u001b[0m                                Traceback (most recent call last)",
      "Cell \u001b[0;32mIn[9], line 4\u001b[0m\n\u001b[1;32m      2\u001b[0m k \u001b[38;5;241m=\u001b[39m \u001b[38;5;241m5\u001b[39m\n\u001b[1;32m      3\u001b[0m method \u001b[38;5;241m=\u001b[39m \u001b[38;5;124m'\u001b[39m\u001b[38;5;124mo\u001b[39m\u001b[38;5;124m'\u001b[39m\n\u001b[0;32m----> 4\u001b[0m \u001b[38;5;28mprint\u001b[39m(\u001b[43mdiscounted_cumulative_gain\u001b[49m\u001b[43m(\u001b[49m\u001b[43mrelevance\u001b[49m\u001b[43m,\u001b[49m\u001b[43m \u001b[49m\u001b[43mk\u001b[49m\u001b[43m,\u001b[49m\u001b[43m \u001b[49m\u001b[43mmethod\u001b[49m\u001b[43m)\u001b[49m)\n",
      "Cell \u001b[0;32mIn[8], line 41\u001b[0m, in \u001b[0;36mdiscounted_cumulative_gain\u001b[0;34m(relevance, k, method)\u001b[0m\n\u001b[1;32m     39\u001b[0m     \u001b[38;5;28;01mreturn\u001b[39;00m score\n\u001b[1;32m     40\u001b[0m \u001b[38;5;28;01mexcept\u001b[39;00m:\n\u001b[0;32m---> 41\u001b[0m \t\u001b[38;5;28;01mraise\u001b[39;00m \u001b[38;5;167;01mValueError\u001b[39;00m\n",
      "\u001b[0;31mValueError\u001b[0m: "
     ]
    }
   ],
   "source": [
    "relevance = []\n",
    "k = 5\n",
    "method = 'o'\n",
    "print(discounted_cumulative_gain(relevance, k, method))\n"
   ]
  },
  {
   "cell_type": "markdown",
   "id": "a90d5579",
   "metadata": {},
   "source": [
    "> Normalized Discounted Cumulative Gain\n",
    "\n",
    "DCG@k - не нормированная метрика, что усложняют задачу сравнения. Допустим релевантности запроса `Собеседование System design` близки к 1, а запроса `Как красиво писать тексты?` наоборот к 0 (В первом случае такое происходит потому что на канале есть точно подходящие видео под запрос, а в случае второго запроса на нашем канале нет ничего похожего, несмотря на это мы тоже должны их учитывать).\n",
    "\n",
    "Возможно, Вам пригодиться в будущем усреднить результаты по запросам, но сложить муху к слону (запросы близкие к 0 и к 1) будет странно, поэтому лучше если они станут одного размера (нормировка).\n",
    "\n",
    "Один из простых методов нормирования — поделить на максимальное число. Что если мы посчитаем уже известную нам DCG, но изначально отсортируем релевантности в порядке убывания. Мы получим максимальное значение DCG для конкретного запроса и заданного набора выдачи (параметр k) или IDCG (Ideal Discounted Cumulaive Gain). \n",
    "\n",
    "Теперь, что бы получить nDCG (Normalized Discounted Cumulative Gain) достаточно поделить DCG на IDCG, а метрика станет нормированной от 0 до 1.  \n",
    "\n",
    "nDCG@k=IDCG@kDCG@k​\n"
   ]
  },
  {
   "cell_type": "code",
   "execution_count": 84,
   "id": "579ce8b0",
   "metadata": {
    "ExecuteTime": {
     "end_time": "2023-07-20T14:10:51.383525Z",
     "start_time": "2023-07-20T14:10:51.368237Z"
    }
   },
   "outputs": [],
   "source": [
    "from typing import List\n",
    "\n",
    "import numpy as np\n",
    "\n",
    "\n",
    "def normalized_dcg(relevance: List[float], k: int, method: str = \"standard\") -> float:\n",
    "    \"\"\"Normalized Discounted Cumulative Gain.\n",
    "\n",
    "    Parameters\n",
    "    ----------\n",
    "    relevance : `List[float]`\n",
    "        Video relevance list\n",
    "    k : `int`\n",
    "        Count relevance to compute\n",
    "    method : `str`, optional\n",
    "        Metric implementation method, takes the values\n",
    "        `standard` - adds weight to the denominator\n",
    "        `industry` - adds weights to the numerator and denominator\n",
    "        `raise ValueError` - for any value\n",
    "\n",
    "    Returns\n",
    "    -------\n",
    "    score : `float`\n",
    "        Metric score\n",
    "    \"\"\"\n",
    "   \n",
    "    if method == \"standard\":\n",
    "\n",
    "        score = []\n",
    "        for j, i in enumerate(relevance[:k]):\n",
    "            score.append((i/np.log2(j + 1 + 1)))\n",
    "        score_full = []\n",
    "        for j, i in enumerate(sorted(relevance, reverse=True)[:k]):\n",
    "            score_full.append((i/np.log2(j + 1 + 1)))\n",
    "\n",
    "        score = np.sum(score) / np.sum(score_full)\n",
    "\n",
    "    if method == \"industry\":\n",
    "\n",
    "\n",
    "        score = []\n",
    "        for j, i in enumerate(relevance[:k]):\n",
    "            score.append(((2**i) - 1) / np.log2(j + 1 + 1))\n",
    "        score_full = []\n",
    "\n",
    "        for j, i in enumerate(sorted(relevance, reverse=True)[:k]):\n",
    "            score_full.append(((2**i) - 1) / np.log2(j + 1 + 1))\n",
    "\n",
    "\n",
    "        score = np.sum(score) / np.sum(score_full)\n",
    "\n",
    "\n",
    "    return score\n",
    "\n",
    "    raise ValueError()\n",
    "    \n",
    "\n",
    "    "
   ]
  },
  {
   "cell_type": "code",
   "execution_count": 85,
   "id": "94caa163",
   "metadata": {
    "ExecuteTime": {
     "end_time": "2023-07-20T14:10:52.274477Z",
     "start_time": "2023-07-20T14:10:52.264829Z"
    }
   },
   "outputs": [
    {
     "name": "stdout",
     "output_type": "stream",
     "text": [
      "0.4835924712926883\n"
     ]
    }
   ],
   "source": [
    "relevance = [1, 1, 0, 5, 3, 0.68]\n",
    "k = 5\n",
    "method = 'industry'\n",
    "print(normalized_dcg(relevance, k, method))\n",
    "\n"
   ]
  },
  {
   "cell_type": "code",
   "execution_count": 18,
   "id": "366ab157",
   "metadata": {
    "ExecuteTime": {
     "end_time": "2023-07-20T14:33:18.312535Z",
     "start_time": "2023-07-20T14:33:18.290375Z"
    }
   },
   "outputs": [],
   "source": [
    "from typing import List\n",
    "\n",
    "import numpy as np\n",
    "\n",
    "def avg_ndcg(list_relevances: List[List[float]], k: int, method: str = 'standard') -> float:\n",
    "    \"\"\"Average nDCG\n",
    "\n",
    "    Parameters\n",
    "    ----------\n",
    "    list_relevances : `List[List[float]]`\n",
    "        Video relevance matrix for various queries\n",
    "    k : `int`\n",
    "        Count relevance to compute\n",
    "    method : `str`, optional\n",
    "        Metric implementation method, takes the values ​​\\\n",
    "        `standard` - adds weight to the denominator\\\n",
    "        `industry` - adds weights to the numerator and denominator\\\n",
    "        `raise ValueError` - for any value\n",
    "\n",
    "    Returns\n",
    "    -------\n",
    "    score : `float`\n",
    "        Metric score\n",
    "    \"\"\"\n",
    "\n",
    "    ...\n",
    "    try:\n",
    "        scores = []\n",
    "        \n",
    "        if method == \"standard\":\n",
    "            for relevance in list_relevances:\n",
    "                score = []\n",
    "                for j, i in enumerate(relevance[:k]):\n",
    "                    score.append((i/np.log2(j + 1 + 1)))\n",
    "                score_full = []\n",
    "                for j, i in enumerate(sorted(relevance, reverse=True)[:k]):\n",
    "                    score_full.append((i/np.log2(j + 1 + 1)))\n",
    "\n",
    "                score = np.sum(score) / np.sum(score_full)\n",
    "                scores.append(score)\n",
    "                \n",
    "        if method == \"industry\":\n",
    "            for relevance in list_relevances:\n",
    "\n",
    "                score = []\n",
    "                for j, i in enumerate(relevance[:k]):\n",
    "                    score.append(((2**i) - 1) / np.log2(j + 1 + 1))\n",
    "                score_full = []\n",
    "\n",
    "                for j, i in enumerate(sorted(relevance, reverse=True)[:k]):\n",
    "                    score_full.append(((2**i) - 1) / np.log2(j + 1 + 1))\n",
    "\n",
    "\n",
    "                score = np.sum(score) / np.sum(score_full)\n",
    "\n",
    "                scores.append(score)\n",
    "\n",
    "        return np.sum(np.array(scores)/len(list_relevances))\n",
    "        \n",
    "    except:\n",
    "        raise ValueError()"
   ]
  },
  {
   "cell_type": "code",
   "execution_count": 19,
   "id": "dd7f1e35",
   "metadata": {
    "ExecuteTime": {
     "end_time": "2023-07-20T14:33:20.008878Z",
     "start_time": "2023-07-20T14:33:20.003105Z"
    }
   },
   "outputs": [
    {
     "name": "stdout",
     "output_type": "stream",
     "text": [
      "0.9961322104432755\n"
     ]
    }
   ],
   "source": [
    ">>> list_relevances = [\n",
    "        [0.99, 0.94, 0.88, 0.89, 0.72, 0.65],\n",
    "        [0.99, 0.92, 0.93, 0.74, 0.61, 0.68], \n",
    "        [0.99, 0.96, 0.81, 0.73, 0.76, 0.69]\n",
    "    ]  \n",
    ">>> k = 5\n",
    ">>> method = 'standard'\n",
    ">>> print(avg_ndcg(list_relevances, k, method))\n",
    "\n"
   ]
  },
  {
   "cell_type": "code",
   "execution_count": 11,
   "id": "6c4868c5",
   "metadata": {
    "ExecuteTime": {
     "end_time": "2023-07-20T14:30:32.389478Z",
     "start_time": "2023-07-20T14:30:32.379291Z"
    }
   },
   "outputs": [
    {
     "data": {
      "text/plain": [
       "6"
      ]
     },
     "execution_count": 11,
     "metadata": {},
     "output_type": "execute_result"
    }
   ],
   "source": [
    "len(list_relevances[0])"
   ]
  },
  {
   "cell_type": "code",
   "execution_count": 20,
   "id": "7d7ce972",
   "metadata": {
    "ExecuteTime": {
     "end_time": "2023-07-21T08:09:29.146305Z",
     "start_time": "2023-07-21T08:09:29.143882Z"
    }
   },
   "outputs": [],
   "source": [
    "d = list_relevances[0]\n",
    "a = list_relevances[1]"
   ]
  },
  {
   "cell_type": "code",
   "execution_count": 21,
   "id": "877ba676",
   "metadata": {
    "ExecuteTime": {
     "end_time": "2023-07-21T08:09:34.371270Z",
     "start_time": "2023-07-21T08:09:34.358807Z"
    }
   },
   "outputs": [
    {
     "data": {
      "text/plain": [
       "array([1.        , 1.02173913, 0.94623656, 1.2027027 , 1.18032787,\n",
       "       0.95588235])"
      ]
     },
     "execution_count": 21,
     "metadata": {},
     "output_type": "execute_result"
    }
   ],
   "source": [
    "np.divide(d, a)"
   ]
  },
  {
   "cell_type": "code",
   "execution_count": 6,
   "id": "9812fa82",
   "metadata": {
    "ExecuteTime": {
     "end_time": "2023-07-20T14:26:47.440116Z",
     "start_time": "2023-07-20T14:26:47.429388Z"
    }
   },
   "outputs": [
    {
     "data": {
      "text/plain": [
       "0.9961"
      ]
     },
     "execution_count": 6,
     "metadata": {},
     "output_type": "execute_result"
    }
   ],
   "source": [
    "0.9961"
   ]
  }
 ],
 "metadata": {
  "kernelspec": {
   "display_name": "Python 3 (ipykernel)",
   "language": "python",
   "name": "python3"
  },
  "language_info": {
   "codemirror_mode": {
    "name": "ipython",
    "version": 3
   },
   "file_extension": ".py",
   "mimetype": "text/x-python",
   "name": "python",
   "nbconvert_exporter": "python",
   "pygments_lexer": "ipython3",
   "version": "3.10.6"
  },
  "varInspector": {
   "cols": {
    "lenName": 16,
    "lenType": 16,
    "lenVar": 40
   },
   "kernels_config": {
    "python": {
     "delete_cmd_postfix": "",
     "delete_cmd_prefix": "del ",
     "library": "var_list.py",
     "varRefreshCmd": "print(var_dic_list())"
    },
    "r": {
     "delete_cmd_postfix": ") ",
     "delete_cmd_prefix": "rm(",
     "library": "var_list.r",
     "varRefreshCmd": "cat(var_dic_list()) "
    }
   },
   "types_to_exclude": [
    "module",
    "function",
    "builtin_function_or_method",
    "instance",
    "_Feature"
   ],
   "window_display": false
  }
 },
 "nbformat": 4,
 "nbformat_minor": 5
}
